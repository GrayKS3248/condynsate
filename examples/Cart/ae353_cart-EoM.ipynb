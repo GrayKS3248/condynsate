{
 "cells": [
  {
   "cell_type": "markdown",
   "id": "2007dcef-1578-445a-8fd6-b583ef5ec03b",
   "metadata": {},
   "source": [
    "# System Dynamics and Equations of Motion"
   ]
  },
  {
   "cell_type": "markdown",
   "id": "2d736eb4-043e-4f23-9e4a-a1bd3f971ca7",
   "metadata": {},
   "source": [
    "This is the model of the cart. There are two generalized coordinates: $\\theta$ (the pendulum angle) and $\\phi$ (the wheel angle). Because we assume that all the wheels are rolling without slipping, each wheel has the same angle. Further, the $x$ coordinate of the cart can be expressed in terms of the wheel angle and the radius of the wheels, $r$. Lastly, the input to the system is some torque, $\\tau$, that is applied equally to all the wheels."
   ]
  },
  {
   "cell_type": "markdown",
   "id": "3b206d79-b36a-427b-b689-f1a147e3bb90",
   "metadata": {},
   "source": [
    "The first step in the Lagrangian mechanics approach is to calculate the total kinetic energy of the system and the total potential energy of the system with respect to the generalized coordinates and their derivatives. We can do this using the Python package Sympy."
   ]
  },
  {
   "cell_type": "code",
   "execution_count": null,
   "id": "f7de296c-7a40-48cb-8a59-317a2509cc7c",
   "metadata": {},
   "outputs": [],
   "source": [
    "# Import everything we need from SymPy\n",
    "import sympy as sym\n",
    "import numpy as np\n",
    "from sympy import Symbol, Matrix, Function, Derivative, N\n",
    "from sympy import diff, simplify, sin, cos, solve, init_printing, symbols, lambdify\n",
    "init_printing() # This function will make the outputs of SymPy look prettier and be easier to read"
   ]
  },
  {
   "cell_type": "markdown",
   "id": "a4b88b61-c603-4b0b-b1a6-564ea183697d",
   "metadata": {},
   "source": [
    "Now we are going to define the parameters of the system as constants:"
   ]
  },
  {
   "cell_type": "code",
   "execution_count": null,
   "id": "456db72d-e7c7-4098-95fe-885cc8201dfe",
   "metadata": {},
   "outputs": [],
   "source": [
    "# Constants of the system\n",
    "mp = 1.0\n",
    "mc = 2.0\n",
    "mw = 0.25\n",
    "l = 1.0\n",
    "r = 0.25\n",
    "g = 9.81"
   ]
  },
  {
   "cell_type": "markdown",
   "id": "b3e79948-102a-4f79-8877-dfa4fe7090c7",
   "metadata": {},
   "source": [
    "Now we make symbols and functions. These are elements of SymPy and can be thought of as exactly the same as symbols (variables) and functions from math."
   ]
  },
  {
   "cell_type": "code",
   "execution_count": null,
   "id": "9f463ceb-8785-43a0-9d5b-0c613dc0574a",
   "metadata": {},
   "outputs": [],
   "source": [
    "# Time is a symbol (variable)\n",
    "t = Symbol('t')\n",
    "\n",
    "# The generalized coordinates and the input torque are both functions of time.\n",
    "# This means that they are initialized as Functions.\n",
    "theta = Function('theta')\n",
    "phi = Function('phi')\n",
    "tau = Function('tau')"
   ]
  },
  {
   "cell_type": "markdown",
   "id": "6f37605e-5152-46a4-8c63-0a0e868b6f50",
   "metadata": {},
   "source": [
    "Now we will start to calculate the energies of the system. We can start by getting the kinetic energy of the mass on top of the pendulum. We can do this by:\n",
    "1. Defining its position in terms of the generalized coordinates\n",
    "2. Take the derivate of the position with respect to time to get the velocity\n",
    "3. Calculate the kinetic energy from the velocity\n",
    "4. Calculate the potential energy by observation"
   ]
  },
  {
   "cell_type": "code",
   "execution_count": null,
   "id": "e3f8a289-b422-4d89-a08e-6b738c441832",
   "metadata": {},
   "outputs": [],
   "source": [
    "# Get the position of the mass in terms of phi and theta\n",
    "pos = Matrix([-r*phi(t) - l*sin( theta(t) ),\n",
    "              0.0,\n",
    "              l*cos( theta(t) )])"
   ]
  },
  {
   "cell_type": "code",
   "execution_count": null,
   "id": "da62c9fe-0b57-434b-801b-17c4a23a711c",
   "metadata": {},
   "outputs": [],
   "source": [
    "# Take the derivative of the position with respect to time\n",
    "vel = diff(pos,t)"
   ]
  },
  {
   "cell_type": "code",
   "execution_count": null,
   "id": "a9aea6c1-cdaa-4565-905a-52f655571220",
   "metadata": {},
   "outputs": [],
   "source": [
    "# Get the kinetic energy of the mass from the velocity\n",
    "mass_KE = 0.5 * mp * (vel.T @ vel)[0,0]"
   ]
  },
  {
   "cell_type": "code",
   "execution_count": null,
   "id": "c849be97-8919-42fe-b3de-9b5199a2e854",
   "metadata": {},
   "outputs": [],
   "source": [
    "# Get the potential energy of the mass based on its position\n",
    "mass_PE = mp*g*l*cos(theta(t))"
   ]
  },
  {
   "cell_type": "markdown",
   "id": "c17e29fd-d2f8-41c2-8738-6a028f0b8993",
   "metadata": {},
   "source": [
    "Because the connecting rod of the pendulum has no mass nor mass moment of inertia, we can move on the the energy of the cart. The cart does not change height, so we can just set its potential energy to 0. This means all we have to do is calculate the kinetic energy."
   ]
  },
  {
   "cell_type": "code",
   "execution_count": null,
   "id": "b63af795-d9d8-473c-b4d7-173f7849577a",
   "metadata": {},
   "outputs": [],
   "source": [
    "# Get the position of the cart in terms of phi and theta\n",
    "pos = Matrix([-phi(t)*r,\n",
    "              0.0,\n",
    "              0.0])"
   ]
  },
  {
   "cell_type": "code",
   "execution_count": null,
   "id": "c481d0c0-a9b5-46da-91ec-528a05637df4",
   "metadata": {},
   "outputs": [],
   "source": [
    "# Take the derivative of the position with respect to time\n",
    "vel = diff(pos,t)"
   ]
  },
  {
   "cell_type": "code",
   "execution_count": null,
   "id": "f0fa548c-cdef-4c30-b7ad-56fa75282a96",
   "metadata": {},
   "outputs": [],
   "source": [
    "# Get the kinetic energy of the cart from the velocity\n",
    "cart_KE = 0.5 * mc * (vel.T @ vel)[0,0]"
   ]
  },
  {
   "cell_type": "markdown",
   "id": "caed9432-1714-402d-b608-344347a7354a",
   "metadata": {},
   "source": [
    "Next up, the wheels. For the same reason as the cart, we set their potential energy to 0 also. This means we just need to calculate thier kinetic and rotational energy. Also, while calculating the position, we will ignore the constant offsets that each of the four wheels have (length and width of the wheel base). We can do this because constants disappear during differentiation."
   ]
  },
  {
   "cell_type": "code",
   "execution_count": null,
   "id": "107fd111-0627-4bbc-805e-ea84bcb07cc3",
   "metadata": {},
   "outputs": [],
   "source": [
    "# Get the position of the wheels in terms of phi and theta\n",
    "pos = Matrix([-phi(t)*r,\n",
    "              0.0,\n",
    "              0.0])"
   ]
  },
  {
   "cell_type": "code",
   "execution_count": null,
   "id": "f66c36e4-e63a-42b7-90b8-b14a9b3f9b96",
   "metadata": {},
   "outputs": [],
   "source": [
    "# Take the derivative of the position with respect to time\n",
    "vel = diff(pos,t)"
   ]
  },
  {
   "cell_type": "code",
   "execution_count": null,
   "id": "06c9c7db-6d9a-4746-b52d-1b04c87f5355",
   "metadata": {},
   "outputs": [],
   "source": [
    "# Get the kinetic energy of all four wheels from the velocity\n",
    "wheel_KE = 4.0 * (0.5 * mw * (vel.T @ vel)[0,0])"
   ]
  },
  {
   "cell_type": "code",
   "execution_count": null,
   "id": "495ed917-c0ec-4358-accb-880e5474c248",
   "metadata": {},
   "outputs": [],
   "source": [
    "# Get the rotational kinetic energy of all four wheels\n",
    "I = 0.5*mw*r**2\n",
    "wheel_RE = 4.0*(I*diff(phi(t),t)**2)"
   ]
  },
  {
   "cell_type": "markdown",
   "id": "d88397df-bf5c-42c7-bb6b-ad29086a625f",
   "metadata": {},
   "source": [
    "Now we calculate the lagrangian of the system via the formula:$$L=T-V$$ where $T$ is the total kinetic energy and $V$ is the total potential energy."
   ]
  },
  {
   "cell_type": "code",
   "execution_count": null,
   "id": "5a0a2609-c15f-4441-bdd7-d984278375ad",
   "metadata": {},
   "outputs": [],
   "source": [
    "# Get the lagrangian\n",
    "L = (mass_KE + cart_KE + wheel_KE + wheel_RE) - mass_PE\n",
    "print(\"System Lagrangian:\")\n",
    "L = simplify(L)\n",
    "N(L, 3) # This rounds floating point number to 3 places and then prints to the screen"
   ]
  },
  {
   "cell_type": "markdown",
   "id": "6c960338-eefa-4c28-82e2-bfcdb82aff95",
   "metadata": {},
   "source": [
    "Finally, we get the equations of motion of the system via the formulas:\n",
    "$$\\frac{d}{dt} \\left( \\frac{\\partial L}{\\partial \\dot{\\theta}} \\right) - \\frac{\\partial L}{\\partial \\theta}=0$$\n",
    "$$\\frac{d}{dt} \\left( \\frac{\\partial L}{\\partial \\dot{\\phi}} \\right) - \\frac{\\partial L}{\\partial \\phi}=\\tau$$"
   ]
  },
  {
   "cell_type": "code",
   "execution_count": null,
   "id": "9b09fffa-1a8f-4ccb-98f5-087250f073d1",
   "metadata": {},
   "outputs": [],
   "source": [
    "# Get the first equation of motion\n",
    "f1 = diff(diff(L, Derivative(theta(t), t)), t) - diff(L, theta(t))"
   ]
  },
  {
   "cell_type": "code",
   "execution_count": null,
   "id": "6b6b0f2a-29d5-408d-bf6d-e4b217898103",
   "metadata": {},
   "outputs": [],
   "source": [
    "# Get the second equation of motion\n",
    "f2 = diff(diff(L, Derivative(phi(t), t)), t) - diff(L, phi(t)) - 4.0*tau(t)"
   ]
  },
  {
   "cell_type": "markdown",
   "id": "30359c9d-0dd0-4cc0-95f5-067abe764e90",
   "metadata": {},
   "source": [
    "Currently, the equations of motion are in the form:\n",
    "$$\n",
    "f_1 \\left( \\frac{\\partial^{2} \\theta}{\\partial t^{2}}, \\frac{\\partial^{2} \\phi}{\\partial t^{2}}, \\frac{\\partial \\theta}{\\partial t}, \\frac{\\partial \\phi}{\\partial t}, \\theta, \\phi, \\tau \\right) = 0\n",
    "$$\n",
    "$$\n",
    "f_2 \\left( \\frac{\\partial^{2} \\theta}{\\partial t^{2}}, \\frac{\\partial^{2} \\phi}{\\partial t^{2}}, \\frac{\\partial \\theta}{\\partial t}, \\frac{\\partial \\phi}{\\partial t}, \\theta, \\phi, \\tau \\right) = 0\n",
    "$$\n",
    "\n",
    "This form of equations of motion is not very helpful to us right now, so next we will place them in the form:\n",
    "$$\n",
    "\\frac{\\partial^{2} \\theta}{\\partial t^{2}} = f_{\\theta} \\left( \\frac{\\partial \\theta}{\\partial t}, \\frac{\\partial \\phi}{\\partial t}, \\theta, \\phi, \\tau \\right)\n",
    "$$\n",
    "$$\n",
    "\\frac{\\partial^{2} \\phi}{\\partial t^{2}} = f_{\\phi} \\left( \\frac{\\partial \\theta}{\\partial t}, \\frac{\\partial \\phi}{\\partial t}, \\theta, \\phi, \\tau \\right)\n",
    "$$"
   ]
  },
  {
   "cell_type": "code",
   "execution_count": null,
   "id": "f51d8f68-0704-428f-b256-813bb26be2d5",
   "metadata": {},
   "outputs": [],
   "source": [
    "# Solve the first two equations of motion for the second order derivatives\n",
    "soln = solve([f1, f2],\n",
    "             Derivative(theta(t), (t, 2)),\n",
    "             Derivative(phi(t), (t, 2)))\n",
    "soln = simplify(soln)\n",
    "f_theta = soln[Derivative(theta(t), (t, 2))]\n",
    "f_phi = soln[Derivative(phi(t), (t, 2))]"
   ]
  },
  {
   "cell_type": "markdown",
   "id": "4fd6bf14-d7c7-4df0-b06b-09b0199822a3",
   "metadata": {},
   "source": [
    "Let's now combine these two equations into a single vector and replace the functions of time with symbols (this will make the linearization steps easier)."
   ]
  },
  {
   "cell_type": "code",
   "execution_count": null,
   "id": "cf61ac6a-c526-4422-8267-a5d353fdcdc9",
   "metadata": {},
   "outputs": [],
   "source": [
    "# Build the equations of motion vector\n",
    "f = Matrix([f_theta,\n",
    "            f_phi])\n",
    "\n",
    "# Replace the functions of time with symbols\n",
    "(v1, v2, v3, v4, v5) = symbols('v1, v2, v3, v4, v5')\n",
    "f = f.subs({Derivative(theta(t), t) : v1,\n",
    "            Derivative(phi(t), t) : v2,\n",
    "            theta(t) : v3,\n",
    "            phi(t) : v4,\n",
    "            tau(t) : v5})\n",
    "(thetadot, phidot, theta, phi, tau) = symbols('thetadot, phidot, theta, phi, tau')\n",
    "f = f.subs({v1 : thetadot,\n",
    "            v2 : phidot,\n",
    "            v3 : theta,\n",
    "            v4 : phi,\n",
    "            v5 : tau})\n",
    "\n",
    "# Simplify\n",
    "f = simplify(f)"
   ]
  },
  {
   "cell_type": "markdown",
   "id": "ee3c804f-4d34-4737-883c-912c53fdfa84",
   "metadata": {},
   "source": [
    "$f$ is our system model such that:\n",
    "$$\n",
    "\\begin{bmatrix}\n",
    "\\ddot{\\theta} \\\\\n",
    "\\ddot{\\phi} \\\\\n",
    "\\end{bmatrix} = f(\\dot{\\theta}, \\dot{\\phi}, \\theta, \\phi, \\tau)\n",
    "$$\n",
    "Note that both of these ODEs are second-order — you will have to replace them each with a set of two first-order ODEs, as usual."
   ]
  },
  {
   "cell_type": "code",
   "execution_count": null,
   "id": "1879abf3-ce9a-44a7-b7e7-df4858100bf7",
   "metadata": {},
   "outputs": [],
   "source": [
    "N(f, 3) # This rounds floating point number to 3 places and then prints to the screen"
   ]
  }
 ],
 "metadata": {
  "kernelspec": {
   "display_name": "Python 3 (ipykernel)",
   "language": "python",
   "name": "python3"
  },
  "language_info": {
   "codemirror_mode": {
    "name": "ipython",
    "version": 3
   },
   "file_extension": ".py",
   "mimetype": "text/x-python",
   "name": "python",
   "nbconvert_exporter": "python",
   "pygments_lexer": "ipython3",
   "version": "3.11.7"
  }
 },
 "nbformat": 4,
 "nbformat_minor": 5
}
