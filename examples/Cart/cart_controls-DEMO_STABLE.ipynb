{
 "cells": [
  {
   "cell_type": "markdown",
   "id": "2007dcef-1578-445a-8fd6-b583ef5ec03b",
   "metadata": {
    "jp-MarkdownHeadingCollapsed": true
   },
   "source": [
    "# System Dynamics and Equations of Motion"
   ]
  },
  {
   "cell_type": "markdown",
   "id": "2d736eb4-043e-4f23-9e4a-a1bd3f971ca7",
   "metadata": {},
   "source": [
    "This is the model of the cart. There are two generalized coordinates: $\\theta$ (the pendulum angle) and $\\phi$ (the wheel angle). Because we assume that all the wheels are rolling without slipping, each wheel has the same angle. Further, the $x$ coordinate of the cart can be expressed in terms of the wheel angle and the radius of the wheels, $r$. Lastly, the input to the system is some torque, $\\tau$, that is applied equally to all the wheels."
   ]
  },
  {
   "cell_type": "markdown",
   "id": "3b206d79-b36a-427b-b689-f1a147e3bb90",
   "metadata": {},
   "source": [
    "The first step in the Lagrangian mechanics approach is to calculate the total kinetic energy of the system and the total potential energy of the system with respect to the generalized coordinates and their derivatives. We can do this using the Python package Sympy."
   ]
  },
  {
   "cell_type": "code",
   "execution_count": 1,
   "id": "f7de296c-7a40-48cb-8a59-317a2509cc7c",
   "metadata": {},
   "outputs": [],
   "source": [
    "# Import everything we need from SymPy\n",
    "import sympy as sym\n",
    "import numpy as np\n",
    "from sympy import Symbol, Matrix, Function, Derivative, N\n",
    "from sympy import diff, simplify, sin, cos, solve, init_printing, symbols, lambdify\n",
    "init_printing() # This function will make the outputs of SymPy look prettier and be easier to read"
   ]
  },
  {
   "cell_type": "markdown",
   "id": "a4b88b61-c603-4b0b-b1a6-564ea183697d",
   "metadata": {},
   "source": [
    "Now we are going to define the parameters of the system as constants:"
   ]
  },
  {
   "cell_type": "code",
   "execution_count": 2,
   "id": "456db72d-e7c7-4098-95fe-885cc8201dfe",
   "metadata": {},
   "outputs": [],
   "source": [
    "# Constants of the system\n",
    "mp = 1.0\n",
    "mc = 2.0\n",
    "mw = 0.25\n",
    "l = 1.0\n",
    "r = 0.25\n",
    "g = 9.81"
   ]
  },
  {
   "cell_type": "markdown",
   "id": "b3e79948-102a-4f79-8877-dfa4fe7090c7",
   "metadata": {},
   "source": [
    "Now we make symbols and functions. These are elements of SymPy and can be thought of as exactly the same as symbols (variables) and functions from math."
   ]
  },
  {
   "cell_type": "code",
   "execution_count": 3,
   "id": "9f463ceb-8785-43a0-9d5b-0c613dc0574a",
   "metadata": {},
   "outputs": [],
   "source": [
    "# Time is a symbol (variable)\n",
    "t = Symbol('t')\n",
    "\n",
    "# The generalized coordinates and the input torque are both functions of time.\n",
    "# This means that they are initialized as Functions.\n",
    "theta = Function('theta')\n",
    "phi = Function('phi')\n",
    "tau = Function('tau')"
   ]
  },
  {
   "cell_type": "markdown",
   "id": "6f37605e-5152-46a4-8c63-0a0e868b6f50",
   "metadata": {},
   "source": [
    "Now we will start to calculate the energies of the system. We can start by getting the kinetic energy of the mass on top of the pendulum. We can do this by:\n",
    "1. Defining its position in terms of the generalized coordinates\n",
    "2. Take the derivate of the position with respect to time to get the velocity\n",
    "3. Calculate the kinetic energy from the velocity\n",
    "4. Calculate the potential energy by observation"
   ]
  },
  {
   "cell_type": "code",
   "execution_count": 4,
   "id": "e3f8a289-b422-4d89-a08e-6b738c441832",
   "metadata": {},
   "outputs": [],
   "source": [
    "# Get the position of the mass in terms of phi and theta\n",
    "pos = Matrix([-r*phi(t) - l*sin( theta(t) ),\n",
    "              0.0,\n",
    "              l*cos( theta(t) )])"
   ]
  },
  {
   "cell_type": "code",
   "execution_count": 5,
   "id": "da62c9fe-0b57-434b-801b-17c4a23a711c",
   "metadata": {},
   "outputs": [],
   "source": [
    "# Take the derivative of the position with respect to time\n",
    "vel = diff(pos,t)"
   ]
  },
  {
   "cell_type": "code",
   "execution_count": 6,
   "id": "a9aea6c1-cdaa-4565-905a-52f655571220",
   "metadata": {},
   "outputs": [],
   "source": [
    "# Get the kinetic energy of the mass from the velocity\n",
    "mass_KE = 0.5 * mp * (vel.T @ vel)[0,0]"
   ]
  },
  {
   "cell_type": "code",
   "execution_count": 7,
   "id": "c849be97-8919-42fe-b3de-9b5199a2e854",
   "metadata": {},
   "outputs": [],
   "source": [
    "# Get the potential energy of the mass based on its position\n",
    "mass_PE = mp*g*l*cos(theta(t))"
   ]
  },
  {
   "cell_type": "markdown",
   "id": "c17e29fd-d2f8-41c2-8738-6a028f0b8993",
   "metadata": {},
   "source": [
    "Because the connecting rod of the pendulum has no mass nor mass moment of inertia, we can move on the the energy of the cart. The cart does not change height, so we can just set its potential energy to 0. This means all we have to do is calculate the kinetic energy."
   ]
  },
  {
   "cell_type": "code",
   "execution_count": 8,
   "id": "b63af795-d9d8-473c-b4d7-173f7849577a",
   "metadata": {},
   "outputs": [],
   "source": [
    "# Get the position of the cart in terms of phi and theta\n",
    "pos = Matrix([-phi(t)*r,\n",
    "              0.0,\n",
    "              0.0])"
   ]
  },
  {
   "cell_type": "code",
   "execution_count": 9,
   "id": "c481d0c0-a9b5-46da-91ec-528a05637df4",
   "metadata": {},
   "outputs": [],
   "source": [
    "# Take the derivative of the position with respect to time\n",
    "vel = diff(pos,t)"
   ]
  },
  {
   "cell_type": "code",
   "execution_count": 10,
   "id": "f0fa548c-cdef-4c30-b7ad-56fa75282a96",
   "metadata": {},
   "outputs": [],
   "source": [
    "# Get the kinetic energy of the cart from the velocity\n",
    "cart_KE = 0.5 * mc * (vel.T @ vel)[0,0]"
   ]
  },
  {
   "cell_type": "markdown",
   "id": "caed9432-1714-402d-b608-344347a7354a",
   "metadata": {},
   "source": [
    "Next up, the wheels. For the same reason as the cart, we set their potential energy to 0 also. This means we just need to calculate thier kinetic and rotational energy. Also, while calculating the position, we will ignore the constant offsets that each of the four wheels have (length and width of the wheel base). We can do this because constants disappear during differentiation."
   ]
  },
  {
   "cell_type": "code",
   "execution_count": 11,
   "id": "107fd111-0627-4bbc-805e-ea84bcb07cc3",
   "metadata": {},
   "outputs": [],
   "source": [
    "# Get the position of the wheels in terms of phi and theta\n",
    "pos = Matrix([-phi(t)*r,\n",
    "              0.0,\n",
    "              0.0])"
   ]
  },
  {
   "cell_type": "code",
   "execution_count": 12,
   "id": "f66c36e4-e63a-42b7-90b8-b14a9b3f9b96",
   "metadata": {},
   "outputs": [],
   "source": [
    "# Take the derivative of the position with respect to time\n",
    "vel = diff(pos,t)"
   ]
  },
  {
   "cell_type": "code",
   "execution_count": 13,
   "id": "06c9c7db-6d9a-4746-b52d-1b04c87f5355",
   "metadata": {},
   "outputs": [],
   "source": [
    "# Get the kinetic energy of all four wheels from the velocity\n",
    "wheel_KE = 4.0 * (0.5 * mw * (vel.T @ vel)[0,0])"
   ]
  },
  {
   "cell_type": "code",
   "execution_count": 14,
   "id": "495ed917-c0ec-4358-accb-880e5474c248",
   "metadata": {},
   "outputs": [],
   "source": [
    "# Get the rotational kinetic energy of all four wheels\n",
    "I = 0.5*mw*r**2\n",
    "wheel_RE = 4.0*(I*diff(phi(t),t)**2)"
   ]
  },
  {
   "cell_type": "markdown",
   "id": "d88397df-bf5c-42c7-bb6b-ad29086a625f",
   "metadata": {},
   "source": [
    "Now we calculate the lagrangian of the system via the formula:$$L=T-V$$ where $T$ is the total kinetic energy and $V$ is the total potential energy."
   ]
  },
  {
   "cell_type": "code",
   "execution_count": 15,
   "id": "5a0a2609-c15f-4441-bdd7-d984278375ad",
   "metadata": {},
   "outputs": [
    {
     "name": "stdout",
     "output_type": "stream",
     "text": [
      "System Lagrangian:\n"
     ]
    },
    {
     "data": {
      "image/png": "[encoded data removed]",
      "text/latex": [
       "$\\displaystyle 0.25 \\cos{\\left(\\theta{\\left(t \\right)} \\right)} \\frac{d}{d t} \\phi{\\left(t \\right)} \\frac{d}{d t} \\theta{\\left(t \\right)} - 9.81 \\cos{\\left(\\theta{\\left(t \\right)} \\right)} + 0.156 \\left(\\frac{d}{d t} \\phi{\\left(t \\right)}\\right)^{2} + 0.5 \\left(\\frac{d}{d t} \\theta{\\left(t \\right)}\\right)^{2}$"
      ],
      "text/plain": [
       "                                                                    2                 2\n",
       "               d        d                                 ⎛d       ⎞        ⎛d       ⎞ \n",
       "0.25⋅cos(θ(t))⋅──(φ(t))⋅──(θ(t)) - 9.81⋅cos(θ(t)) + 0.156⋅⎜──(φ(t))⎟  + 0.5⋅⎜──(θ(t))⎟ \n",
       "               dt       dt                                ⎝dt      ⎠        ⎝dt      ⎠ "
      ]
     },
     "execution_count": 15,
     "metadata": {},
     "output_type": "execute_result"
    }
   ],
   "source": [
    "# Get the lagrangian\n",
    "L = (mass_KE + cart_KE + wheel_KE + wheel_RE) - mass_PE\n",
    "print(\"System Lagrangian:\")\n",
    "L = simplify(L)\n",
    "N(L, 3) # This rounds floating point number to 3 places and then prints to the screen"
   ]
  },
  {
   "cell_type": "markdown",
   "id": "6c960338-eefa-4c28-82e2-bfcdb82aff95",
   "metadata": {},
   "source": [
    "Finally, we get the equations of motion of the system via the formulas:\n",
    "$$\\frac{d}{dt} \\left( \\frac{\\partial L}{\\partial \\dot{\\theta}} \\right) - \\frac{\\partial L}{\\partial \\theta}=0$$\n",
    "$$\\frac{d}{dt} \\left( \\frac{\\partial L}{\\partial \\dot{\\phi}} \\right) - \\frac{\\partial L}{\\partial \\phi}=\\tau$$"
   ]
  },
  {
   "cell_type": "code",
   "execution_count": 16,
   "id": "9b09fffa-1a8f-4ccb-98f5-087250f073d1",
   "metadata": {},
   "outputs": [],
   "source": [
    "# Get the first equation of motion\n",
    "f1 = diff(diff(L, Derivative(theta(t), t)), t) - diff(L, theta(t))"
   ]
  },
  {
   "cell_type": "code",
   "execution_count": 17,
   "id": "6b6b0f2a-29d5-408d-bf6d-e4b217898103",
   "metadata": {},
   "outputs": [],
   "source": [
    "# Get the second equation of motion\n",
    "f2 = diff(diff(L, Derivative(phi(t), t)), t) - diff(L, phi(t)) - 4.0*tau(t)"
   ]
  },
  {
   "cell_type": "markdown",
   "id": "30359c9d-0dd0-4cc0-95f5-067abe764e90",
   "metadata": {},
   "source": [
    "Currently, the equations of motion are in the form:\n",
    "$$\n",
    "f_1 \\left( \\frac{\\partial^{2} \\theta}{\\partial t^{2}}, \\frac{\\partial^{2} \\phi}{\\partial t^{2}}, \\frac{\\partial \\theta}{\\partial t}, \\frac{\\partial \\phi}{\\partial t}, \\theta, \\phi, \\tau \\right) = 0\n",
    "$$\n",
    "$$\n",
    "f_2 \\left( \\frac{\\partial^{2} \\theta}{\\partial t^{2}}, \\frac{\\partial^{2} \\phi}{\\partial t^{2}}, \\frac{\\partial \\theta}{\\partial t}, \\frac{\\partial \\phi}{\\partial t}, \\theta, \\phi, \\tau \\right) = 0\n",
    "$$\n",
    "\n",
    "This form of equations of motion is not very helpful to us right now, so next we will place them in the form:\n",
    "$$\n",
    "\\frac{\\partial^{2} \\theta}{\\partial t^{2}} = f_{\\theta} \\left( \\frac{\\partial \\theta}{\\partial t}, \\frac{\\partial \\phi}{\\partial t}, \\theta, \\phi, \\tau \\right)\n",
    "$$\n",
    "$$\n",
    "\\frac{\\partial^{2} \\phi}{\\partial t^{2}} = f_{\\phi} \\left( \\frac{\\partial \\theta}{\\partial t}, \\frac{\\partial \\phi}{\\partial t}, \\theta, \\phi, \\tau \\right)\n",
    "$$"
   ]
  },
  {
   "cell_type": "code",
   "execution_count": 18,
   "id": "f51d8f68-0704-428f-b256-813bb26be2d5",
   "metadata": {},
   "outputs": [],
   "source": [
    "# Solve the first two equations of motion for the second order derivatives\n",
    "soln = solve([f1, f2],\n",
    "             Derivative(theta(t), (t, 2)),\n",
    "             Derivative(phi(t), (t, 2)))\n",
    "soln = simplify(soln)\n",
    "f_theta = soln[Derivative(theta(t), (t, 2))]\n",
    "f_phi = soln[Derivative(phi(t), (t, 2))]"
   ]
  },
  {
   "cell_type": "markdown",
   "id": "4fd6bf14-d7c7-4df0-b06b-09b0199822a3",
   "metadata": {},
   "source": [
    "Let's now combine these two equations into a single vector and replace the functions of time with symbols (this will make the linearization steps easier)."
   ]
  },
  {
   "cell_type": "code",
   "execution_count": 19,
   "id": "cf61ac6a-c526-4422-8267-a5d353fdcdc9",
   "metadata": {},
   "outputs": [],
   "source": [
    "# Build the equations of motion vector\n",
    "f = Matrix([f_theta,\n",
    "            f_phi])\n",
    "\n",
    "# Replace the functions of time with symbols\n",
    "(v1, v2, v3, v4, v5) = symbols('v1, v2, v3, v4, v5')\n",
    "f = f.subs({Derivative(theta(t), t) : v1,\n",
    "            Derivative(phi(t), t) : v2,\n",
    "            theta(t) : v3,\n",
    "            phi(t) : v4,\n",
    "            tau(t) : v5})\n",
    "(thetadot, phidot, theta, phi, tau) = symbols('thetadot, phidot, theta, phi, tau')\n",
    "f = f.subs({v1 : thetadot,\n",
    "            v2 : phidot,\n",
    "            v3 : theta,\n",
    "            v4 : phi,\n",
    "            v5 : tau})\n",
    "\n",
    "# Simplify\n",
    "f = simplify(f)"
   ]
  },
  {
   "cell_type": "markdown",
   "id": "ee3c804f-4d34-4737-883c-912c53fdfa84",
   "metadata": {},
   "source": [
    "$f$ is our system model such that:\n",
    "$$\n",
    "\\begin{bmatrix}\n",
    "\\ddot{\\theta} \\\\\n",
    "\\ddot{\\phi} \\\\\n",
    "\\end{bmatrix} = f(\\dot{\\theta}, \\dot{\\phi}, \\theta, \\phi, \\tau)\n",
    "$$\n",
    "Note that both of these ODEs are second-order — you will have to replace them each with a set of two first-order ODEs, as usual."
   ]
  },
  {
   "cell_type": "code",
   "execution_count": 20,
   "id": "1879abf3-ce9a-44a7-b7e7-df4858100bf7",
   "metadata": {},
   "outputs": [
    {
     "data": {
      "text/latex": [
       "$\\displaystyle \\left[\\begin{matrix}\\frac{320.0 \\tau \\cos{\\left(\\theta \\right)} + 10.0 \\dot{\\theta}^{2} \\sin{\\left(2 \\theta \\right)} - 981.0 \\sin{\\left(\\theta \\right)}}{20.0 \\cos^{2}{\\left(\\theta \\right)} - 100.0}\\\\\\frac{- 1.6 \\cdot 10^{3} \\tau - 100.0 \\dot{\\theta}^{2} \\sin{\\left(\\theta \\right)} + 491.0 \\sin{\\left(2 \\theta \\right)}}{25.0 \\cos^{2}{\\left(\\theta \\right)} - 125.0}\\end{matrix}\\right]$"
      ],
      "text/plain": [
       "⎡                       2                        ⎤\n",
       "⎢320.0⋅τ⋅cos(θ) + 10.0⋅θ̇ ⋅sin(2⋅θ) - 981.0⋅sin(θ)⎥\n",
       "⎢────────────────────────────────────────────────⎥\n",
       "⎢                      2                         ⎥\n",
       "⎢              20.0⋅cos (θ) - 100.0              ⎥\n",
       "⎢                                                ⎥\n",
       "⎢                     2                          ⎥\n",
       "⎢  -1.6e+3⋅τ - 100.0⋅θ̇ ⋅sin(θ) + 491.0⋅sin(2⋅θ)  ⎥\n",
       "⎢  ────────────────────────────────────────────  ⎥\n",
       "⎢                      2                         ⎥\n",
       "⎣              25.0⋅cos (θ) - 125.0              ⎦"
      ]
     },
     "execution_count": 20,
     "metadata": {},
     "output_type": "execute_result"
    }
   ],
   "source": [
    "N(f, 3) # This rounds floating point number to 3 places and then prints to the screen"
   ]
  },
  {
   "cell_type": "markdown",
   "id": "891c2270-326e-4730-85a3-5c1b88cf0dae",
   "metadata": {
    "jp-MarkdownHeadingCollapsed": true
   },
   "source": [
    "# System Linearization and State Space Form"
   ]
  },
  {
   "cell_type": "markdown",
   "id": "e83fb9d9-768e-4c02-b20d-c0788f87a949",
   "metadata": {},
   "source": [
    "### Place the System in Standard form\n",
    "Recall, our current system model is in the form:\n",
    "$$\n",
    "\\begin{bmatrix}\n",
    "\\ddot{\\theta} \\\\\n",
    "\\ddot{\\phi} \\\\\n",
    "\\end{bmatrix} = f(\\dot{\\theta}, \\dot{\\phi}, \\theta, \\phi, \\tau),\n",
    "$$\n",
    "however, to place this system in state space form, it must first be convert to standard form:\n",
    "$$\n",
    "\\dot{m} = f(m, n).\n",
    "$$\n",
    "There are two major differences between our current system and a system in standard form:\n",
    "1. All the equations in our system are **second order**. Standard form requires all equations to be **first order**.\n",
    "2. There are dervative arguments in our current system. Standard form requires that all arguments are **zeroth order**. "
   ]
  },
  {
   "cell_type": "markdown",
   "id": "a72e3636-835b-4d02-939b-ee799d1b4f11",
   "metadata": {},
   "source": [
    "To fix problem 1, we need to replace both our **second order** differential equations with two **first order** differential equations. To do this, we can invent two new variables: $\\omega_{\\theta}$ and $\\omega_{\\phi}$. We define these new variables via the differential equations:\n",
    "$$\n",
    "\\dot{\\theta} = \\omega_{\\theta} \n",
    "$$\n",
    "$$\n",
    "\\dot{\\phi} = \\omega_{\\phi}.\n",
    "$$"
   ]
  },
  {
   "cell_type": "markdown",
   "id": "e0ea39bd-75f2-4f3a-aacb-e543b936e7eb",
   "metadata": {},
   "source": [
    "First we then expand our current system\n",
    "$$\n",
    "\\begin{bmatrix}\n",
    "\\ddot{\\theta} \\\\\n",
    "\\ddot{\\phi} \\\\\n",
    "\\end{bmatrix} =\n",
    "\\begin{bmatrix}\n",
    "f_{\\theta}(\\dot{\\theta}, \\dot{\\phi}, \\theta, \\phi, \\tau) \\\\\n",
    "f_{\\phi}(\\dot{\\theta}, \\dot{\\phi}, \\theta, \\phi, \\tau) \\\\\n",
    "\\end{bmatrix},\n",
    "$$\n",
    "and append these two new differential equations to the end:\n",
    "$$\n",
    "\\begin{bmatrix}\n",
    "\\ddot{\\theta} \\\\\n",
    "\\ddot{\\phi} \\\\\n",
    "\\dot{\\theta} \\\\ \n",
    "\\dot{\\phi}\n",
    "\\end{bmatrix} =\n",
    "\\begin{bmatrix}\n",
    "f_{\\theta}(\\dot{\\theta}, \\dot{\\phi}, \\theta, \\phi, \\tau) \\\\\n",
    "f_{\\phi}(\\dot{\\theta}, \\dot{\\phi}, \\theta, \\phi, \\tau) \\\\\n",
    "\\omega_{\\theta} \\\\\n",
    "\\omega_{\\phi}\n",
    "\\end{bmatrix}.\n",
    "$$\n",
    "By taking a derivative of our two new differential equations, we can see that:\n",
    "$$\n",
    "\\ddot{\\theta} = \\dot{\\omega}_{\\theta}\n",
    "$$\n",
    "$$\n",
    "\\ddot{\\phi} = \\dot{\\omega}_{\\phi}.\n",
    "$$\n",
    "\n",
    "\n",
    "and replace the second order differential equations with first order differential equations via the change of variables we showed above:\n",
    "$$\n",
    "\\begin{bmatrix}\n",
    "\\dot{\\omega}_{\\theta} \\\\\n",
    "\\dot{\\omega}_{\\phi} \\\\\n",
    "\\dot{\\theta} \\\\ \n",
    "\\dot{\\phi}\n",
    "\\end{bmatrix} =\n",
    "\\begin{bmatrix}\n",
    "f_{\\theta}(\\dot{\\theta}, \\dot{\\phi}, \\theta, \\phi, \\tau) \\\\\n",
    "f_{\\phi}(\\dot{\\theta}, \\dot{\\phi}, \\theta, \\phi, \\tau) \\\\\n",
    "\\omega_{\\theta} \\\\\n",
    "\\omega_{\\phi}\n",
    "\\end{bmatrix},\n",
    "$$\n",
    "we can see that the new system we have created is a **first order** system of differential equations. This is what we wanted. To replicate this in code, we can do the following two steps:"
   ]
  },
  {
   "cell_type": "code",
   "execution_count": 21,
   "id": "bd568602-25eb-4bcc-b6ce-7c24d40e4e81",
   "metadata": {},
   "outputs": [],
   "source": [
    "# Create our two new variables\n",
    "(omega_theta, omega_phi) = sym.symbols('omega_theta, omega_phi')\n",
    "\n",
    "# Append them to the bottom of the system\n",
    "f = sym.Matrix([f[0],\n",
    "                f[1],\n",
    "                omega_theta,\n",
    "                omega_phi])"
   ]
  },
  {
   "cell_type": "markdown",
   "id": "f59404b8-d060-442e-9e6b-7692116d4f81",
   "metadata": {},
   "source": [
    "Now we need to fix problem 2: there are dervative arguments in our current system. Standard form requires that all arguments are **zeroth order**. This is trivial to do, in fact, we already have all the tools we need. To begin, note that the derivative arguments are in the functions\n",
    "$$\n",
    "f_{\\theta}(\\dot{\\theta}, \\dot{\\phi}, \\theta, \\phi, \\tau)\n",
    "$$\n",
    "and \n",
    "$$\n",
    "f_{\\phi}(\\dot{\\theta}, \\dot{\\phi}, \\theta, \\phi, \\tau).\n",
    "$$\n",
    "They are $\\dot{\\theta}$ and $\\dot{\\phi}$. Now recall that we have already created the variables $\\omega_{\\theta}$ and $\\omega_{\\phi}$ which are defined as\n",
    "$$\n",
    "\\dot{\\theta} = \\omega_{\\theta} \n",
    "$$\n",
    "$$\n",
    "\\dot{\\phi} = \\omega_{\\phi}.\n",
    "$$\n",
    "Therefore, to ensure all arguments to the system are **zeroth order**, we can simply replace every instance of $\\dot{\\theta}$ and $\\dot{\\phi}$ with $\\omega_{\\theta}$ and $\\omega_{\\phi}$, respectively. This results in a system with the form:\n",
    "$$\n",
    "\\begin{bmatrix}\n",
    "\\dot{\\omega}_{\\theta} \\\\\n",
    "\\dot{\\omega}_{\\phi} \\\\\n",
    "\\dot{\\theta} \\\\ \n",
    "\\dot{\\phi}\n",
    "\\end{bmatrix} =\n",
    "\\begin{bmatrix}\n",
    "f_{\\theta}(\\omega_{\\theta}, \\omega_{\\phi}, \\theta, \\phi, \\tau) \\\\\n",
    "f_{\\phi}(\\omega_{\\theta}, \\omega_{\\phi}, \\theta, \\phi, \\tau) \\\\\n",
    "\\omega_{\\theta} \\\\\n",
    "\\omega_{\\phi}\n",
    "\\end{bmatrix}.\n",
    "$$\n",
    "Every argument to this system is **zeroth order**. This is what we wanted. To replicate this in code, we can do the following one step:"
   ]
  },
  {
   "cell_type": "code",
   "execution_count": 22,
   "id": "9e55ff65-5f6d-475a-8fb6-6d79167d1de0",
   "metadata": {},
   "outputs": [],
   "source": [
    "# Make the change of variables\n",
    "f = f.subs({thetadot : omega_theta,\n",
    "            phidot : omega_phi})"
   ]
  },
  {
   "cell_type": "markdown",
   "id": "932715b5-f7fd-4d4b-8041-d5c274a79a49",
   "metadata": {},
   "source": [
    "If we define the nonlinear state vector like this:\n",
    "$$\n",
    "m = \n",
    "\\begin{bmatrix}\n",
    "{\\omega}_{\\theta} \\\\\n",
    "{\\omega}_{\\phi} \\\\\n",
    "{\\theta} \\\\ \n",
    "{\\phi}\n",
    "\\end{bmatrix},\n",
    "$$\n",
    "and the nonlinear input vector like this:\n",
    "$$\n",
    "n = \\left[ \\tau \\right],\n",
    "$$\n",
    "then we can rewrite the system we have created like this:\n",
    "$$\n",
    "\\dot{m} = f(m,n)\n",
    "$$\n",
    "which is standard form."
   ]
  },
  {
   "cell_type": "code",
   "execution_count": 23,
   "id": "6fa9c7e3-e0d7-432d-9972-a4823f754e86",
   "metadata": {},
   "outputs": [
    {
     "data": {
      "text/latex": [
       "$\\displaystyle \\left[\\begin{matrix}\\frac{10.0 \\omega_{\\theta}^{2} \\sin{\\left(2 \\theta \\right)} + 320.0 \\tau \\cos{\\left(\\theta \\right)} - 981.0 \\sin{\\left(\\theta \\right)}}{20.0 \\cos^{2}{\\left(\\theta \\right)} - 100.0}\\\\\\frac{- 100.0 \\omega_{\\theta}^{2} \\sin{\\left(\\theta \\right)} - 1.6 \\cdot 10^{3} \\tau + 491.0 \\sin{\\left(2 \\theta \\right)}}{25.0 \\cos^{2}{\\left(\\theta \\right)} - 125.0}\\\\\\omega_{\\theta}\\\\\\omega_{\\phi}\\end{matrix}\\right]$"
      ],
      "text/plain": [
       "⎡           2                                         ⎤\n",
       "⎢10.0⋅ωₜₕₑₜₐ ⋅sin(2⋅θ) + 320.0⋅τ⋅cos(θ) - 981.0⋅sin(θ)⎥\n",
       "⎢─────────────────────────────────────────────────────⎥\n",
       "⎢                        2                            ⎥\n",
       "⎢                20.0⋅cos (θ) - 100.0                 ⎥\n",
       "⎢                                                     ⎥\n",
       "⎢               2                                     ⎥\n",
       "⎢ - 100.0⋅ωₜₕₑₜₐ ⋅sin(θ) - 1.6e+3⋅τ + 491.0⋅sin(2⋅θ)  ⎥\n",
       "⎢ ──────────────────────────────────────────────────  ⎥\n",
       "⎢                        2                            ⎥\n",
       "⎢                25.0⋅cos (θ) - 125.0                 ⎥\n",
       "⎢                                                     ⎥\n",
       "⎢                       ωₜₕₑₜₐ                        ⎥\n",
       "⎢                                                     ⎥\n",
       "⎣                         ωᵩ                          ⎦"
      ]
     },
     "execution_count": 23,
     "metadata": {},
     "output_type": "execute_result"
    }
   ],
   "source": [
    "sym.N(f, 3) # Display f in standard form"
   ]
  },
  {
   "cell_type": "markdown",
   "id": "3ef3d179-c1ad-4b31-a367-31831ae7518a",
   "metadata": {},
   "source": [
    "### Linearize the System to get A and B\n",
    "Now we want to ***approximate*** the nonlinear system dynamics ***near an equilibrium point*** by linearizing the system to have the form\n",
    "$$\n",
    "\\dot{x} = Ax + Bu.\n",
    "$$\n",
    "We call this model state space form. There are three steps we take to convert our current nonlinear system into state space form:\n",
    "1. Find an equilibrium point\n",
    "2. Calculate the A matrix\n",
    "3. Calculate the B matrix"
   ]
  },
  {
   "cell_type": "markdown",
   "id": "917be777-09c3-4c61-9a6e-00fea28895bd",
   "metadata": {},
   "source": [
    "Let's begin by finding an equilibrium point. An equilibrium point is any combination of nonlinear state, $m_{e}$, and nonlinear input, $n_{e}$, such that\n",
    "$$\n",
    "f(m_{e}, n_{e}) = 0.\n",
    "$$\n",
    "This is also called a stationary point because the time derivative of the nonlinear state –also called the velocity of the nonlinear state– is exactly zero. Remember, we already have $f$, so all we need to do is find a valid $m_{e}$ and $n_{e}$. Usually, it is a good idea to start your search at the 0 position. Let's do this in code:"
   ]
  },
  {
   "cell_type": "code",
   "execution_count": 24,
   "id": "81894fed-4eb1-48d3-831d-f5c390b7de5c",
   "metadata": {},
   "outputs": [
    {
     "data": {
      "text/plain": [
       "array([[-0.],\n",
       "       [-0.],\n",
       "       [ 0.],\n",
       "       [ 0.]])"
      ]
     },
     "execution_count": 24,
     "metadata": {},
     "output_type": "execute_result"
    }
   ],
   "source": [
    "# Convert symbolic system to a numeric function\n",
    "f_num = sym.lambdify([omega_theta, omega_phi, theta, phi, tau], f)\n",
    "\n",
    "# Guess a possible equilibrium position, the 0 position\n",
    "omega_theta_e = 0.0\n",
    "omega_phi_e = 0.0 \n",
    "theta_e = 0.0\n",
    "phi_e = 0.0\n",
    "tau_e = 0.0\n",
    "\n",
    "# Test if our guess is an equilibrium position\n",
    "f_num(omega_theta_e, omega_phi_e, theta_e, phi_e, tau_e)"
   ]
  },
  {
   "cell_type": "markdown",
   "id": "edfccafc-bda2-493c-b9fd-b0cba4f9f82a",
   "metadata": {},
   "source": [
    "We see that is was, indeed, a good place to start. In fact, it is a valid equilibrium point and we do not need to do any more searching. Now we can move on to calculate the $A$ and $B$ matrices. Recall, our system is currently in standard form:\n",
    "$$\n",
    "\\dot{m} = f(m,n),\n",
    "$$\n",
    "and we have just found an equilibrium position such that \n",
    "$$\n",
    "f(m_{e}, n_{e}) = 0.\n",
    "$$\n",
    "Suppose we Taylor expand our system around the equilibrium position:\n",
    "$$\n",
    "f(m, n) \\approx f(m_{e}, n_{e}) + \\Delta_{m}f(m_{e}, n_{e})(m - m_{e}) + \\Delta_{n}f(m_{e}, n_{e})(n - n_{e}).\n",
    "$$\n",
    "From the two equations above, we can simplify this Taylor expansion such that\n",
    "$$\n",
    "\\dot{m} = \\Delta_{m}f(m_{e}, n_{e})(m - m_{e}) + \\Delta_{n}f(m_{e}, n_{e})(n - n_{e})\n",
    "$$\n",
    "Now we observe that\n",
    "$$\n",
    "\\frac{d}{dt} \\left( m - m_{e} \\right) = \\dot{m}\n",
    "$$\n",
    "because $m_{e}$ is a constant. Based on this fact, we again rewrite our Taylor expansion:\n",
    "$$\n",
    "\\frac{d}{dt} \\left( m - m_{e} \\right)= \\Delta_{m}f(m_{e}, n_{e})(m - m_{e}) + \\Delta_{n}f(m_{e}, n_{e})(n - n_{e}).\n",
    "$$\n",
    "Finally, we make 4 change of variables simultaneously, \n",
    "$$\n",
    "x = m - m_{e},\n",
    "$$\n",
    "$$\n",
    "u = n - n_{e},\n",
    "$$\n",
    "$$\n",
    "A = \\Delta_{m}f(m_{e}, n_{e}),\n",
    "$$\n",
    "and\n",
    "$$\n",
    "B = \\Delta_{n}f(m_{e}, n_{e}).\n",
    "$$\n",
    "Doing this gives us the form\n",
    "$$\n",
    "\\dot{x} = Ax + Bu,\n",
    "$$\n",
    "which is the form we wanted. This is the origin of the definitions for the linear state vector, $x$, the linear input vector, $u$, the $A$ matrix, and the $B$ matrix. Now that we know the definition of $A$, we can calculate it using the following four steps in code:"
   ]
  },
  {
   "cell_type": "code",
   "execution_count": 25,
   "id": "e6072949-9d33-4c60-8a62-5b11d43180a0",
   "metadata": {},
   "outputs": [
    {
     "data": {
      "text/plain": [
       "array([[-0.    ,  0.    , 12.2625,  0.    ],\n",
       "       [ 0.    ,  0.    , -9.81  ,  0.    ],\n",
       "       [ 1.    ,  0.    ,  0.    ,  0.    ],\n",
       "       [ 0.    ,  1.    ,  0.    ,  0.    ]])"
      ]
     },
     "execution_count": 25,
     "metadata": {},
     "output_type": "execute_result"
    }
   ],
   "source": [
    "# Define the nonlinear state vector\n",
    "m = [omega_theta, omega_phi, theta, phi]\n",
    "\n",
    "# Take the jacobian of f with respect to the nonlinear state vector\n",
    "A_sym = f.jacobian(m)\n",
    "\n",
    "# Convert the symbolic jacobian to a numeric representation\n",
    "A_num = sym.lambdify([omega_theta, omega_phi, theta, phi, tau], A_sym)\n",
    "\n",
    "# Evalulate the jacobian of f with respect to the nonlinear state vector at the equilibrium point\n",
    "A = A_num(omega_theta_e, omega_phi_e, theta_e, phi_e, tau_e)\n",
    "\n",
    "# Print A\n",
    "A"
   ]
  },
  {
   "cell_type": "markdown",
   "id": "c3fc5466-a94d-4095-8182-2c7041546bcd",
   "metadata": {},
   "source": [
    "Similarly, we can repeat nearly the exact same process to get B."
   ]
  },
  {
   "cell_type": "code",
   "execution_count": 26,
   "id": "1f40e9ea-1995-4864-aeba-d941753eed33",
   "metadata": {},
   "outputs": [
    {
     "data": {
      "text/plain": [
       "array([[-4.],\n",
       "       [16.],\n",
       "       [ 0.],\n",
       "       [ 0.]])"
      ]
     },
     "execution_count": 26,
     "metadata": {},
     "output_type": "execute_result"
    }
   ],
   "source": [
    "# Define the nonlinear input vector\n",
    "n = [tau]\n",
    "\n",
    "# Take the jacobian of f with respect to the nonlinear input vector\n",
    "B_sym = f.jacobian(n)\n",
    "\n",
    "# Convert the symbolic jacobian to a numeric representation\n",
    "B_num = sym.lambdify([omega_theta, omega_phi, theta, phi, tau], B_sym)\n",
    "\n",
    "# Evalulate the jacobian of f with respect to the nonlinear input vector at the equilibrium point\n",
    "B = B_num(omega_theta_e, omega_phi_e, theta_e, phi_e, tau_e)\n",
    "\n",
    "# Print B\n",
    "B"
   ]
  },
  {
   "cell_type": "markdown",
   "id": "4b692d47-68b3-4856-a5dc-9774556326d0",
   "metadata": {},
   "source": [
    "### Linearization Summary\n",
    "In the section above we did the following five steps:\n",
    "1. Place the system in standard form\n",
    "2. Find an equilbrium point\n",
    "3. Define $x$ and $u$\n",
    "4. Calculate the $A$ matrix\n",
    "5. Calculate the $B$ matrix\n",
    "\n",
    "This allowed us to ***approximate*** the nonlinear system dynamics ***near an equilibrium point*** by converting our nonlinear system,\n",
    "$$\n",
    "\\begin{bmatrix}\n",
    "\\ddot{\\theta} \\\\\n",
    "\\ddot{\\phi} \\\\\n",
    "\\end{bmatrix} = f(\\dot{\\theta}, \\dot{\\phi}, \\theta, \\phi, \\tau),\n",
    "$$\n",
    "to a linear system in state space form\n",
    "$$\n",
    "\\dot{x} = Ax + Bu.\n",
    "$$\n",
    "In general, these will be steps that you must take at the beginning of *every* design project and are fundamental to our approach to controls in this class. "
   ]
  },
  {
   "cell_type": "markdown",
   "id": "1fdd56e4-9025-4c72-85e6-c1f6bafc615d",
   "metadata": {},
   "source": [
    "# Gain Selection and Controller Design"
   ]
  },
  {
   "cell_type": "markdown",
   "id": "1a360d3c-d427-4b1d-a604-93b4416e08fc",
   "metadata": {},
   "source": [
    "### Determine the Size of K\n",
    "The control law that we will use is **Linear State Feedback**. This means that our control inputs, $u$, will be calculated based on the following equation:\n",
    "$$\n",
    "u = -Kx,\n",
    "$$\n",
    "where $K$ is the gain matrix and $x$ is the state vector. Remember, we have already defined $u$ such that \n",
    "$$\n",
    "u = n - n_{e},\n",
    "$$\n",
    "where $n$ is the nonlinear input vector and $n_{e}$ is the equilibrium value of the nonlinear input vector. This means that $u$ is a vector of length 1 whose value is given by\n",
    "$$\n",
    "u = \\left[ \\tau - 0 \\right].\n",
    "$$\n",
    "Further, $x$ is the linear state vector defined such that\n",
    "$$\n",
    "x = m - m_{e},\n",
    "$$\n",
    "where $m$ is the nonlinear state vector and $m_{e}$ is the equilibrium value of the nonlinear state vector. This means that $x$ is a vector of length 4 whose value is given by\n",
    "$$\n",
    "x = \\begin{bmatrix}\n",
    "{\\omega}_{\\theta} - 0\\\\\n",
    "{\\omega}_{\\phi} - 0\\\\\n",
    "{\\theta} - 0\\\\ \n",
    "{\\phi} - 0\n",
    "\\end{bmatrix}.\n",
    "$$\n",
    "By knowing these two facts, we can deduce the size of $K$. Specifically, $u \\in \\mathbb{R}^{1}$ and $x \\in \\mathbb{R}^{4}$, therefore\n",
    "$$\n",
    "K : \\mathbb{R}^{4} \\rightarrow \\mathbb{R}^{1}.\n",
    "$$\n",
    "This means that $K \\in \\mathbb{R}^{1 \\times 4}$. Given this information, we can start our process of guessing a valid $K$ matrix. Let's guess a value in code now.\n"
   ]
  },
  {
   "cell_type": "code",
   "execution_count": 27,
   "id": "92e0fb77-45b0-47fb-b460-5510b9db8c6a",
   "metadata": {},
   "outputs": [],
   "source": [
    "# Make a 1X4 numpy matrix populated with some guess of control gains\n",
    "K = np.array([[-1, -1, -1, -1]])"
   ]
  },
  {
   "cell_type": "markdown",
   "id": "4df3aaf7-7e18-43db-9223-96189f73b344",
   "metadata": {},
   "source": [
    "### Generate and Check the Control Gains\n",
    "Remember, the control law that we are using is **linear state feedback**:\n",
    "$$\n",
    "u = -Kx,\n",
    "$$\n",
    "and our linearized system is given by the form:\n",
    "$$\n",
    "\\dot{x} = Ax + Bu.\n",
    "$$\n",
    "Substituting in our control law we get:\n",
    "$$\n",
    "\\dot{x} = (A-BK)x\n",
    "$$\n",
    "$$\n",
    "\\dot{x} = Fx\n",
    "$$\n",
    "This is our **closed loop response**, i.e. how the system will behave when a controller is added to it. To predict how the system will behave once we add our controller to it, therefore, we need to solve this differential equation. Fortunately, we know how to do this. Given\n",
    "$$\n",
    "t_{0} = 0,\n",
    "$$\n",
    "and\n",
    "$$\n",
    "x(t_{0}) = x_{0},\n",
    "$$\n",
    "the solution to the closed loop response is given by\n",
    "$$\n",
    "x(t) = \\textrm{expm}(Ft)x_{0},\n",
    "$$\n",
    "where $\\textrm{expm}$ is the matrix exponential. Suppose we diagonalize $F$ such that it is written with the form:\n",
    "$$\n",
    "F = P^{-1}DP,\n",
    "$$\n",
    "where $P$ is an orthonormal matrix and $D$ is a diagonal matrix, then the solution to the closed loop response can be rewritten as such:\n",
    "$$\n",
    "x(t) = P^{-1}\\textrm{expm}(Dt)Px_{0}.\n",
    "$$\n",
    "As it turns out, in the scope of this class, $D$ is composed of the eigenvalues of $F$. Specifically:\n",
    "$$\n",
    "D = \\begin{bmatrix}\n",
    "    s_{1} & & \\\\\n",
    "    & \\ddots & \\\\\n",
    "    & & s_{n}\n",
    "  \\end{bmatrix}.\n",
    "$$\n",
    "Adding this to our differential equation and applying matrix exponentiation to a diagonal matrix, we get\n",
    "$$\n",
    "x(t) = P^{-1}\\begin{bmatrix}\n",
    "    \\exp(s_{1}t) & & \\\\\n",
    "    & \\ddots & \\\\\n",
    "    & & \\exp(s_{n}t)\n",
    "  \\end{bmatrix}Px_{0}.\n",
    "$$\n",
    "Recall, the goal of the controller is to drive the system to some equilibrium state, $m_{e}$. Given the definition of the linear state vector, it is analogous to say the controller is driving $x(t)$ to 0. Therefore, we want the right hand side of this equation to go to 0 and $t \\rightarrow \\inf$. Notice that only \n",
    "$$\n",
    "\\begin{bmatrix}\n",
    "    \\exp(s_{1}t) & & \\\\\n",
    "    & \\ddots & \\\\\n",
    "    & & \\exp(s_{n}t)\n",
    "  \\end{bmatrix}\n",
    "$$\n",
    "has a dependence on time. Further recall that for an exponential function to go to 0, the real part of the exponent must go to $-\\inf$. This means that the real part of each $s_{1}t, ..., s_{n}t$ must go to $-\\inf$ as $t \\rightarrow \\inf$. From this, we conclude that the real parts of each eigenvalue of $F$ must be negative for the controller to drive the system to the desired equilibrium value. We call this **asymptotic stability**. Let's check now if our selected $K$ matrix results in asymptotic stability."
   ]
  },
  {
   "cell_type": "code",
   "execution_count": 28,
   "id": "3a3e0069-edd0-47ab-b80e-a1158ef8b675",
   "metadata": {},
   "outputs": [
    {
     "name": "stdout",
     "output_type": "stream",
     "text": [
      "[12.86384265  3.65193301 -3.58337315 -0.93240251]\n"
     ]
    }
   ],
   "source": [
    "# Get F from A, B, and our selected K\n",
    "F = A-B@K\n",
    "\n",
    "# Get the eigenvalues of F\n",
    "s, v = np.linalg.eig(F)\n",
    "print(s)"
   ]
  },
  {
   "cell_type": "markdown",
   "id": "7607678c-0df5-4647-97e9-9085db3d4168",
   "metadata": {},
   "source": [
    "We see that the real part of two of our eigenvalues of $F$ are positive. This means that we need to keep looking for stabalizing gains. After some manual tuning of gains, we try a new gain matrix:"
   ]
  },
  {
   "cell_type": "code",
   "execution_count": 29,
   "id": "e7b2ed09-0478-4a46-b077-15e7972e849d",
   "metadata": {},
   "outputs": [
    {
     "name": "stdout",
     "output_type": "stream",
     "text": [
      "[-2.94163798+3.70721146j -2.94163798-3.70721146j -0.25836202+0.79628395j\n",
      " -0.25836202-0.79628395j]\n"
     ]
    }
   ],
   "source": [
    "# Guess a new K\n",
    "K = np.array([[-2., -0.1, -10., -0.1]]\n",
    "            )\n",
    "#Get F from A, B, and our selected K\n",
    "F = A-B@K\n",
    "\n",
    "# Get the eigenvalues of F\n",
    "s, v = np.linalg.eig(F)\n",
    "print(s)"
   ]
  },
  {
   "cell_type": "markdown",
   "id": "785344aa-afc6-43e6-8222-c6aaaef2f4db",
   "metadata": {},
   "source": [
    "All real parts of the eigenvalues of $F$ are now negative. This means that we have found a valid set of control gains. Let's test them by implementing a controller and running a simulation."
   ]
  },
  {
   "cell_type": "markdown",
   "id": "6599e80b-e7cf-460e-9d02-77f3fb559470",
   "metadata": {},
   "source": [
    "### Implement the Controller Class\n"
   ]
  },
  {
   "cell_type": "markdown",
   "id": "06767629-ba0f-4040-a6b5-e4aa6284396a",
   "metadata": {},
   "source": [
    "In the ``Controller`` class below, we will implement our controller. The ``__init__`` function is a function that is used to store variables that our controller may want to keep track of. For example, it is a good idea to store your control gains and equilibrium values here. To do so, you will use the ``self`` keyword. This keyword is used to tell the controller class to keep track of that variable (i.e. it initializes a member variable). You can see this implemented in the ``__init__`` function and also below:\n",
    "```python\n",
    "# Here we store our control gains as a member variable. We use the self keyword.\n",
    "# By doing this, the controller can access and modify the control gains\n",
    "# in any member function (reset() and run()).\n",
    "self.K = K\n",
    "\n",
    "# Now we store the equilibrium states and inputs as member variables\n",
    "self.m_e = np.array([[omega_theta_e],\n",
    "                     [omega_phi_e],\n",
    "                     [theta_e],\n",
    "                     [phi_e]])\n",
    "self.n_e = np.array([[tau_e]])\n",
    "```"
   ]
  },
  {
   "cell_type": "markdown",
   "id": "663a8d32-4a22-4346-bf3a-3f2822484b88",
   "metadata": {},
   "source": [
    "The ``reset`` function is used to reset the controller to some nominal state whenever the simulation is started or reset. In this example, nothing is changing inside the controller class, i.e. we are not updating any member variables in the ``run`` function, so we don't need to modify this function. Were we to update member variables in the ``run`` function, however, this is where you should reset them. For example, suppose ``self.current_time`` was a member variable that we created in ``__init__``. Suppose also that every time the ``run`` function was called, ``self.current_time`` was updated to be equal to the current time. This might look something like this:\n",
    "```python\n",
    "def run(self, **kwargs):\n",
    "   self.current_time = kwargs['time']\n",
    "   return [0.0]\n",
    "```\n",
    "If the simulation was reset, ``self.current_time`` would no longer be accurate. To address this, we might add the following statement in the ``reset`` function:\n",
    "```python\n",
    "def reset(self):\n",
    "    self.current_time = 0.0\n",
    "```\n",
    "Now every time the simulation is reset, ``self.current_time`` is also reset. You can read more about classes and member variables [here](https://docs.python.org/3/tutorial/classes.html)."
   ]
  },
  {
   "cell_type": "markdown",
   "id": "3456ba6c-89c0-4a37-9808-e324065913c2",
   "metadata": {},
   "source": [
    "Finally, the ``run`` function is the function that is called every time the simulator wants to apply new control inputs (every 0.01 seconds). The simulator passes the current state of the simulation as arguments and expects the controller to return a list of control inputs. This is the function in which we apply our control gains. Remember, our control law is as follows:\n",
    "$$\n",
    "u = -Kx.\n",
    "$$\n",
    "This means, to calculate our control inputs, we must first assemble the linear state vector, $x$, and then premultiply it by $-K$. The simulator passes all the states we need to do this. In our case:\n",
    "$$\n",
    "m = \\begin{bmatrix}\n",
    "{\\omega}_{\\theta}\\\\\n",
    "{\\omega}_{\\phi}\\\\\n",
    "{\\theta}\\\\ \n",
    "{\\phi}\n",
    "\\end{bmatrix}\n",
    "$$\n",
    "and \n",
    "$$\n",
    "x = m - m_{e},\n",
    "$$\n",
    "so all we need to do is build the nonlinear state vector and subtract the equilibrium state. This is implemented in the ``run`` function and also shown below:\n",
    "```python\n",
    "# Assemble the state matrix\n",
    "m = np.array([[kwargs[\"pendulum_velocity\"]],\n",
    "              [kwargs[\"wheel_velocity\"]],\n",
    "              [kwargs[\"pendulum_angle\"]],\n",
    "              [kwargs[\"wheel_angle\"]]])\n",
    "x = m - self.m_e\n",
    "```"
   ]
  },
  {
   "cell_type": "markdown",
   "id": "54647d8d-a4da-4bc7-bafb-c79a97af2bbd",
   "metadata": {},
   "source": [
    "Once we have the linear state vector assembled, we can premultiple it by $-K$. ``numpy`` uses the ``@`` symbol for matrix multiplation. This is implemented in the ``run`` function and also shown below:\n",
    "```python\n",
    "# Apply our control law\n",
    "u = -self.K@x\n",
    "```"
   ]
  },
  {
   "cell_type": "markdown",
   "id": "7d688b9f-97c7-465c-819d-08bebb580427",
   "metadata": {},
   "source": [
    "Finally, we need to convert the linear input vector, $u$, into the actual torque values, $n$. Recall\n",
    "$$\n",
    "u = n - n_{e}.\n",
    "$$\n",
    "This means that, given $u$ and $n_{e}$,\n",
    "$$\n",
    "n = u + n_{e}.\n",
    "$$\n",
    "This is implemented in the ``run`` function and also shown below:\n",
    "```python\n",
    "# Convert the linear input vector to the nonlinear input vector\n",
    "n = u + self.n_e\n",
    "```\n",
    "$n$ is a $1 \\times 1$ ``numpy`` matrix, and ``run``  must return a one dimensional list. To convert $n$ to the proper format, we extract the first element of $n$ and convert it to a list using the ``numpy.tolist()`` function. This is implemented in the ``run`` function and also shown below:\n",
    "```python\n",
    "# Convert n to a list of inputs in the correct format\n",
    "inputs = n[0].tolist()\n",
    "```"
   ]
  },
  {
   "cell_type": "code",
   "execution_count": 30,
   "id": "6edbadb8-4d14-4a26-8a40-d9ea0bafb9d8",
   "metadata": {},
   "outputs": [],
   "source": [
    "# Create the Controller class\n",
    "class Controller():\n",
    "    def __init__(self):\n",
    "        \"\"\"\n",
    "        Initializes the controller. You should initialize any member variables that\n",
    "        the controller will use to their starting values. This function is called\n",
    "        when a new instance of the Controller class is created.\n",
    "    \n",
    "        Parameters\n",
    "        ----------\n",
    "        None.\n",
    "    \n",
    "        Returns\n",
    "        -------\n",
    "        None.\n",
    "        \"\"\"\n",
    "        # Here we store our control gains as a member variable. We use the self keyword.\n",
    "        # By doing this, the controller can access and modify the control gains\n",
    "        # in any member function (reset() and run()).\n",
    "        self.K = K\n",
    "\n",
    "        # Now we store the equilibrium states and inputs as member variables\n",
    "        self.m_e = np.array([[omega_theta_e],\n",
    "                             [omega_phi_e],\n",
    "                             [theta_e],\n",
    "                             [phi_e]])\n",
    "        self.n_e = np.array([[tau_e]])\n",
    "        \n",
    "    \n",
    "    def reset(self):\n",
    "        \"\"\"\n",
    "        Resets the controller to an initial state. You should reset any member variable\n",
    "        that tracks states, times, etc. in this function. This function will be \n",
    "        called just before the simulation starts running and any time the simulation\n",
    "        is reset.\n",
    "    \n",
    "        Parameters\n",
    "        ----------\n",
    "        None.\n",
    "    \n",
    "        Returns\n",
    "        -------\n",
    "        None.\n",
    "        \"\"\"\n",
    "        # There is no need to reset any member variables, so we pass, i.e. do nothing\n",
    "        pass \n",
    "\n",
    "    \n",
    "    def run(self, **kwargs):\n",
    "        \"\"\"\n",
    "        Runs the controller. Data is passed from the simulation environment to the\n",
    "        controller via kwargs, the controller calculates the inputs to the system,\n",
    "        and then returns them via a return statement\n",
    "    \n",
    "        Parameters\n",
    "        ----------\n",
    "        **kwargs : Dictionary\n",
    "            A dictionary of data passed from the simulation environment to the \n",
    "            controller. Specific data is extracted from kwargs via the statement:\n",
    "            kwargs[\"KEYWORD\"], where \"KEYWORD\" is a key to the dictionary. The keys\n",
    "            of kwargs for this project are as follows:\n",
    "\n",
    "            kwargs[\"pendulum_angle\"] : Float\n",
    "                The current angle of the pendulum in radians (theta)  -- theta\n",
    "\n",
    "            kwargs[\"wheel_angle\"] : Float\n",
    "                The current target angle of the wheels in radians (phi) -- phi\n",
    "\n",
    "            kwargs[\"pendulum_velocity\"] : Float\n",
    "                The current angular velocity of the pendulum in radians/second -- thetadot\n",
    "\n",
    "            kwargs[\"wheel_velocity\"] : Float\n",
    "                The current target angular velocity of the wheels in radians/second -- phidot\n",
    "\n",
    "            kwargs[\"time\"] : Float\n",
    "                The current simulation time in seconds\n",
    "            \n",
    "    \n",
    "        Returns\n",
    "        -------\n",
    "        inputs : List with length equal to the number of inputs\n",
    "            This is a list of the inputs calculated by the controller. In this\n",
    "            project, there is only one input, the torque to be applied to the \n",
    "            wheels. Even though there is only one input in this project,\n",
    "            it still must be placed in a list of length one.\n",
    "        \n",
    "        \"\"\"\n",
    "        # Assemble the state matrix\n",
    "        m = np.array([[kwargs[\"pendulum_velocity\"]],\n",
    "                      [kwargs[\"wheel_velocity\"]],\n",
    "                      [kwargs[\"pendulum_angle\"]],\n",
    "                      [kwargs[\"wheel_angle\"]]])\n",
    "        x = m - self.m_e\n",
    "\n",
    "        # Apply our control law\n",
    "        u = -self.K@x\n",
    "\n",
    "        # Convert the linear input vector to the nonlinear input vector\n",
    "        n = u + self.n_e\n",
    "\n",
    "        # Convert n to a list of inputs in the correct format\n",
    "        inputs = n[0].tolist()\n",
    "        \n",
    "        return inputs"
   ]
  },
  {
   "cell_type": "markdown",
   "id": "9df7001a-75f6-4a6b-aeff-06ebb735573d",
   "metadata": {},
   "source": [
    "Finally, now that we have defined our ``Controller`` class, we make a new instance of it to pass to the simulator."
   ]
  },
  {
   "cell_type": "code",
   "execution_count": null,
   "id": "5cec8e3f-0c1e-41bf-bcca-3c3b4280604e",
   "metadata": {},
   "outputs": [],
   "source": [
    "# Create an instance of our Controller class\n",
    "controller = Controller()"
   ]
  },
  {
   "cell_type": "markdown",
   "id": "b18f66fa-b1b3-4f87-9e15-8e4ab8190258",
   "metadata": {
    "jp-MarkdownHeadingCollapsed": true
   },
   "source": [
    "# Running the simulation"
   ]
  },
  {
   "cell_type": "markdown",
   "id": "5ae1386f-38d6-4f29-ae82-5dbced4ba659",
   "metadata": {},
   "source": [
    "Before we run the simulation, we must first import the simulation module and then create an instance of the simulator. This is done below:"
   ]
  },
  {
   "cell_type": "code",
   "execution_count": null,
   "id": "b0c4b145-b827-40f0-a490-8afd45119bf3",
   "metadata": {},
   "outputs": [],
   "source": [
    "# Import the cart project. This module is used to simulate, render, and plot a wheel dynamic system\n",
    "import ae353_cart"
   ]
  },
  {
   "cell_type": "code",
   "execution_count": null,
   "id": "37499265-4e82-41d5-91a4-e93df85faf35",
   "metadata": {},
   "outputs": [],
   "source": [
    "# Create an instance of the cart simulator\n",
    "sim = ae353_cart.Cart_sim(use_keyboard=True,\n",
    "                          animation=False,\n",
    "                          visualization=True)"
   ]
  },
  {
   "cell_type": "markdown",
   "id": "64b78980-e389-4cd4-86db-9a74dccddfa6",
   "metadata": {},
   "source": [
    "Now we are ready to run the simulation and collect data. To do this we call the ``sim.run()`` function. This function takes an instance of the ``Controller`` class as an argument and returns ``data``. The parameters and return values of ``sim.run()`` are shown below.\n",
    "\n",
    "#### Parameters\n",
    "\n",
    "> **controller** : *member of Controller class*  \n",
    "> Your controller that will generated inputs to the system.\n",
    "> \n",
    "> **max_time** : *Float or None, optional*  \n",
    "> The total amount of time the simulation is allowed to run. If set to None, the simulation will run until \"ESC\" is pressed on the keyboard. If the keyboard is disabled (Mac users), and max_time is set to None, the simulation will automatically terminate after 10 seconds of simulated time. The default value is None.\n",
    "> \n",
    "> **initial_pendulum_angle** : *Float, optional*  \n",
    "> The initial angle of the pendulum in radians. This is set when the simulation starts and when the simulation is reset. The default value is 0.0.\n",
    "> \n",
    "> **initial_wheel_angle** : *Float, optional*  \n",
    "> The initial angle of the wheels in radians. This is set when the simulation starts and when the simulation is reset. The default value is 0.0.\n",
    "> \n",
    "> **initial_pendulum_velocity** : *Float, optional*  \n",
    "> The initial velocity of the pendulum in radians/second. This is set when the simulation starts and when the simulation is reset. The default value is 0.0.\n",
    "> \n",
    "> **initial_wheel_velocity** : *Float, optional*  \n",
    "> The initial velocity of the wheels in radians/second. This is set when the simulation starts and when the simulation is reset. The default value is 0.0.\n",
    "\n",
    "\n",
    "#### Returns\n",
    "\n",
    "> **data** : *Dictionary of Lists*  \n",
    "> A dictionary containing all relevant data generated during the simulation. Specific data is extracted via the statement: data[\"KEYWORD\"], where \"KEYWORD\" is a key to the dictionary. The keys of data for this project are as follows:\n",
    "> \n",
    "> **data[\"pendulum_angle\"]** : *List of Floats*  \n",
    "> A list of the pendulum angle in radians at each time stamp during the simulation.\n",
    "> \n",
    "> **data[\"wheel_angle\"]** : *List of Floats*  \n",
    "> A list of the wheel angle in radians at each time stamp during the simulation.\n",
    "> \n",
    "> **data[\"pendulum_velocity\"]** : *List of Floats*  \n",
    "> A list of the pendulum velocity in radians/secondat each time stamp during the simulation.\n",
    "> \n",
    "> **data[\"wheel_velocity\"]** : *List of Floats*  \n",
    "> A list of the wheel velocity in radians/second at each time stamp during the simulation.\n",
    "> \n",
    "> **data[\"torque\"]** : *List of Floats*  \n",
    "> A list of the applied torque in Newton-meters at each time stamp during the simulation.\n",
    "> \n",
    "> **data[\"time\"]** : *List of Floats*  \n",
    "> A list of the time stamps in seconds."
   ]
  },
  {
   "cell_type": "code",
   "execution_count": null,
   "id": "ecb140d3-bc3a-472b-a0f7-466f7599d92a",
   "metadata": {},
   "outputs": [],
   "source": [
    "# Run the simulation and collect the simulation data\n",
    "data = sim.run(controller,\n",
    "               max_time = 10.0,\n",
    "               initial_pendulum_angle = np.pi/12.,\n",
    "               initial_wheel_angle = 0.0,\n",
    "               initial_pendulum_velocity = 0.0,\n",
    "               initial_wheel_velocity = 0.0)"
   ]
  },
  {
   "cell_type": "markdown",
   "id": "0bd45d6e-4fa1-4088-8263-f197ad953584",
   "metadata": {
    "jp-MarkdownHeadingCollapsed": true
   },
   "source": [
    "# Post-processing the simulation data"
   ]
  },
  {
   "cell_type": "markdown",
   "id": "1e6348f2-10d1-41d6-b268-0c59be5ac6ce",
   "metadata": {},
   "source": [
    "After the simulation is run, we can plot the data using the Matplotlib package. To start, we import matplotlib."
   ]
  },
  {
   "cell_type": "code",
   "execution_count": null,
   "id": "fc40d3d1-f430-47f3-8fb0-3f11d32ecb1f",
   "metadata": {},
   "outputs": [],
   "source": [
    "# Import the pyplot module from the matplotlib package\n",
    "import matplotlib.pyplot as plt"
   ]
  },
  {
   "cell_type": "markdown",
   "id": "0d106a42-eb3d-4022-abfc-e0325523e3b5",
   "metadata": {},
   "source": [
    "Now we can make whichever plots we see fit to make sense of the simulation data. Here we plot the pendulum versus time as well as the applied torque versus time."
   ]
  },
  {
   "cell_type": "code",
   "execution_count": null,
   "id": "b5eefec6-0aad-4e7a-ad60-7e0430923e94",
   "metadata": {},
   "outputs": [],
   "source": [
    "# Create a figure that has two plots in it\n",
    "fig, axes = plt.subplots(2, 1, figsize=(7.2, 5.4), sharex=True)\n",
    "\n",
    "# Create a plot of the pendulum versus time on the first plot\n",
    "axes[0].plot(data['time'], data['pendulum_angle'], label=\"Angle\", c='k', lw=2.5)\n",
    "axes[0].set_ylabel(\"Angle [rad]\", fontsize=12)\n",
    "axes[0].tick_params(axis='y', labelsize=12)\n",
    "axes[0].set_title(\"Pendulum Angle vs. Time\", fontsize=14)\n",
    "axes[0].grid()\n",
    "\n",
    "# Create a plot of the torque versus time on the second plot\n",
    "axes[1].plot(data['time'], data['torque'], label=\"Torque\", c='b', lw=2.5)\n",
    "axes[1].set_xlabel(\"Time [s]\", fontsize=12)\n",
    "axes[1].set_ylabel(\"Torque [Nm]\", fontsize=12)\n",
    "axes[1].tick_params(axis='both', labelsize=12)\n",
    "axes[1].set_title(\"Torque vs. Time\", fontsize=14)\n",
    "axes[1].grid()\n",
    "\n",
    "# Show the figure\n",
    "fig.tight_layout(pad=2.0)\n",
    "plt.show()"
   ]
  }
 ],
 "metadata": {
  "kernelspec": {
   "display_name": "Python 3 (ipykernel)",
   "language": "python",
   "name": "python3"
  },
  "language_info": {
   "codemirror_mode": {
    "name": "ipython",
    "version": 3
   },
   "file_extension": ".py",
   "mimetype": "text/x-python",
   "name": "python",
   "nbconvert_exporter": "python",
   "pygments_lexer": "ipython3",
   "version": "3.13.7"
  }
 },
 "nbformat": 4,
 "nbformat_minor": 5
}
