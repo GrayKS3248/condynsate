{
 "cells": [
  {
   "cell_type": "markdown",
   "id": "debdd76c-765c-4b5d-8626-01966fa85b96",
   "metadata": {},
   "source": [
    "# You may use this as a template for your activity."
   ]
  },
  {
   "cell_type": "markdown",
   "id": "891c2270-326e-4730-85a3-5c1b88cf0dae",
   "metadata": {},
   "source": [
    "## FIXME: System Linearization and State Space Form"
   ]
  },
  {
   "cell_type": "code",
   "execution_count": null,
   "id": "fb7b08b6-9ba8-4d5a-a7ff-17cb91523973",
   "metadata": {},
   "outputs": [],
   "source": [
    "# FIXME: Find an equilibrium point and linearize the system into state space form"
   ]
  },
  {
   "cell_type": "markdown",
   "id": "1fdd56e4-9025-4c72-85e6-c1f6bafc615d",
   "metadata": {},
   "source": [
    "## FIXME: Gain Selection and Controller Design"
   ]
  },
  {
   "cell_type": "code",
   "execution_count": null,
   "id": "58cc70ca-6a05-4ead-91a7-41a681a43489",
   "metadata": {},
   "outputs": [],
   "source": [
    "# FIXME: Select a set of control and observer gains. Ensure the resultant system is stable. Implement your controller below."
   ]
  },
  {
   "cell_type": "code",
   "execution_count": null,
   "id": "6edbadb8-4d14-4a26-8a40-d9ea0bafb9d8",
   "metadata": {},
   "outputs": [],
   "source": [
    "# Create the Controller class\n",
    "class Controller():\n",
    "    def __init__(self):\n",
    "        \"\"\"\n",
    "        Initializes the controller. You should initialize any member variables that\n",
    "        the controller will use to their starting values. This function is called\n",
    "        when a new instance of the Controller class is created.\n",
    "    \n",
    "        Parameters\n",
    "        ----------\n",
    "        None.\n",
    "    \n",
    "        Returns\n",
    "        -------\n",
    "        None.\n",
    "        \"\"\"\n",
    "        # FIXME: Replace the following code with your initialization function\n",
    "        pass\n",
    "        \n",
    "    \n",
    "    def reset(self):\n",
    "        \"\"\"\n",
    "        Resets the controller to an initial state. You should reset any member variable\n",
    "        that tracks states, times, etc. in this function. This function will be \n",
    "        called just before the simulation starts running and any time the simulation\n",
    "        is reset.\n",
    "    \n",
    "        Parameters\n",
    "        ----------\n",
    "        None.\n",
    "    \n",
    "        Returns\n",
    "        -------\n",
    "        None.\n",
    "        \"\"\"\n",
    "        # FIXME: Replace the following code with your reset function\n",
    "        pass\n",
    "\n",
    "    \n",
    "    def run(self, **kwargs):\n",
    "        \"\"\"\n",
    "        Runs the controller. Data is passed from the simulation environment to the\n",
    "        controller via kwargs, the controller calculates the inputs to the system,\n",
    "        and then returns them via a return statement\n",
    "    \n",
    "        Parameters\n",
    "        ----------\n",
    "        **kwargs : Dictionary\n",
    "            A dictionary of data passed from the simulation environment to the \n",
    "            controller. Specific data is extracted from kwargs via the statement:\n",
    "            kwargs[\"KEYWORD\"], where \"KEYWORD\" is a key to the dictionary. The keys\n",
    "            of kwargs for this project are as follows:\n",
    "\n",
    "            kwargs[\"pendulum_angle\"] : Float\n",
    "                The current angle of the pendulum in radians (theta)  -- theta\n",
    "\n",
    "            kwargs[\"wheel_angle\"] : Float\n",
    "                The current target angle of the wheels in radians (phi) -- phi\n",
    "\n",
    "            kwargs[\"pendulum_velocity\"] : Float\n",
    "                The current angular velocity of the pendulum in radians/second -- thetadot\n",
    "\n",
    "            kwargs[\"wheel_velocity\"] : Float\n",
    "                The current target angular velocity of the wheels in radians/second -- phidot\n",
    "\n",
    "            kwargs[\"time\"] : Float\n",
    "                The current simulation time in seconds\n",
    "            \n",
    "    \n",
    "        Returns\n",
    "        -------\n",
    "        inputs : List with length equal to the number of inputs\n",
    "            This is a list of the inputs calculated by the controller. In this\n",
    "            project, there is only one input, the torque to be applied to the \n",
    "            wheels. Even though there is only one input in this project,\n",
    "            it still must be placed in a list of length one.\n",
    "        \n",
    "        \"\"\"\n",
    "        # FIXME: Replace the following manual controller with your own controller\n",
    "\n",
    "        # Set torque to 0\n",
    "        torque = 0.0\n",
    "\n",
    "        # Adjust torque based on keyboard inputs\n",
    "        if kwargs[\"sa\"]:\n",
    "            torque -= 0.75\n",
    "        elif kwargs[\"a\"]:\n",
    "            torque -= 0.25\n",
    "        if kwargs[\"sd\"]:\n",
    "            torque += 0.75\n",
    "        elif kwargs[\"d\"]:\n",
    "            torque += 0.25\n",
    "\n",
    "        # Assemble and return the torques\n",
    "        inputs = [torque]\n",
    "        return inputs"
   ]
  },
  {
   "cell_type": "code",
   "execution_count": null,
   "id": "5cec8e3f-0c1e-41bf-bcca-3c3b4280604e",
   "metadata": {},
   "outputs": [],
   "source": [
    "# Create an instance of our Controller class\n",
    "controller = Controller()"
   ]
  },
  {
   "cell_type": "markdown",
   "id": "b18f66fa-b1b3-4f87-9e15-8e4ab8190258",
   "metadata": {},
   "source": [
    "## Running the simulation"
   ]
  },
  {
   "cell_type": "markdown",
   "id": "5ae1386f-38d6-4f29-ae82-5dbced4ba659",
   "metadata": {},
   "source": [
    "Before we run the simulation, we must first import the simulation module and then create an instance of the simulator. This is done below:"
   ]
  },
  {
   "cell_type": "code",
   "execution_count": null,
   "id": "b0c4b145-b827-40f0-a490-8afd45119bf3",
   "metadata": {},
   "outputs": [],
   "source": [
    "# Import the cart project. This module is used to simulate, render, and plot a wheel dynamic system\n",
    "import cart_controls"
   ]
  },
  {
   "cell_type": "markdown",
   "id": "cf44a63a-4fe8-41eb-90f1-386911912f32",
   "metadata": {},
   "source": [
    "There are three main parameters to the ae353_cart class initialization function:\n",
    "#### Parameters\n",
    "\n",
    "> **use_keyboard** : *bool, optional*  \n",
    "> A boolean flag that indicates whether the simulation will allow the use of keyboard interactivity. The default is True.\n",
    "> \n",
    "> **visualization** : *bool, optional*  \n",
    "> A boolean flag that indicates whether the simulation will be  visualized in meshcat. The default is True.\n",
    "> \n",
    "> **animation** : *bool, optional*  \n",
    "> A boolean flag that indicates whether animated plots are created in real time. The default is True."
   ]
  },
  {
   "cell_type": "code",
   "execution_count": null,
   "id": "37499265-4e82-41d5-91a4-e93df85faf35",
   "metadata": {},
   "outputs": [],
   "source": [
    "# Create an instance of the cart simulator\n",
    "sim = cart_controls.Cart_sim(use_keyboard=True,\n",
    "                             animation=True,\n",
    "                             visualization=True)"
   ]
  },
  {
   "cell_type": "markdown",
   "id": "64b78980-e389-4cd4-86db-9a74dccddfa6",
   "metadata": {},
   "source": [
    "Now we are ready to run the simulation and collect data. To do this we call the ``sim.run()`` function. This function takes an instance of the ``Controller`` class as an argument and returns ``data``. The parameters and return values of ``sim.run()`` are shown below.\n",
    "\n",
    "#### Parameters\n",
    "\n",
    "> **controller** : *member of Controller class*  \n",
    "> Your controller that will generated inputs to the system.\n",
    "> \n",
    "> **max_time** : *Float or None, optional*  \n",
    "> The total amount of time the simulation is allowed to run. If set to None, the simulation will run until \"ESC\" is pressed on the keyboard. If the keyboard is disabled (Mac users), and max_time is set to None, the simulation will automatically terminate after 10 seconds of simulated time. The default value is None.\n",
    "> \n",
    "> **initial_pendulum_angle** : *Float, optional*  \n",
    "> The initial angle of the pendulum in radians. This is set when the simulation starts and when the simulation is reset. The default value is 0.0.\n",
    "> \n",
    "> **initial_wheel_angle** : *Float, optional*  \n",
    "> The initial angle of the wheels in radians. This is set when the simulation starts and when the simulation is reset. The default value is 0.0.\n",
    "> \n",
    "> **initial_pendulum_velocity** : *Float, optional*  \n",
    "> The initial velocity of the pendulum in radians/second. This is set when the simulation starts and when the simulation is reset. The default value is 0.0.\n",
    "> \n",
    "> **initial_wheel_velocity** : *Float, optional*  \n",
    "> The initial velocity of the wheels in radians/second. This is set when the simulation starts and when the simulation is reset. The default value is 0.0.\n",
    "\n",
    "\n",
    "#### Returns\n",
    "\n",
    "> **data** : *Dictionary of Lists*  \n",
    "> A dictionary containing all relevant data generated during the simulation. Specific data is extracted via the statement: data[\"KEYWORD\"], where \"KEYWORD\" is a key to the dictionary. The keys of data for this project are as follows:\n",
    "> \n",
    "> **data[\"pendulum_angle\"]** : *List of Floats*  \n",
    "> A list of the pendulum angle in radians at each time stamp during the simulation.\n",
    "> \n",
    "> **data[\"wheel_angle\"]** : *List of Floats*  \n",
    "> A list of the wheel angle in radians at each time stamp during the simulation.\n",
    "> \n",
    "> **data[\"pendulum_velocity\"]** : *List of Floats*  \n",
    "> A list of the pendulum velocity in radians/secondat each time stamp during the simulation.\n",
    "> \n",
    "> **data[\"wheel_velocity\"]** : *List of Floats*  \n",
    "> A list of the wheel velocity in radians/second at each time stamp during the simulation.\n",
    "> \n",
    "> **data[\"torque\"]** : *List of Floats*  \n",
    "> A list of the applied torque in Newton-meters at each time stamp during the simulation.\n",
    "> \n",
    "> **data[\"time\"]** : *List of Floats*  \n",
    "> A list of the time stamps in seconds."
   ]
  },
  {
   "cell_type": "markdown",
   "id": "22310fd3-2628-427a-a432-e025468911ea",
   "metadata": {},
   "source": [
    "If enabled you can use the keyboard to interact with the simulation:  \n",
    "* press **ENTER** to start the simulation\n",
    "* press **BACKSPACE** to reset the simulation\n",
    "* press **SPACE** to pause the simulation\n",
    "* press **ESC** to end the simulation\n",
    "\n",
    "If the manual controller is being used:\n",
    "* press **a** to apply small negative torque to the wheels\n",
    "* press **SHIFT+a** to apply large negative torque to the wheels\n",
    "* press **d** to apply small positive torque to the wheels\n",
    "* press **SHIFT+d** to apply large positive torque to the wheels "
   ]
  },
  {
   "cell_type": "code",
   "execution_count": null,
   "id": "ecb140d3-bc3a-472b-a0f7-466f7599d92a",
   "metadata": {},
   "outputs": [],
   "source": [
    "# Run the simulation and collect the simulation data\n",
    "data = sim.run(controller,\n",
    "               max_time = None,\n",
    "               initial_pendulum_angle = 0.0,\n",
    "               initial_wheel_angle = 0.0,\n",
    "               initial_pendulum_velocity = 0.0,\n",
    "               initial_wheel_velocity = 0.0)"
   ]
  },
  {
   "cell_type": "markdown",
   "id": "0bd45d6e-4fa1-4088-8263-f197ad953584",
   "metadata": {},
   "source": [
    "## FIXME: Post-processing the simulation data"
   ]
  },
  {
   "cell_type": "markdown",
   "id": "a51435aa-e35e-4f0a-b819-33621da5bf3c",
   "metadata": {},
   "source": [
    "After the simulation is run, we can plot the data using the Matplotlib package. To start, we import matplotlib and numpy."
   ]
  },
  {
   "cell_type": "code",
   "execution_count": null,
   "id": "fc40d3d1-f430-47f3-8fb0-3f11d32ecb1f",
   "metadata": {},
   "outputs": [],
   "source": [
    "# Import the pyplot module from the matplotlib package \n",
    "import matplotlib.pyplot as plt\n",
    "\n",
    "# Import numpy\n",
    "import numpy as np"
   ]
  },
  {
   "cell_type": "markdown",
   "id": "0d106a42-eb3d-4022-abfc-e0325523e3b5",
   "metadata": {},
   "source": [
    "Now we can make whichever plots we see fit to make sense of the simulation data. Here we plot the wheel angle versus time as well as the applied torque versus time.\n",
    "\n",
    "**THIS IS LEFT INTENTIONALLY AS INSUFFICIENT TO PROVE YOUR CONTROLLER CAN CONTROL THE CART.**"
   ]
  },
  {
   "cell_type": "code",
   "execution_count": null,
   "id": "b5eefec6-0aad-4e7a-ad60-7e0430923e94",
   "metadata": {},
   "outputs": [],
   "source": [
    "# Create a figure that has two plots in it\n",
    "%matplotlib inline \n",
    "fig, axes = plt.subplots(2, 1, figsize=(7.2, 5.4), sharex=True)\n",
    "\n",
    "# Create a plot of the wheel versus time on the first plot\n",
    "axes[0].plot(data['time'], data['wheel_angle'], c='k', lw=2.5)\n",
    "axes[0].set_ylabel(\"Angle [rad]\", fontsize=12)\n",
    "axes[0].tick_params(axis='y', labelsize=12)\n",
    "axes[0].set_title(\"Wheel Angle vs. Time\", fontsize=14)\n",
    "axes[0].grid()\n",
    "\n",
    "# Create a plot of the torque versus time on the second plot\n",
    "axes[1].plot(data['time'], data['torque'], label=\"Torque\", c='b', lw=2.5)\n",
    "axes[1].set_xlabel(\"Time [s]\", fontsize=12)\n",
    "axes[1].set_ylabel(\"Torque [Nm]\", fontsize=12)\n",
    "axes[1].tick_params(axis='both', labelsize=12)\n",
    "axes[1].set_title(\"Torque vs. Time\", fontsize=14)\n",
    "axes[1].grid()\n",
    "\n",
    "# Show the figure\n",
    "fig.tight_layout(pad=2.0)\n",
    "plt.show()"
   ]
  },
  {
   "cell_type": "code",
   "execution_count": null,
   "id": "0237e32e-3245-4ada-9d34-6f773959b146",
   "metadata": {},
   "outputs": [],
   "source": []
  }
 ],
 "metadata": {
  "kernelspec": {
   "display_name": "Python 3 (ipykernel)",
   "language": "python",
   "name": "python3"
  },
  "language_info": {
   "codemirror_mode": {
    "name": "ipython",
    "version": 3
   },
   "file_extension": ".py",
   "mimetype": "text/x-python",
   "name": "python",
   "nbconvert_exporter": "python",
   "pygments_lexer": "ipython3",
   "version": "3.12.10"
  }
 },
 "nbformat": 4,
 "nbformat_minor": 5
}
