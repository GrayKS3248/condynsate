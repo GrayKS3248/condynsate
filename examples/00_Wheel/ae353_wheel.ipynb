{
 "cells": [
  {
   "cell_type": "markdown",
   "id": "4b1832e9-e83a-411b-ba9f-a49c9b8df015",
   "metadata": {},
   "source": [
    "# Interacting with a Condynsate project\n",
    "In this tutorial, we will introduce how to import a pre-made Condynsate project, how to build a controller, how to run the pre-made Condynsate project, and how to post-process the simulation data. The example project in this notebook is a wheel on an axle. The goal is to build a controller that makes the wheel point in a desired direction by applying torque to the axle. We will do this by designing a PD controller."
   ]
  },
  {
   "cell_type": "markdown",
   "id": "c5850175-4ae0-4740-ab97-9b3ccc137fcb",
   "metadata": {},
   "source": [
    "## Building the simulation environment\n",
    "When starting any Python project, the first thing to do is import dependencies. In this project, we will need the ``ae353_wheel`` module from the ``condynsate`` package."
   ]
  },
  {
   "cell_type": "code",
   "execution_count": 1,
   "id": "c1b57631-822a-48ba-908b-5db6c15eebb5",
   "metadata": {},
   "outputs": [],
   "source": [
    "# Import the wheel project. This module is used to simulate, render, and plot a wheel dynamic system\n",
    "import ae353_wheel"
   ]
  },
  {
   "cell_type": "markdown",
   "id": "cdfe45f6-e1ae-48bd-8323-59410a3b8f48",
   "metadata": {},
   "source": [
    "To start the project, we first create an instance of the wheel simulator. The simulator handles simulating the dynamic system, rendering it in real-time, and creating live plots that show us data from the simulation. It also collects data generated during the simulation and returns it to the user after the simulation is complete\n",
    "\n",
    "Running this command will:\n",
    "1. Create an instance of the wheel simulator class\n",
    "2. Open a visualization window in your default internet browser (3D render of the dynamic system)\n",
    "3. Open an animation window (real time plotting of system data)"
   ]
  },
  {
   "cell_type": "code",
   "execution_count": 2,
   "id": "7da8aec0-b432-49ec-83c3-bc4cc075b78a",
   "metadata": {},
   "outputs": [
    {
     "name": "stdout",
     "output_type": "stream",
     "text": [
      "You can open the visualizer by visiting the following URL:\n",
      "http://127.0.0.1:7000/static/\n"
     ]
    }
   ],
   "source": [
    "# Create an instance of the wheel simulator\n",
    "sim = ae353_wheel.Wheel_sim(use_keyboard=True)"
   ]
  },
  {
   "cell_type": "markdown",
   "id": "6f8f4927-10f1-422d-a8a6-02d4d4e8b4ea",
   "metadata": {},
   "source": [
    "## Creating the controller\n",
    "Now that the simulator is created, we can make our own controller. In the scope of AE353, all controllers will have the same format as the one below. Specifically, all controllers will be a class that includes **exactly** three functions:\n",
    "```python\n",
    "def __init__(self)\n",
    "def reset(self)\n",
    "def run(self, **kwargs)\n",
    "```\n",
    "Descriptions for these functions is provided below."
   ]
  },
  {
   "cell_type": "code",
   "execution_count": 3,
   "id": "3a8739aa-b517-492c-8837-65ca8c2a1086",
   "metadata": {},
   "outputs": [],
   "source": [
    "class Controller():\n",
    "    def __init__(self):\n",
    "        \"\"\"\n",
    "        Initializes the controller. You should initialize any member variables that\n",
    "        the controller will use to their starting values. This function is called\n",
    "        when a new instance of the Controller class is created.\n",
    "    \n",
    "        Parameters\n",
    "        ----------\n",
    "        None.\n",
    "    \n",
    "        Returns\n",
    "        -------\n",
    "        None.\n",
    "        \"\"\"\n",
    "        self.prev_time = 0.0\n",
    "        self.prev_error = 0.0\n",
    "\n",
    "    \n",
    "    def reset(self):\n",
    "        \"\"\"\n",
    "        Resets the controller to an initial state. You should reset any variables\n",
    "        that track states, times, etc. in this function. This function will be \n",
    "        called just before the simulation starts running and any time the simulation\n",
    "        is reset.\n",
    "    \n",
    "        Parameters\n",
    "        ----------\n",
    "        None.\n",
    "    \n",
    "        Returns\n",
    "        -------\n",
    "        None.\n",
    "        \"\"\"\n",
    "        self.prev_time = 0.0\n",
    "        self.prev_error = 0.0\n",
    "\n",
    "    \n",
    "    def run(self, **kwargs):\n",
    "        \"\"\"\n",
    "        Runs the controller. Data is passed from the simulation environment to the\n",
    "        controller via kwargs, the controller calculates the inputs to the system,\n",
    "        and then returns them via a return statement\n",
    "    \n",
    "        Parameters\n",
    "        ----------\n",
    "        **kwargs : Dictionary\n",
    "            A dictionary of data passed from the simulation environment to the \n",
    "            controller. Specific data is extracted from kwargs via the statement:\n",
    "            kwargs[\"KEYWORD\"], where \"KEYWORD\" is a key to the dictionary. The keys\n",
    "            of kwargs for this project are as follows:\n",
    "\n",
    "            angle : Float\n",
    "                The current angle of the wheel in radians\n",
    "\n",
    "            target_angle : Float\n",
    "                The current target angle of the wheel in radians\n",
    "\n",
    "            time : Float\n",
    "                The current time in the simulation in seconds\n",
    "\n",
    "            P : Float\n",
    "                The current proportional gain value\n",
    "\n",
    "            D : Float\n",
    "                The current derivative gain value\n",
    "            \n",
    "    \n",
    "        Returns\n",
    "        -------\n",
    "        inputs : List with length equal to the number of inputs\n",
    "            This is a list of the inputs calculated by the controller. In this\n",
    "            project, there is only one input, the torque to be applied to the \n",
    "            wheel axle. Even though there is only one input in this project,\n",
    "            it still must be placed in a list of length one.\n",
    "        \n",
    "        \"\"\"\n",
    "        # Calculate the error\n",
    "        error = kwargs[\"angle\"] - kwargs[\"target_angle\"]\n",
    "\n",
    "        # Estimate the derivate of the error with respect to time\n",
    "        d_time = kwargs[\"time\"] - self.prev_time\n",
    "        if d_time <= 0.:\n",
    "            d_error = 0.0\n",
    "        else:\n",
    "            d_error = (error - self.prev_error) / d_time\n",
    "\n",
    "        # Update the previous time values\n",
    "        self.prev_time = kwargs[\"time\"]\n",
    "        self.prev_error = error\n",
    "        \n",
    "        # Set the control gains\n",
    "        P = kwargs[\"P\"]\n",
    "        D = kwargs[\"D\"]\n",
    "    \n",
    "        # Calculate the torque\n",
    "        torque = 0.0\n",
    "\n",
    "        # Format and return the torque\n",
    "        inputs = [torque]\n",
    "        return inputs"
   ]
  },
  {
   "cell_type": "markdown",
   "id": "34248610-1fc7-4a0a-8008-5d6d7d6a7167",
   "metadata": {},
   "source": [
    "After defining our controller class, we need to make a new instance of this class that we can pass to the simulator. This is done in the same way that we created a new instance of the simulation class above:"
   ]
  },
  {
   "cell_type": "code",
   "execution_count": 4,
   "id": "eded7c73-3ea5-4530-803f-c89ab8e5ddf6",
   "metadata": {},
   "outputs": [],
   "source": [
    "# Create an instance of our Controller class\n",
    "controller = Controller()"
   ]
  },
  {
   "cell_type": "markdown",
   "id": "b18f66fa-b1b3-4f87-9e15-8e4ab8190258",
   "metadata": {},
   "source": [
    "## Running the simulation\n",
    "Now we are ready to run the simulation and collect data. To do this we call the ``sim.run()`` function. This function takes an instance of the ``Controller`` class as an argument and returns ``data``. The parameters and return values of ``sim.run()`` are shown below.\n",
    "\n",
    "#### Parameters\n",
    "\n",
    "> **controller** : *member of Controller class*  \n",
    "> Your controller that will generated inputs to the system.\n",
    "> \n",
    "> **max_time** : *Float or None, optional*  \n",
    "> The total amount of time the simulation is allowed to run. If set to None, the simulation will run until \"ESC\" is pressed on the keyboard. If the keyboard is disabled (Mac users), and max_time is set to None, the simulation will automatically terminate after 10 seconds of simulated time. The default value is None.\n",
    "> \n",
    "> **initial_angle** : *Float, optional*  \n",
    "> The initial angle of the wheel in radians. The wheel is set to this angle when the simulation starts and when the simulation is reset. The default value is 0.0.\n",
    "> \n",
    "> **initial_target_angle** : *Float, optional*  \n",
    "> The initial target angle in radians. This is set when the simulation starts and when the simulation is reset. Must be within the range [-pi, pi]. The default value is pi.\n",
    "> \n",
    "> **initial_P** : *Float, optional*  \n",
    "> The initial value of the proportional gain. This is set when the simulation starts and when the simulation is reset. Must be within the range [0.0, 10.0]. The default value is 0.0.\n",
    "> \n",
    "> **initial_D** : *Float, optional*  \n",
    "> The initial value of the derivative gain. This is set when the simulation starts and when the simulation is reset. Must be within the range [0.0, 10.0]. The default value is 0.0.\n",
    "\n",
    "\n",
    "#### Returns\n",
    "\n",
    "> **data** : *Dictionary of Lists*  \n",
    "> A dictionary containing all relevant data generated during the simulation. Specific data is extracted via the statement: data[\"KEYWORD\"], where \"KEYWORD\" is a key to the dictionary. The keys of data for this project are as follows:\n",
    "> \n",
    "> **data[\"angle\"]** : *List of Floats*  \n",
    "> A list of all wheel angles during the simulation.\n",
    "> \n",
    "> **data[\"target_angle\"]** : *List of Floats*  \n",
    "> A list of all target wheel angles during the simulation.\n",
    "> \n",
    "> **data[\"time\"]** : *List of Floats*  \n",
    "> A list of the time during the simulation.\n",
    "> \n",
    "> **data[\"P\"]** : *List of Floats*  \n",
    "> A list of all proportional gains set during the simulation.\n",
    "> \n",
    "> **data[\"D\"]** : *List of Floats*  \n",
    "> A list of all derivative gains set during the simulation.\n",
    "> \n",
    "> **data[\"torque\"]** : *List of Floats*  \n",
    "> A list of all torques applied during the simulation."
   ]
  },
  {
   "cell_type": "markdown",
   "id": "738da352-14fa-4ba8-aa3f-bf1ab26ea392",
   "metadata": {},
   "source": [
    "If enabled you can use the keyboard to interact with the simulation:  \n",
    "* press **ENTER** to start the simulation\n",
    "* press **BACKSPACE** to reset the simulation\n",
    "* press **SPACE** to pause the simulation\n",
    "* press **ESC** to end the simulation\n",
    "\n",
    "You may also manually set control gains and target angles:  \n",
    "* press and hold **a** to decrease the target angle\n",
    "* press and hold **d** to increase the target angle\n",
    "* press and hold **f** to decrease the proportional gain\n",
    "* press and hold **r** to increase the proportional gain\n",
    "* press and hold **g** to decrease the derivative gain\n",
    "* press and hold **t** to increase the derivative gain"
   ]
  },
  {
   "cell_type": "code",
   "execution_count": 5,
   "id": "ecb140d3-bc3a-472b-a0f7-466f7599d92a",
   "metadata": {},
   "outputs": [
    {
     "name": "stdout",
     "output_type": "stream",
     "text": [
      "PRESS ENTER TO START SIMULATION.\n",
      "PRESS ESC TO QUIT.\n",
      "PRESS SPACE TO PAUSE/RESUME SIMULATION.\n",
      "PRESS BACKSPACE TO RESET SIMULATION.\n",
      "CONTINUING...\n",
      "QUITTING...\n"
     ]
    }
   ],
   "source": [
    "# Run the simulation and collect the simulation data\n",
    "data = sim.run(controller,\n",
    "               max_time=None)"
   ]
  },
  {
   "cell_type": "markdown",
   "id": "0bd45d6e-4fa1-4088-8263-f197ad953584",
   "metadata": {},
   "source": [
    "## Post-processing the simulation data\n",
    "After the simulation is run, we can plot the data using the Matplotlib package. To start, we import matplotlib."
   ]
  },
  {
   "cell_type": "code",
   "execution_count": 6,
   "id": "fc40d3d1-f430-47f3-8fb0-3f11d32ecb1f",
   "metadata": {},
   "outputs": [],
   "source": [
    "# Import the pyplot module from the matplotlib package\n",
    "import matplotlib.pyplot as plt"
   ]
  },
  {
   "cell_type": "markdown",
   "id": "0d106a42-eb3d-4022-abfc-e0325523e3b5",
   "metadata": {},
   "source": [
    "Now we can make whichever plots we see fit to make sense of the simulation data. Here we plot the wheel angle and target angle versus time as well as the applied torque versus time."
   ]
  },
  {
   "cell_type": "code",
   "execution_count": 7,
   "id": "b5eefec6-0aad-4e7a-ad60-7e0430923e94",
   "metadata": {},
   "outputs": [],
   "source": [
    "# Create a figure that has two plots in it\n",
    "fig, axes = plt.subplots(2, 1, figsize=(7.2, 5.4), sharex=True)"
   ]
  },
  {
   "cell_type": "code",
   "execution_count": 8,
   "id": "71fec076-7d95-4f85-b071-d3785b7ea3ff",
   "metadata": {},
   "outputs": [],
   "source": [
    "# Create a plot of the wheel angle and target wheel angle versus time on the first plot\n",
    "axes[0].plot(data['time'], data['angle'], label=\"Angle\", c='k', lw=2.5)\n",
    "axes[0].plot(data['time'], data['target_angle'], label=\"Target\", c='r', lw=2.5)\n",
    "axes[0].set_ylabel(\"Angles [rad]\", fontsize=12)\n",
    "axes[0].tick_params(axis='y', labelsize=12)\n",
    "axes[0].legend(fontsize=12, shadow=True)\n",
    "axes[0].set_title(\"Angle vs. Time\", fontsize=14)\n",
    "axes[0].grid()"
   ]
  },
  {
   "cell_type": "code",
   "execution_count": 9,
   "id": "c5a017aa-8b26-4149-8bee-3570310c0c94",
   "metadata": {},
   "outputs": [],
   "source": [
    "# Create a plot of the torque versus time on the second plot\n",
    "axes[1].plot(data['time'], data['torque'], label=\"Torque\", c='b', lw=2.5)\n",
    "axes[1].set_xlabel(\"Time [s]\", fontsize=12)\n",
    "axes[1].set_ylabel(\"Torque [Nm]\", fontsize=12)\n",
    "axes[1].tick_params(axis='both', labelsize=12)\n",
    "axes[1].set_title(\"Torque vs. Time\", fontsize=14)\n",
    "axes[1].grid()"
   ]
  },
  {
   "cell_type": "code",
   "execution_count": 10,
   "id": "da84299f-ab97-47ea-aa2f-8d3fee5a3d57",
   "metadata": {},
   "outputs": [
    {
     "name": "stdout",
     "output_type": "stream",
     "text": [
      "Termination command detected. Terminating keyboard listener. Goodbye\n"
     ]
    }
   ],
   "source": [
    "# Show the figure\n",
    "fig.tight_layout(pad=2.0)\n",
    "plt.show()"
   ]
  }
 ],
 "metadata": {
  "kernelspec": {
   "display_name": "Python 3 (ipykernel)",
   "language": "python",
   "name": "python3"
  },
  "language_info": {
   "codemirror_mode": {
    "name": "ipython",
    "version": 3
   },
   "file_extension": ".py",
   "mimetype": "text/x-python",
   "name": "python",
   "nbconvert_exporter": "python",
   "pygments_lexer": "ipython3",
   "version": "3.11.7"
  }
 },
 "nbformat": 4,
 "nbformat_minor": 5
}
