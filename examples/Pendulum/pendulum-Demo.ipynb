{
 "cells": [
  {
   "cell_type": "code",
   "execution_count": null,
   "id": "00f52642-97ac-43ca-957d-4102c79cba87",
   "metadata": {},
   "outputs": [],
   "source": [
    "# Import the pendulum project. This module is used to simulate, render, and plot the dynamic system\n",
    "import pendulum\n",
    "\n",
    "# Create an instance of the gyro simulator\n",
    "sim = pendulum.Pendulum_sim(use_keyboard=False,\n",
    "                            visualization=False)\n"
   ]
  },
  {
   "cell_type": "code",
   "execution_count": null,
   "id": "d4ea27f3-ac09-4b97-adaa-7842ac203b28",
   "metadata": {},
   "outputs": [],
   "source": [
    "# Set simulation parameters\n",
    "starting_angle = 30.0\n",
    "damping = 0.05"
   ]
  },
  {
   "cell_type": "code",
   "execution_count": null,
   "id": "1f2008c3-6c73-4e86-93c5-866964d4d1c4",
   "metadata": {},
   "outputs": [],
   "source": [
    "# Run the simulation\n",
    "data = sim.run(starting_angle=starting_angle*0.01745,\n",
    "               damping=damping,\n",
    "               max_time=10.0)"
   ]
  },
  {
   "cell_type": "code",
   "execution_count": null,
   "id": "753da9f6-c012-4801-8f63-0249ca324d8d",
   "metadata": {},
   "outputs": [],
   "source": [
    "# Extract simulation data\n",
    "import numpy as np\n",
    "\n",
    "# Extract time and torques\n",
    "time = np.array(data['time'])\n",
    "angle = np.array(data['angle']) * 180.0/np.pi\n",
    "angle_vel = np.array(data['angle_vel']) * 180.0/np.pi"
   ]
  },
  {
   "cell_type": "code",
   "execution_count": null,
   "id": "2bbc9c68-46d7-4a15-bd5b-3b6d0b5a8335",
   "metadata": {},
   "outputs": [],
   "source": [
    "# Use a numerical integrator and the linear approximation of pendulum dynamics to get an estimated trajectory\n",
    "theta = lambda t : starting_angle * np.cos(np.sqrt(9.81/1.0) * t)\n",
    "theta_dot = lambda t : -np.sqrt(9.81/1.0) * starting_angle * np.sin(np.sqrt(9.81/1.0) * t)\n",
    "est_angle = theta(time)\n",
    "est_angle_vel = theta_dot(time)"
   ]
  },
  {
   "cell_type": "code",
   "execution_count": null,
   "id": "591882f7-c349-443f-a734-bb573bde41ac",
   "metadata": {},
   "outputs": [],
   "source": [
    "# Plot simulation data\n",
    "import matplotlib.pyplot as plt\n",
    "%matplotlib inline\n",
    "\n",
    "# Create the plot\n",
    "fig, axes = plt.subplots(ncols=1, nrows=2, sharex=True, figsize=(10,5))\n",
    "\n",
    "# Plot the torques\n",
    "axes[0].plot(time, angle, c='r', lw=2, label='Simulated')\n",
    "axes[0].plot(time, est_angle, c='b', lw=2, ls=\"--\", label='Expected')\n",
    "axes[0].set_ylabel(\"Angle [deg]\")\n",
    "axes[0].legend(bbox_to_anchor=(1.18, 1.05), frameon=False)\n",
    "\n",
    "# Plot the accelerations\n",
    "axes[1].plot(time, angle_vel, c='r', lw=2, label='Simulated')\n",
    "axes[1].plot(time, est_angle_vel, c='b', lw=2, ls=\"--\", label='Expected')\n",
    "axes[1].set_xlabel(\"Time [s]\")\n",
    "axes[1].set_ylabel(\"Angular Vel [deg/s]\")\n",
    "axes[1].legend(bbox_to_anchor=(1.01, 1.05), frameon=False)\n",
    "fig.suptitle(\"Small Angle Approximation vs. Simulation\")\n",
    "plt.tight_layout()"
   ]
  },
  {
   "cell_type": "code",
   "execution_count": null,
   "id": "a2271521-fc52-4c90-b411-e76dcdd56a8d",
   "metadata": {},
   "outputs": [],
   "source": [
    "# Create the plot\n",
    "fig, ax = plt.subplots(ncols=1, nrows=1, figsize=(5.4,5))\n",
    "\n",
    "# Plot the torques\n",
    "ax.set_title(\"Small Angle Approximation vs. Simulation\")\n",
    "ax.plot(angle, angle_vel, c='r', lw=2, label='Simulated')\n",
    "ax.plot(est_angle, est_angle_vel, c='b', lw=2, ls=\"--\", label='Expected')\n",
    "ax.set_xlabel(\"Angle [deg]\")\n",
    "ax.set_ylabel(\"Angular Vel [deg/s]\")\n",
    "ax.legend(bbox_to_anchor=(1.35, 1.03), frameon=False)"
   ]
  },
  {
   "cell_type": "code",
   "execution_count": null,
   "id": "011246e6-b4f5-4e1f-ba45-a6c3aef716c9",
   "metadata": {},
   "outputs": [],
   "source": []
  }
 ],
 "metadata": {
  "kernelspec": {
   "display_name": "Python 3 (ipykernel)",
   "language": "python",
   "name": "python3"
  },
  "language_info": {
   "codemirror_mode": {
    "name": "ipython",
    "version": 3
   },
   "file_extension": ".py",
   "mimetype": "text/x-python",
   "name": "python",
   "nbconvert_exporter": "python",
   "pygments_lexer": "ipython3",
   "version": "3.13.7"
  }
 },
 "nbformat": 4,
 "nbformat_minor": 5
}
