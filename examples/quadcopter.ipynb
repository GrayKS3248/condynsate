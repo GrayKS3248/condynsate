{
 "cells": [
  {
   "cell_type": "code",
   "execution_count": 1,
   "id": "d485862b",
   "metadata": {},
   "outputs": [],
   "source": [
    "# Import packages\n",
    "import keyboard\n",
    "import condynsate"
   ]
  },
  {
   "cell_type": "code",
   "execution_count": 2,
   "id": "71f6dbaf",
   "metadata": {},
   "outputs": [
    {
     "name": "stdout",
     "output_type": "stream",
     "text": [
      "You can open the visualizer by visiting the following URL:\n",
      "http://127.0.0.1:7003/static/\n"
     ]
    }
   ],
   "source": [
    "# Create an instance of the simulator with visualization\n",
    "sim = condynsate.Simulator(visualization=True,\n",
    "                           animation=True,\n",
    "                           animation_fr=15.)"
   ]
  },
  {
   "cell_type": "code",
   "execution_count": 3,
   "id": "a2655b73",
   "metadata": {},
   "outputs": [],
   "source": [
    "# Load the ground\n",
    "ground_obj = sim.load_urdf(urdf_path='./quadcopter_vis/plane.urdf',\n",
    "                           tex_path='./quadcopter_vis/wave.png',\n",
    "                           position=[0., 0., -3.],\n",
    "                           wxyz_quaternion=[1., 0., 0., 0],\n",
    "                           fixed=True,\n",
    "                           update_vis=False)"
   ]
  },
  {
   "cell_type": "code",
   "execution_count": 4,
   "id": "7f8e33ea",
   "metadata": {},
   "outputs": [],
   "source": [
    "# Load the quadcopter\n",
    "quad_obj = sim.load_urdf(urdf_path='./quadcopter_vis/quadcopter.urdf',\n",
    "                         tex_path='./quadcopter_vis/nametag.png',\n",
    "                         fixed=False,\n",
    "                         update_vis=True)"
   ]
  },
  {
   "cell_type": "code",
   "execution_count": 5,
   "id": "1e6798ca",
   "metadata": {},
   "outputs": [],
   "source": [
    "# Apply damping to rotors\n",
    "sim.set_joint_damping(urdf_obj=quad_obj,\n",
    "                      joint_name='spar1_to_rotor1',\n",
    "                      damping=0.1)\n",
    "sim.set_joint_damping(urdf_obj=quad_obj,\n",
    "                      joint_name='spar2_to_rotor2',\n",
    "                      damping=0.1)\n",
    "sim.set_joint_damping(urdf_obj=quad_obj,\n",
    "                      joint_name='spar3_to_rotor3',\n",
    "                      damping=0.1)\n",
    "sim.set_joint_damping(urdf_obj=quad_obj,\n",
    "                      joint_name='spar4_to_rotor4',\n",
    "                      damping=0.1)"
   ]
  },
  {
   "cell_type": "code",
   "execution_count": 6,
   "id": "24f24b76",
   "metadata": {},
   "outputs": [],
   "source": [
    "# Variables to track torque\n",
    "min_torque = 0.1\n",
    "max_torque = 5.\n",
    "\n",
    "# Keyboard IO function for torque\n",
    "def get_torque_setting(min_torque, max_torque):\n",
    "    torque_1 = -min_torque\n",
    "    torque_2 = min_torque\n",
    "    torque_3 = -min_torque\n",
    "    torque_4 = min_torque\n",
    "    if keyboard.is_pressed(\"a\"):\n",
    "        torque_1 = -max_torque\n",
    "    if keyboard.is_pressed(\"s\"):\n",
    "        torque_2 = max_torque\n",
    "    if keyboard.is_pressed(\"d\"):\n",
    "        torque_3 = -max_torque\n",
    "    if keyboard.is_pressed(\"f\"):\n",
    "        torque_4 = max_torque\n",
    "    return torque_1, torque_2, torque_3, torque_4"
   ]
  },
  {
   "cell_type": "code",
   "execution_count": 7,
   "id": "c60938d1",
   "metadata": {},
   "outputs": [],
   "source": [
    "# Create desired plots in the animator\n",
    "pot_engs=[]\n",
    "kin_engs=[]\n",
    "plot_1 = sim.add_plot_to_animator(title=\"Potention Energy vs Kinetic\",\n",
    "                                  x_label=\"Kinetic Energy [J]\",\n",
    "                                  y_label=\"Potention Energy [J]\",\n",
    "                                  color=\"r\",\n",
    "                                  tail=50)"
   ]
  },
  {
   "cell_type": "code",
   "execution_count": 8,
   "id": "32c21e57",
   "metadata": {},
   "outputs": [],
   "source": [
    "# Open the animator GUI\n",
    "sim.open_animator_gui()"
   ]
  },
  {
   "cell_type": "code",
   "execution_count": 9,
   "id": "67409cbc",
   "metadata": {},
   "outputs": [],
   "source": [
    "# Main simulation loop\n",
    "done=False\n",
    "while not done:\n",
    "    # Get the torque\n",
    "    t1, t2, t3, t4 = get_torque_setting(min_torque, max_torque)\n",
    "    \n",
    "    # Set torques\n",
    "    sim.set_joint_torque(urdf_obj=quad_obj,\n",
    "                        joint_name='spar1_to_rotor1',\n",
    "                        torque=t1,\n",
    "                        show_arrow=True,\n",
    "                        arrow_scale=0.1,\n",
    "                        color=False)\n",
    "    sim.set_joint_torque(urdf_obj=quad_obj,\n",
    "                        joint_name='spar2_to_rotor2',\n",
    "                        torque=t2,\n",
    "                        show_arrow=True,\n",
    "                        arrow_scale=0.1,\n",
    "                        color=False)\n",
    "    sim.set_joint_torque(urdf_obj=quad_obj,\n",
    "                        joint_name='spar3_to_rotor3',\n",
    "                        torque=t3,\n",
    "                        show_arrow=True,\n",
    "                        arrow_scale=0.1,\n",
    "                        color=False)\n",
    "    sim.set_joint_torque(urdf_obj=quad_obj,\n",
    "                        joint_name='spar4_to_rotor4',\n",
    "                        torque=t4,\n",
    "                        show_arrow=True,\n",
    "                        arrow_scale=0.1,\n",
    "                        color=False)\n",
    "    \n",
    "    # Color rotors based on velocity\n",
    "    sim.set_color_from_vel(urdf_obj=quad_obj,\n",
    "                           joint_name='spar1_to_rotor1',\n",
    "                           min_vel=-100.,\n",
    "                           max_vel=100.)\n",
    "    sim.set_color_from_vel(urdf_obj=quad_obj,\n",
    "                           joint_name='spar2_to_rotor2',\n",
    "                           min_vel=-100.,\n",
    "                           max_vel=100.)\n",
    "    sim.set_color_from_vel(urdf_obj=quad_obj,\n",
    "                           joint_name='spar3_to_rotor3',\n",
    "                           min_vel=-100.,\n",
    "                           max_vel=100.)\n",
    "    sim.set_color_from_vel(urdf_obj=quad_obj,\n",
    "                           joint_name='spar4_to_rotor4',\n",
    "                           min_vel=-100.,\n",
    "                           max_vel=100.)\n",
    "    \n",
    "    # Retrieve the joint states for force calculation\n",
    "    _,vel_1,_,_,_ = sim.get_joint_state(urdf_obj=quad_obj,\n",
    "                                        joint_name=\"spar1_to_rotor1\")\n",
    "    _,vel_2,_,_,_ = sim.get_joint_state(urdf_obj=quad_obj,\n",
    "                                        joint_name=\"spar2_to_rotor2\")\n",
    "    _,vel_3,_,_,_ = sim.get_joint_state(urdf_obj=quad_obj,\n",
    "                                        joint_name=\"spar3_to_rotor3\")\n",
    "    _,vel_4,_,_,_ = sim.get_joint_state(urdf_obj=quad_obj,\n",
    "                                        joint_name=\"spar4_to_rotor4\")\n",
    "    \n",
    "    # Set force based on velocity\n",
    "    sim.apply_force_to_link(urdf_obj=quad_obj,\n",
    "                            link_name='rotor1',\n",
    "                            force=[0., 0.001*vel_1, -0.05*vel_1],\n",
    "                            show_arrow=True,\n",
    "                            arrow_scale=0.40)\n",
    "    sim.apply_force_to_link(urdf_obj=quad_obj,\n",
    "                            link_name='rotor2',\n",
    "                            force=[0., 0.001*vel_2, 0.05*vel_2],\n",
    "                            show_arrow=True,\n",
    "                            arrow_scale=0.40)\n",
    "    sim.apply_force_to_link(urdf_obj=quad_obj,\n",
    "                            link_name='rotor3',\n",
    "                            force=[0., 0.001*vel_3, -0.05*vel_3],\n",
    "                            show_arrow=True,\n",
    "                            arrow_scale=0.40)\n",
    "    sim.apply_force_to_link(urdf_obj=quad_obj,\n",
    "                            link_name='rotor4',\n",
    "                            force=[0., 0.001*vel_4, 0.05*vel_4],\n",
    "                            show_arrow=True,\n",
    "                            arrow_scale=0.40)\n",
    "    \n",
    "    # Set the plot data\n",
    "    pos,_,vel,_ = sim.get_base_state(quad_obj,\n",
    "                                     body_coords=False)\n",
    "    pot_eng = 0.1*9.81*(pos[2]+3.)\n",
    "    kin_eng = 0.5*0.1*(vel[0]*vel[0] + vel[1]*vel[1] + vel[2]*vel[2])\n",
    "    pot_engs.append(pot_eng)\n",
    "    kin_engs.append(kin_eng)\n",
    "    sim.set_plot_data(plot_1, kin_engs, pot_engs)\n",
    "    \n",
    "    # Step the sim\n",
    "    sim.step(real_time=True,\n",
    "             update_vis=True,\n",
    "             update_ani=True)\n",
    "\n",
    "    # Collect keyboard IO for termination\n",
    "    if keyboard.is_pressed(\"esc\"):\n",
    "        done = True"
   ]
  },
  {
   "cell_type": "code",
   "execution_count": null,
   "id": "23ae2a8f",
   "metadata": {},
   "outputs": [],
   "source": []
  }
 ],
 "metadata": {
  "kernelspec": {
   "display_name": "Python 3 (ipykernel)",
   "language": "python",
   "name": "python3"
  },
  "language_info": {
   "codemirror_mode": {
    "name": "ipython",
    "version": 3
   },
   "file_extension": ".py",
   "mimetype": "text/x-python",
   "name": "python",
   "nbconvert_exporter": "python",
   "pygments_lexer": "ipython3",
   "version": "3.9.2"
  }
 },
 "nbformat": 4,
 "nbformat_minor": 5
}
