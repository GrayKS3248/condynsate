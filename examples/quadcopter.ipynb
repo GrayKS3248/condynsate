{
 "cells": [
  {
   "cell_type": "code",
   "execution_count": 1,
   "id": "d485862b",
   "metadata": {},
   "outputs": [],
   "source": [
    "# Import packages\n",
    "import condynsate"
   ]
  },
  {
   "cell_type": "code",
   "execution_count": 2,
   "id": "71f6dbaf",
   "metadata": {},
   "outputs": [
    {
     "name": "stdout",
     "output_type": "stream",
     "text": [
      "You can open the visualizer by visiting the following URL:\n",
      "http://127.0.0.1:7002/static/\n"
     ]
    }
   ],
   "source": [
    "# Create an instance of the simulator with visualization\n",
    "sim = condynsate.Simulator(visualization=True,\n",
    "                           animation=True,\n",
    "                           animation_fr=15.)"
   ]
  },
  {
   "cell_type": "code",
   "execution_count": 3,
   "id": "a2655b73",
   "metadata": {},
   "outputs": [],
   "source": [
    "# Load the ground\n",
    "ground_obj = sim.load_urdf(urdf_path='./quadcopter_vis/plane.urdf',\n",
    "                           tex_path='./quadcopter_vis/wave.png',\n",
    "                           position=[0., 0., -3.],\n",
    "                           wxyz_quaternion=[1., 0., 0., 0],\n",
    "                           fixed=True,\n",
    "                           update_vis=False)"
   ]
  },
  {
   "cell_type": "code",
   "execution_count": 4,
   "id": "7f8e33ea",
   "metadata": {},
   "outputs": [],
   "source": [
    "# Load the quadcopter\n",
    "quad_obj = sim.load_urdf(urdf_path='./quadcopter_vis/quadcopter.urdf',\n",
    "                         tex_path='./quadcopter_vis/nametag.png',\n",
    "                         fixed=False,\n",
    "                         update_vis=True)"
   ]
  },
  {
   "cell_type": "code",
   "execution_count": 5,
   "id": "1e6798ca",
   "metadata": {},
   "outputs": [],
   "source": [
    "# Apply damping to rotors\n",
    "sim.set_joint_damping(urdf_obj=quad_obj,\n",
    "                      joint_name='spar1_to_rotor1',\n",
    "                      damping=0.1)\n",
    "sim.set_joint_damping(urdf_obj=quad_obj,\n",
    "                      joint_name='spar2_to_rotor2',\n",
    "                      damping=0.1)\n",
    "sim.set_joint_damping(urdf_obj=quad_obj,\n",
    "                      joint_name='spar3_to_rotor3',\n",
    "                      damping=0.1)\n",
    "sim.set_joint_damping(urdf_obj=quad_obj,\n",
    "                      joint_name='spar4_to_rotor4',\n",
    "                      damping=0.1)"
   ]
  },
  {
   "cell_type": "code",
   "execution_count": 6,
   "id": "24f24b76",
   "metadata": {},
   "outputs": [],
   "source": [
    "# Variables to track torque\n",
    "min_torque = 0.\n",
    "max_torque = 5.\n",
    "\n",
    "# Keyboard IO function for torque\n",
    "def get_torque_setting(min_torque, max_torque):\n",
    "    torque_1 = -min_torque\n",
    "    torque_2 = min_torque\n",
    "    torque_3 = -min_torque\n",
    "    torque_4 = min_torque\n",
    "    if sim.is_pressed(\"a\"):\n",
    "        torque_1 = -max_torque\n",
    "    if sim.is_pressed(\"s\"):\n",
    "        torque_2 = max_torque\n",
    "    if sim.is_pressed(\"d\"):\n",
    "        torque_3 = -max_torque\n",
    "    if sim.is_pressed(\"f\"):\n",
    "        torque_4 = max_torque\n",
    "    return torque_1, torque_2, torque_3, torque_4"
   ]
  },
  {
   "cell_type": "code",
   "execution_count": 7,
   "id": "c60938d1",
   "metadata": {},
   "outputs": [],
   "source": [
    "# Create desired plots in the animator\n",
    "plot, lines = sim.add_subplot(n_lines=1,\n",
    "                              title=\"Potention Energy vs Kinetic\",\n",
    "                              x_label=\"Kinetic Energy [J]\",\n",
    "                              y_label=\"Potention Energy [J]\",\n",
    "                              colors=[\"r\"],\n",
    "                              tail=500)"
   ]
  },
  {
   "cell_type": "code",
   "execution_count": 8,
   "id": "32c21e57",
   "metadata": {},
   "outputs": [],
   "source": [
    "# Open the animator GUI\n",
    "sim.open_animator_gui()"
   ]
  },
  {
   "cell_type": "code",
   "execution_count": 9,
   "id": "67409cbc",
   "metadata": {},
   "outputs": [
    {
     "name": "stdout",
     "output_type": "stream",
     "text": [
      "Termination command detected. Terminating keyboard listener. Goodbye\n"
     ]
    }
   ],
   "source": [
    "# Main simulation loop\n",
    "while not sim.is_done:\n",
    "    # Get the torque\n",
    "    t1, t2, t3, t4 = get_torque_setting(min_torque, max_torque)\n",
    "    \n",
    "    # Set torques\n",
    "    sim.set_joint_torque(urdf_obj=quad_obj,\n",
    "                        joint_name='spar1_to_rotor1',\n",
    "                        torque=t1,\n",
    "                        color=True)\n",
    "    sim.set_joint_torque(urdf_obj=quad_obj,\n",
    "                        joint_name='spar2_to_rotor2',\n",
    "                        torque=t2,\n",
    "                        color=True)\n",
    "    sim.set_joint_torque(urdf_obj=quad_obj,\n",
    "                        joint_name='spar3_to_rotor3',\n",
    "                        torque=t3,\n",
    "                        color=True)\n",
    "    sim.set_joint_torque(urdf_obj=quad_obj,\n",
    "                        joint_name='spar4_to_rotor4',\n",
    "                        torque=t4,\n",
    "                        color=True)\n",
    "    \n",
    "    # Retrieve the joint states for force calculation\n",
    "    state1 = sim.get_joint_state(urdf_obj=quad_obj,\n",
    "                                 joint_name=\"spar1_to_rotor1\")\n",
    "    state2 = sim.get_joint_state(urdf_obj=quad_obj,\n",
    "                                 joint_name=\"spar2_to_rotor2\")\n",
    "    state3 = sim.get_joint_state(urdf_obj=quad_obj,\n",
    "                                 joint_name=\"spar3_to_rotor3\")\n",
    "    state4 = sim.get_joint_state(urdf_obj=quad_obj,\n",
    "                                 joint_name=\"spar4_to_rotor4\")\n",
    "    vel_1 = state1['velocity']\n",
    "    vel_2 = state2['velocity']\n",
    "    vel_3 = state3['velocity']\n",
    "    vel_4 = state4['velocity']\n",
    "    \n",
    "    # Set force based on velocity\n",
    "    sim.apply_force_to_link(urdf_obj=quad_obj,\n",
    "                            link_name='rotor1',\n",
    "                            force=[0., 0.001*vel_1, -0.05*vel_1],\n",
    "                            show_arrow=True,\n",
    "                            arrow_scale=0.40)\n",
    "    sim.apply_force_to_link(urdf_obj=quad_obj,\n",
    "                            link_name='rotor2',\n",
    "                            force=[0., 0.001*vel_2, 0.05*vel_2],\n",
    "                            show_arrow=True,\n",
    "                            arrow_scale=0.40)\n",
    "    sim.apply_force_to_link(urdf_obj=quad_obj,\n",
    "                            link_name='rotor3',\n",
    "                            force=[0., 0.001*vel_3, -0.05*vel_3],\n",
    "                            show_arrow=True,\n",
    "                            arrow_scale=0.40)\n",
    "    sim.apply_force_to_link(urdf_obj=quad_obj,\n",
    "                            link_name='rotor4',\n",
    "                            force=[0., 0.001*vel_4, 0.05*vel_4],\n",
    "                            show_arrow=True,\n",
    "                            arrow_scale=0.40)\n",
    "    \n",
    "    # Set the plot data\n",
    "    state = sim.get_base_state(quad_obj,\n",
    "                               body_coords=False)\n",
    "    pos = state['position']\n",
    "    vel = state['velocity']\n",
    "    pot_eng = 0.1*9.81*(pos[2]+3.)\n",
    "    kin_eng = 0.5*0.1*(vel[0]*vel[0] + vel[1]*vel[1] + vel[2]*vel[2])\n",
    "    sim.add_subplot_point(subplot_index=plot,\n",
    "                          line_index=lines[0],\n",
    "                          x=kin_eng,\n",
    "                          y=pot_eng)\n",
    "    \n",
    "    # Step the sim\n",
    "    sim.step(real_time=True,\n",
    "             update_vis=True,\n",
    "             update_ani=True)\n",
    "    "
   ]
  },
  {
   "cell_type": "code",
   "execution_count": null,
   "id": "23ae2a8f",
   "metadata": {},
   "outputs": [],
   "source": []
  }
 ],
 "metadata": {
  "kernelspec": {
   "display_name": "Python 3 (ipykernel)",
   "language": "python",
   "name": "python3"
  },
  "language_info": {
   "codemirror_mode": {
    "name": "ipython",
    "version": 3
   },
   "file_extension": ".py",
   "mimetype": "text/x-python",
   "name": "python",
   "nbconvert_exporter": "python",
   "pygments_lexer": "ipython3",
   "version": "3.11.5"
  }
 },
 "nbformat": 4,
 "nbformat_minor": 5
}
