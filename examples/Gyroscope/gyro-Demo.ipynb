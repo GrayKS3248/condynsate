{
 "cells": [
  {
   "cell_type": "code",
   "execution_count": null,
   "id": "00f52642-97ac-43ca-957d-4102c79cba87",
   "metadata": {},
   "outputs": [],
   "source": [
    "# Import the gyro project. This module is used to simulate, render, and plot the dynamic system\n",
    "import gyro\n",
    "\n",
    "# Create an instance of the gyro simulator\n",
    "sim = gyro.Gyro_sim(use_keyboard=True)\n",
    "\n",
    "# Run the simulation\n",
    "data = sim.run(wheel_vel=0.0)"
   ]
  },
  {
   "cell_type": "code",
   "execution_count": null,
   "id": "753da9f6-c012-4801-8f63-0249ca324d8d",
   "metadata": {},
   "outputs": [],
   "source": [
    "# Extract simulation data\n",
    "import numpy as np\n",
    "\n",
    "# Extract time and torques\n",
    "time = data['time']\n",
    "tauO = data['tauO']\n",
    "tau2 = data['tau2']\n",
    "tau1 = data['tau1']\n",
    "\n",
    "# Create empty lists in which to store the joint data\n",
    "o_ang = []\n",
    "o_vel = []\n",
    "r2_ang = []\n",
    "r2_vel = []\n",
    "r1_ang = []\n",
    "r1_vel = []\n",
    "\n",
    "# Extract the joint data\n",
    "for o, r2, r1 in zip(data['outer'], data['r2'], data['r1']):\n",
    "    o_ang.append(o['position'])\n",
    "    o_vel.append(o['velocity'])\n",
    "    r2_ang.append(r2['position'])\n",
    "    r2_vel.append(r2['velocity'])\n",
    "    r1_ang.append(r1['position'])\n",
    "    r1_vel.append(r1['velocity'])\n",
    "\n",
    "# Format the lists\n",
    "time = np.array(time)\n",
    "tauO = np.array(tauO)\n",
    "tau2 = np.array(tau2)\n",
    "tau1 = np.array(tau1)\n",
    "o_ang = np.array(o_ang)\n",
    "o_vel = np.array(o_vel)\n",
    "r2_ang = np.array(r2_ang)\n",
    "r2_vel = np.array(r2_vel)\n",
    "r1_ang = np.array(r1_ang)\n",
    "r1_vel = np.array(r1_vel)"
   ]
  },
  {
   "cell_type": "code",
   "execution_count": null,
   "id": "8cc141db-70d4-4063-ae22-56304f238feb",
   "metadata": {},
   "outputs": [],
   "source": [
    "# Estimate the acceleration of the joints\n",
    "dt = time[1]-time[0]\n",
    "o_acc = np.gradient(o_vel, dt)\n",
    "r2_acc = np.gradient(r2_vel, dt)\n",
    "r1_acc = np.gradient(r1_vel, dt)"
   ]
  },
  {
   "cell_type": "code",
   "execution_count": null,
   "id": "591882f7-c349-443f-a734-bb573bde41ac",
   "metadata": {},
   "outputs": [],
   "source": [
    "# Plot simulation data\n",
    "import matplotlib.pyplot as plt\n",
    "%matplotlib inline\n",
    "\n",
    "# Create the plot\n",
    "fig, axes = plt.subplots(ncols=1, nrows=2, sharex=True, figsize=(10,5))\n",
    "\n",
    "# Plot the torques\n",
    "axes[0].plot(time, tauO, c='r', lw=2, label='outer')\n",
    "axes[0].plot(time, tau2, c='b', lw=2, label='ring 2')\n",
    "axes[0].plot(time, tau1, c='k', lw=2, label='ring 1')\n",
    "axes[0].set_ylabel(\"Torque [Nm]\")\n",
    "axes[0].legend(bbox_to_anchor=(1.14, 1.05), frameon=False)\n",
    "\n",
    "# Plot the accelerations\n",
    "axes[1].plot(time, o_acc, c='r', lw=2, label='outer')\n",
    "axes[1].plot(time, r2_acc, c='b', lw=2, label='ring 2')\n",
    "axes[1].plot(time, r1_acc, c='k', lw=2, label='ring 1')\n",
    "axes[1].set_xlabel(\"Time [s]\")\n",
    "axes[1].set_ylabel(\"Acceleration [rad/s^2]\")\n",
    "axes[1].legend(bbox_to_anchor=(1.01, 1.05), frameon=False)\n",
    "plt.tight_layout()"
   ]
  },
  {
   "cell_type": "code",
   "execution_count": null,
   "id": "a2271521-fc52-4c90-b411-e76dcdd56a8d",
   "metadata": {},
   "outputs": [],
   "source": [
    "# Create the plot\n",
    "%matplotlib inline\n",
    "fig, axes = plt.subplots(ncols=3, nrows=1, figsize=(10,3.5))\n",
    "\n",
    "# Plot the outer ring phase diagram\n",
    "axes[0].plot(o_ang, o_vel, c='r', lw=2)\n",
    "axes[0].set_xlabel(\"Angle [Rad]\")\n",
    "axes[0].set_ylabel(\"Velocity [Rad/s]\")\n",
    "axes[0].set_title(\"Outer\")\n",
    "\n",
    "# Plot the ring 2 phase diagram\n",
    "axes[1].plot(r2_ang, r2_vel, c='b', lw=2)\n",
    "axes[1].set_xlabel(\"Angle [Rad]\")\n",
    "axes[1].set_ylabel(\"Velocity [Rad/s]\")\n",
    "axes[1].set_title(\"Ring 2\")\n",
    "\n",
    "# Plot the ring 1 phase diagram\n",
    "axes[2].plot(r1_ang, r1_vel, c='k', lw=2)\n",
    "axes[2].set_xlabel(\"Angle [Rad]\")\n",
    "axes[2].set_ylabel(\"Velocity [Rad/s]\")\n",
    "axes[2].set_title(\"Ring 1\")\n",
    "plt.tight_layout()"
   ]
  },
  {
   "cell_type": "code",
   "execution_count": null,
   "id": "011246e6-b4f5-4e1f-ba45-a6c3aef716c9",
   "metadata": {},
   "outputs": [],
   "source": []
  }
 ],
 "metadata": {
  "kernelspec": {
   "display_name": "Python 3 (ipykernel)",
   "language": "python",
   "name": "python3"
  },
  "language_info": {
   "codemirror_mode": {
    "name": "ipython",
    "version": 3
   },
   "file_extension": ".py",
   "mimetype": "text/x-python",
   "name": "python",
   "nbconvert_exporter": "python",
   "pygments_lexer": "ipython3",
   "version": "3.12.10"
  }
 },
 "nbformat": 4,
 "nbformat_minor": 5
}
