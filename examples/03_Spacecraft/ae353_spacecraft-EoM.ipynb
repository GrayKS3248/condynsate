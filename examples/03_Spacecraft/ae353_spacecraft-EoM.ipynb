{
 "cells": [
  {
   "cell_type": "markdown",
   "id": "650ddea5-9f39-4963-9c7c-db669b23030f",
   "metadata": {},
   "source": [
    "# Derive the Dynamics and Sensor Model"
   ]
  },
  {
   "cell_type": "markdown",
   "id": "9ad9ee3d-8756-4ed2-b3e2-4731973a4e26",
   "metadata": {},
   "source": [
    "## Derive Dynamics Model"
   ]
  },
  {
   "cell_type": "markdown",
   "id": "1a8e6c53-cc80-4ac6-bdcb-00ee25104a66",
   "metadata": {},
   "source": [
    "Import all packages used to derive the equations of motion of the system"
   ]
  },
  {
   "cell_type": "code",
   "execution_count": 1,
   "id": "56e4c22e-30c2-4526-834d-78a0c473b118",
   "metadata": {},
   "outputs": [],
   "source": [
    "import sympy as sym\n",
    "import numpy as np\n",
    "sym.init_printing()"
   ]
  },
  {
   "cell_type": "markdown",
   "id": "4346565e-38a0-41e0-9448-aadee5775706",
   "metadata": {},
   "source": [
    "Define a function that converts a vector in coordinate frame A to a coordinate frame B where the orientation of A in B is described by a set of angles: roll, pitch, yaw."
   ]
  },
  {
   "cell_type": "code",
   "execution_count": 2,
   "id": "e2e0f64c-071a-410c-b4e6-d25e699c440c",
   "metadata": {},
   "outputs": [],
   "source": [
    "def change_of_coords(v_inA, roll, pitch, yaw):\n",
    "    # Get the rotation matrices from the roll, pitch, and yaw values\n",
    "    cx = np.cos(roll)\n",
    "    sx = np.sin(roll)\n",
    "    cy = np.cos(pitch)\n",
    "    sy = np.sin(pitch)\n",
    "    cz = np.cos(yaw)\n",
    "    sz = np.sin(yaw)\n",
    "    Rx = np.array([[1., 0., 0.],\n",
    "                   [0., cx, -sx],\n",
    "                   [0., sx, cx]])\n",
    "    Ry = np.array([[cy, 0., sy],\n",
    "                   [0., 1., 0.],\n",
    "                   [-sy, 0., cy]])\n",
    "    Rz = np.array([[cz, -sz, 0.],\n",
    "                   [sz, cz, 0.],\n",
    "                   [0., 0., 1.]])\n",
    "\n",
    "    # Combine the individual rotations into a single transform\n",
    "    R_ofA_inB = Rz@Ry@Rx\n",
    "\n",
    "    # Apply the transform the the original vector in frame A\n",
    "    v_inB = R_ofA_inB @ v_inA\n",
    "\n",
    "    # Return the same vector in frame B\n",
    "    return v_inB"
   ]
  },
  {
   "cell_type": "markdown",
   "id": "dc3db9ba-9387-431e-adba-dca229c2efaa",
   "metadata": {},
   "source": [
    "Define all the system constants (system parameters)"
   ]
  },
  {
   "cell_type": "code",
   "execution_count": 3,
   "id": "5c7afb10-06d3-4c1b-bc19-abcb22d6ea39",
   "metadata": {},
   "outputs": [],
   "source": [
    "# Mass and moment of inertia of the bus\n",
    "mb = 6.\n",
    "Ixxb = 10.\n",
    "Iyyb = 10.\n",
    "Izzb = 16.\n",
    "\n",
    "# Radius of the bus\n",
    "rb = 2.2\n",
    "\n",
    "# Mass and moment of inertia of each wheel\n",
    "mw = 1.\n",
    "Ixxw = 0.075\n",
    "Iyyw = 0.075\n",
    "Izzw = 0.125"
   ]
  },
  {
   "cell_type": "markdown",
   "id": "20b2c703-7cf5-430f-a1b9-adc980bc82ac",
   "metadata": {},
   "source": [
    "Generate the symbols that define the state of the spacecraft. Also, create the rotation matrices that define the orientation of the spacecraft in the world coordinate system."
   ]
  },
  {
   "cell_type": "code",
   "execution_count": 4,
   "id": "21fafbd0-4dc8-4634-ab40-32ab4998b985",
   "metadata": {},
   "outputs": [],
   "source": [
    "# Define roll (phi), pitch (theta), and yaw (psi) angles\n",
    "phi, theta, psi = sym.symbols('phi, theta, psi')\n",
    "\n",
    "# Define angular velocities\n",
    "wx_inB, wy_inB, wz_inB = sym.symbols('omega_x, omega_y, omega_z')\n",
    "\n",
    "# Define angular velocity vector written in body coordinates\n",
    "w_inB = sym.Matrix([[wx_inB],\n",
    "                    [wy_inB],\n",
    "                    [wz_inB]])\n",
    "\n",
    "# Define roll, pitch, and yaw rotation matrices that describe the bus's orientation in the \n",
    "# world frame\n",
    "Rx = sym.Matrix([[1,            0,             0],\n",
    "                 [0, sym.cos(phi), -sym.sin(phi)],\n",
    "                 [0, sym.sin(phi),  sym.cos(phi)]])\n",
    "Ry = sym.Matrix([[ sym.cos(theta), 0, sym.sin(theta)],\n",
    "                 [              0, 1,              0],\n",
    "                 [-sym.sin(theta), 0, sym.cos(theta)]])\n",
    "Rz = sym.Matrix([[sym.cos(psi), -sym.sin(psi), 0],\n",
    "                 [sym.sin(psi),  sym.cos(psi), 0],\n",
    "                 [           0,             0, 1]])"
   ]
  },
  {
   "cell_type": "markdown",
   "id": "72805ee6-3d58-4403-8128-578a9c4f0ac9",
   "metadata": {},
   "source": [
    "Generate the symbols that define the input to the system. Also sum the together to get the net input vector."
   ]
  },
  {
   "cell_type": "code",
   "execution_count": 5,
   "id": "44c69eed-34f7-40d3-a2b9-19ca17b912f2",
   "metadata": {},
   "outputs": [
    {
     "name": "stdout",
     "output_type": "stream",
     "text": [
      "Torques applied to spacecraft in spacecraft-fixed coordinates:\n"
     ]
    },
    {
     "data": {
      "text/latex": [
       "$\\displaystyle \\left[\\begin{matrix}- 0.433 \\tau_{2} + 0.866 \\tau_{3} - 0.433 \\tau_{4}\\\\- 0.75 \\tau_{2} + 1.7 \\cdot 10^{-8} \\tau_{3} + 0.75 \\tau_{4}\\\\- 1.0 \\tau_{1} + 0.5 \\tau_{2} + 0.5 \\tau_{3} + 0.5 \\tau_{4}\\end{matrix}\\right]$"
      ],
      "text/plain": [
       "⎡-0.433⋅τ₂ + 0.866⋅τ₃ - 0.433⋅τ₄⎤\n",
       "⎢                               ⎥\n",
       "⎢-0.75⋅τ₂ + 1.7e-8⋅τ₃ + 0.75⋅τ₄ ⎥\n",
       "⎢                               ⎥\n",
       "⎣-τ₁ + 0.5⋅τ₂ + 0.5⋅τ₃ + 0.5⋅τ₄ ⎦"
      ]
     },
     "execution_count": 5,
     "metadata": {},
     "output_type": "execute_result"
    }
   ],
   "source": [
    "# Define torques\n",
    "tau_1, tau_2, tau_3, tau_4 = sym.symbols('tau_1, tau_2, tau_3, tau_4')\n",
    "\n",
    "# Multiply torque scalars by their directions (in each wheel's frame)\n",
    "# to get the torque applied to each wheel as a vector\n",
    "t1_inT1 = tau_1 * sym.Matrix([[0.],\n",
    "                              [0.],\n",
    "                              [1.]])\n",
    "t2_inT2 = tau_2 * sym.Matrix([[0.],\n",
    "                              [0.],\n",
    "                              [1.]])\n",
    "t3_inT3 = tau_3 * sym.Matrix([[0.],\n",
    "                              [0.],\n",
    "                              [1.]])\n",
    "t4_inT4 = tau_4 * sym.Matrix([[0.],\n",
    "                              [0.],\n",
    "                              [1.]])\n",
    "\n",
    "# Change the torque on the wheel vectors from their own body coordinates to bus coordinates\n",
    "t1_inB = change_of_coords(t1_inT1, 0.,       0., 1.570796)\n",
    "t2_inB = change_of_coords(t2_inT2, 2.094395, 0., 2.617994)\n",
    "t3_inB = change_of_coords(t3_inT3, 2.094395, 0., 4.712389)\n",
    "t4_inB = change_of_coords(t4_inT4, 2.094395, 0., 0.523599)\n",
    "\n",
    "# Sum the torque vectors to get the total torque on the spacecraft by the wheels \n",
    "# in bus coordinates.\n",
    "# We use minus because the torque on the bus is in the opposite direction as the torque\n",
    "# applied to the wheels (Newton's third law)\n",
    "tau_inB = -t1_inB - t2_inB - t3_inB - t4_inB\n",
    "tau_inB = sym.simplify(tau_inB)\n",
    "print(\"Torques applied to spacecraft in spacecraft-fixed coordinates:\")\n",
    "sym.N(tau_inB, 3)"
   ]
  },
  {
   "cell_type": "markdown",
   "id": "0cc7db4e-587c-4805-a76d-70056697f140",
   "metadata": {},
   "source": [
    "Apply the parallel axis theorem to convert the moment's of inertia about each wheel's center to the center of the bus. We assume that each wheel has no moment of inertia and can be modeled as a point mass. This is valid because the moment of inertia about each wheel is small compared to the inertia imposed by their location"
   ]
  },
  {
   "cell_type": "code",
   "execution_count": 6,
   "id": "dbd757c9-4fdf-45cd-9e46-8add8db051a6",
   "metadata": {},
   "outputs": [
    {
     "name": "stdout",
     "output_type": "stream",
     "text": [
      "Moment of inertia of spacecraft written in principal axes:\n"
     ]
    },
    {
     "data": {
      "text/latex": [
       "$\\displaystyle \\left[\\begin{matrix}23.9 & 0 & 0\\\\0 & 23.9 & 0\\\\0 & 0 & 26.9\\end{matrix}\\right]$"
      ],
      "text/plain": [
       "⎡23.9   0     0  ⎤\n",
       "⎢                ⎥\n",
       "⎢ 0    23.9   0  ⎥\n",
       "⎢                ⎥\n",
       "⎣ 0     0    26.9⎦"
      ]
     },
     "execution_count": 6,
     "metadata": {},
     "output_type": "execute_result"
    }
   ],
   "source": [
    "# First we get the position of the center of mass of each wheel in bus coordinates\n",
    "p1_inB = np.round(np.array(rb*(t1_inB/tau_1)).astype(np.float64).flatten(),6)\n",
    "p2_inB = np.round(np.array(rb*(t2_inB/tau_2)).astype(np.float64).flatten(),6)\n",
    "p3_inB = np.round(np.array(rb*(t3_inB/tau_3)).astype(np.float64).flatten(),6)\n",
    "p4_inB = np.round(np.array(rb*(t4_inB/tau_4)).astype(np.float64).flatten(),6)\n",
    "ps_inB = [p1_inB, p2_inB, p3_inB, p4_inB]\n",
    "\n",
    "# Get the total moment of inertia\n",
    "Ixx = Ixxb\n",
    "Iyy = Iyyb\n",
    "Izz = Izzb\n",
    "for p_inB in ps_inB:\n",
    "    # Get the distance from the x axis and the resultant point inertia\n",
    "    dx = np.linalg.norm(p_inB[1:])\n",
    "    ixx = mw * dx**2\n",
    "    Ixx = Ixx + ixx\n",
    "    \n",
    "    # Get the distance from the y axis and the resultant point inertia\n",
    "    dy = np.linalg.norm(p_inB[0:3:2])\n",
    "    iyy = mw * dy**2\n",
    "    Iyy = Iyy + iyy\n",
    "    \n",
    "    # Get the distance from the z axis and the resultant point inertia\n",
    "    dz = np.linalg.norm(p_inB[0:2])\n",
    "    izz = mw * dz**2\n",
    "    Izz = Izz + izz\n",
    "\n",
    "# Assemble the moment of inertia matrix\n",
    "I_inB = sym.Matrix([[Ixx, 0.,  0.],\n",
    "                    [0.,  Iyy, 0.],\n",
    "                    [0.,  0.,  Izz]])\n",
    "print(\"Moment of inertia of spacecraft written in principal axes:\")\n",
    "sym.N(I_inB, 3)"
   ]
  },
  {
   "cell_type": "markdown",
   "id": "b658aa92-8619-4820-b98c-75dda4b0f5f0",
   "metadata": {},
   "source": [
    "Use [Euler's Equations](https://en.wikipedia.org/wiki/Euler%27s_equations_(rigid_body_dynamics)) to generate the equations of motion that relate angular velocity to input torque."
   ]
  },
  {
   "cell_type": "code",
   "execution_count": 7,
   "id": "380777b2-06ff-493f-a792-13c71a967692",
   "metadata": {},
   "outputs": [
    {
     "name": "stdout",
     "output_type": "stream",
     "text": [
      "Time derivative of the angular velocities in the spacecraft-fixed frame:\n"
     ]
    },
    {
     "data": {
      "text/latex": [
       "$\\displaystyle \\left[\\begin{matrix}- 0.124 \\omega_{y} \\omega_{z} - 0.0181 \\tau_{2} + 0.0362 \\tau_{3} - 0.0181 \\tau_{4}\\\\0.124 \\omega_{x} \\omega_{z} - 0.0314 \\tau_{2} + 7.1 \\cdot 10^{-10} \\tau_{3} + 0.0314 \\tau_{4}\\\\- 2.37 \\cdot 10^{-8} \\omega_{x} \\omega_{y} - 0.0372 \\tau_{1} + 0.0186 \\tau_{2} + 0.0186 \\tau_{3} + 0.0186 \\tau_{4}\\end{matrix}\\right]$"
      ],
      "text/plain": [
       "⎡      -0.124⋅ω_y⋅ω_z - 0.0181⋅τ₂ + 0.0362⋅τ₃ - 0.0181⋅τ₄       ⎤\n",
       "⎢                                                               ⎥\n",
       "⎢       0.124⋅ωₓ⋅ω_z - 0.0314⋅τ₂ + 7.1e-10⋅τ₃ + 0.0314⋅τ₄       ⎥\n",
       "⎢                                                               ⎥\n",
       "⎣-2.37e-8⋅ωₓ⋅ω_y - 0.0372⋅τ₁ + 0.0186⋅τ₂ + 0.0186⋅τ₃ + 0.0186⋅τ₄⎦"
      ]
     },
     "execution_count": 7,
     "metadata": {},
     "output_type": "execute_result"
    }
   ],
   "source": [
    "# Apply Euler's equation to get the time derivative of the angular velocities of the\n",
    "# spacecraft in the spacecraft frame\n",
    "w_inB_dot = I_inB.inv() @ (tau_inB - w_inB.cross(I_inB@w_inB))\n",
    "w_inB_dot = sym.simplify(w_inB_dot)\n",
    "print(\"Time derivative of the angular velocities in the spacecraft-fixed frame:\")\n",
    "sym.N(w_inB_dot, 3)"
   ]
  },
  {
   "cell_type": "markdown",
   "id": "d2ecd14e-bc60-4bc2-9ce6-2a6a05c1241f",
   "metadata": {},
   "source": [
    "Calculate the roll, pitch, and yaw rates as a function of the orientation and body-fixed angular rates."
   ]
  },
  {
   "cell_type": "code",
   "execution_count": 8,
   "id": "f53532b1-ba38-4be5-a6d7-369e73aa73ac",
   "metadata": {},
   "outputs": [
    {
     "name": "stdout",
     "output_type": "stream",
     "text": [
      "Roll, pitch, and yaw rate as a function of orientation and body-fixed angular rates:\n"
     ]
    },
    {
     "data": {
      "text/latex": [
       "$\\displaystyle \\left[\\begin{matrix}\\omega_{x} + \\omega_{y} \\sin{\\left(\\phi \\right)} \\tan{\\left(\\theta \\right)} + \\omega_{z} \\cos{\\left(\\phi \\right)} \\tan{\\left(\\theta \\right)}\\\\\\omega_{y} \\cos{\\left(\\phi \\right)} - \\omega_{z} \\sin{\\left(\\phi \\right)}\\\\\\frac{\\omega_{y} \\sin{\\left(\\phi \\right)} + \\omega_{z} \\cos{\\left(\\phi \\right)}}{\\cos{\\left(\\theta \\right)}}\\end{matrix}\\right]$"
      ],
      "text/plain": [
       "⎡ωₓ + ω_y⋅sin(φ)⋅tan(θ) + ω_z⋅cos(φ)⋅tan(θ)⎤\n",
       "⎢                                          ⎥\n",
       "⎢         ω_y⋅cos(φ) - ω_z⋅sin(φ)          ⎥\n",
       "⎢                                          ⎥\n",
       "⎢         ω_y⋅sin(φ) + ω_z⋅cos(φ)          ⎥\n",
       "⎢         ───────────────────────          ⎥\n",
       "⎣                  cos(θ)                  ⎦"
      ]
     },
     "execution_count": 8,
     "metadata": {},
     "output_type": "execute_result"
    }
   ],
   "source": [
    "# Define the transformation that takes roll, pitch, and yaw rates to body-fixed angular rates\n",
    "ex = sym.Matrix([[1], [0], [0]])\n",
    "ey = sym.Matrix([[0], [1], [0]])\n",
    "ez = sym.Matrix([[0], [0], [1]])\n",
    "M = sym.Matrix.hstack(ex, Rx.T@ey, (Ry@Rx).T@ez)\n",
    "\n",
    "# Invert the transformation to get a matrix that takes body-fixed angular rates to \n",
    "# roll, pitch, and yaw rates\n",
    "M_inv = sym.simplify(M.inv())\n",
    "\n",
    "# Convert the body-fixed angular rates to roll, pitch, and yaw rates\n",
    "rpy_dot = sym.simplify(M_inv@w_inB)\n",
    "print(\"Roll, pitch, and yaw rate as a function of orientation and body-fixed angular rates:\")\n",
    "sym.N(rpy_dot,3)"
   ]
  },
  {
   "cell_type": "markdown",
   "id": "428600e4-cf00-49d9-8034-77bcbc0e66ec",
   "metadata": {},
   "source": [
    "Assemble all differential equations into a single system of equations."
   ]
  },
  {
   "cell_type": "code",
   "execution_count": 9,
   "id": "16266758-2810-47e1-8f03-b53eee80726f",
   "metadata": {},
   "outputs": [],
   "source": [
    "# Assemble the system of equations\n",
    "f = sym.simplify(sym.Matrix.vstack(rpy_dot, w_inB_dot))"
   ]
  },
  {
   "cell_type": "markdown",
   "id": "a0e79bcb-3d05-43ad-bb74-428453b59973",
   "metadata": {},
   "source": [
    "The equations of motion have this form:\n",
    "\n",
    "$$\\begin{bmatrix} \\dot{\\phi} \\\\ \\dot{\\theta} \\\\ \\dot{\\psi} \\\\ \\dot{\\omega_x} \\\\ \\dot{\\omega_y} \\\\ \\dot{\\omega_z} \\end{bmatrix}=f\\left(\\phi, \\theta, \\psi, \\omega_x, \\omega_y, \\omega_z, \\tau_1, \\tau_2, \\tau_3, \\tau_4\\right)$$\n",
    "\n",
    "Here is the function $f$:"
   ]
  },
  {
   "cell_type": "code",
   "execution_count": 10,
   "id": "a293ee93-05e2-44b0-8632-bb283c4b3e1e",
   "metadata": {},
   "outputs": [
    {
     "data": {
      "text/latex": [
       "$\\displaystyle \\left[\\begin{matrix}\\omega_{x} + \\omega_{y} \\sin{\\left(\\phi \\right)} \\tan{\\left(\\theta \\right)} + \\omega_{z} \\cos{\\left(\\phi \\right)} \\tan{\\left(\\theta \\right)}\\\\\\omega_{y} \\cos{\\left(\\phi \\right)} - \\omega_{z} \\sin{\\left(\\phi \\right)}\\\\\\frac{\\omega_{y} \\sin{\\left(\\phi \\right)} + \\omega_{z} \\cos{\\left(\\phi \\right)}}{\\cos{\\left(\\theta \\right)}}\\\\- 0.124 \\omega_{y} \\omega_{z} - 0.0181 \\tau_{2} + 0.0362 \\tau_{3} - 0.0181 \\tau_{4}\\\\0.124 \\omega_{x} \\omega_{z} - 0.0314 \\tau_{2} + 7.1 \\cdot 10^{-10} \\tau_{3} + 0.0314 \\tau_{4}\\\\- 2.37 \\cdot 10^{-8} \\omega_{x} \\omega_{y} - 0.0372 \\tau_{1} + 0.0186 \\tau_{2} + 0.0186 \\tau_{3} + 0.0186 \\tau_{4}\\end{matrix}\\right]$"
      ],
      "text/plain": [
       "⎡          ωₓ + ω_y⋅sin(φ)⋅tan(θ) + ω_z⋅cos(φ)⋅tan(θ)           ⎤\n",
       "⎢                                                               ⎥\n",
       "⎢                    ω_y⋅cos(φ) - ω_z⋅sin(φ)                    ⎥\n",
       "⎢                                                               ⎥\n",
       "⎢                    ω_y⋅sin(φ) + ω_z⋅cos(φ)                    ⎥\n",
       "⎢                    ───────────────────────                    ⎥\n",
       "⎢                             cos(θ)                            ⎥\n",
       "⎢                                                               ⎥\n",
       "⎢      -0.124⋅ω_y⋅ω_z - 0.0181⋅τ₂ + 0.0362⋅τ₃ - 0.0181⋅τ₄       ⎥\n",
       "⎢                                                               ⎥\n",
       "⎢       0.124⋅ωₓ⋅ω_z - 0.0314⋅τ₂ + 7.1e-10⋅τ₃ + 0.0314⋅τ₄       ⎥\n",
       "⎢                                                               ⎥\n",
       "⎣-2.37e-8⋅ωₓ⋅ω_y - 0.0372⋅τ₁ + 0.0186⋅τ₂ + 0.0186⋅τ₃ + 0.0186⋅τ₄⎦"
      ]
     },
     "execution_count": 10,
     "metadata": {},
     "output_type": "execute_result"
    }
   ],
   "source": [
    "sym.N(f,3)"
   ]
  },
  {
   "cell_type": "markdown",
   "id": "e3083172-8f19-49cb-a730-b8355ac70c47",
   "metadata": {},
   "source": [
    "## Derive Sensor Model"
   ]
  },
  {
   "cell_type": "markdown",
   "id": "7501fb8f-1a11-41c1-a67b-5599e81ed166",
   "metadata": {},
   "source": [
    "Here we will develope the system of equations that relates the sensed states to the states used in the system dynamics. We start by defining where each star is in space. We can do this using its right ascension, $\\alpha$, and the declination, $\\delta$ in the sky. This type of coordinate system is called an [equitorial celestial coordinate system](https://en.wikipedia.org/wiki/Equatorial_coordinate_system)."
   ]
  },
  {
   "cell_type": "code",
   "execution_count": 11,
   "id": "222f188f-c670-447c-b169-72645e936889",
   "metadata": {},
   "outputs": [],
   "source": [
    "# Create a variable for the right ascension and declination of the ith star\n",
    "alpha_i, delta_i = sym.symbols('alpha_i, delta_i')"
   ]
  },
  {
   "cell_type": "markdown",
   "id": "3784d062-3c24-48fd-902f-02df6729ed33",
   "metadata": {},
   "source": [
    "We can now use these coordinates to calculate the $i$th star's location in the scope image. We do this using a pinhol camera model. To start, we transform the $i$th star's position from world coordinates to spacecraft-fixed body coordinates. This is done using the spacecraft's orientation and the $i$th star's position in world coordinates."
   ]
  },
  {
   "cell_type": "code",
   "execution_count": 12,
   "id": "6659f4cf-fb3c-4f64-bbc2-c48d24ff6309",
   "metadata": {},
   "outputs": [
    {
     "name": "stdout",
     "output_type": "stream",
     "text": [
      "Depth-normalized cartesian coordinates of the ith star in world coordinates:\n"
     ]
    },
    {
     "data": {
      "text/latex": [
       "$\\displaystyle \\left[\\begin{matrix}\\cos{\\left(\\alpha_{i} \\right)} \\cos{\\left(\\delta_{i} \\right)}\\\\\\sin{\\left(\\alpha_{i} \\right)} \\cos{\\left(\\delta_{i} \\right)}\\\\\\sin{\\left(\\delta_{i} \\right)}\\end{matrix}\\right]$"
      ],
      "text/plain": [
       "⎡cos(αᵢ)⋅cos(δᵢ)⎤\n",
       "⎢               ⎥\n",
       "⎢sin(αᵢ)⋅cos(δᵢ)⎥\n",
       "⎢               ⎥\n",
       "⎣    sin(δᵢ)    ⎦"
      ]
     },
     "execution_count": 12,
     "metadata": {},
     "output_type": "execute_result"
    }
   ],
   "source": [
    "# Calculate the DEPTH NORMALIZED cartesian coordinates of the ith star\n",
    "# in the fixed world coorinates using the equitorial celestial coordinates\n",
    "p_ofi_inW = sym.Matrix([[sym.cos(alpha_i)*sym.cos(delta_i)],\n",
    "                        [sym.sin(alpha_i)*sym.cos(delta_i)],\n",
    "                        [sym.sin(delta_i)]])\n",
    "print(\"Depth-normalized cartesian coordinates of the ith star in world coordinates:\")\n",
    "p_ofi_inW"
   ]
  },
  {
   "cell_type": "code",
   "execution_count": 13,
   "id": "a94e3042-4296-441c-b8f8-11d085a9baf2",
   "metadata": {},
   "outputs": [
    {
     "name": "stdout",
     "output_type": "stream",
     "text": [
      "Orientation of spacecraft in world:\n"
     ]
    },
    {
     "data": {
      "text/latex": [
       "$\\displaystyle \\left[\\begin{matrix}\\cos{\\left(\\psi \\right)} \\cos{\\left(\\theta \\right)} & \\sin{\\left(\\phi \\right)} \\sin{\\left(\\theta \\right)} \\cos{\\left(\\psi \\right)} - \\sin{\\left(\\psi \\right)} \\cos{\\left(\\phi \\right)} & \\sin{\\left(\\phi \\right)} \\sin{\\left(\\psi \\right)} + \\sin{\\left(\\theta \\right)} \\cos{\\left(\\phi \\right)} \\cos{\\left(\\psi \\right)}\\\\\\sin{\\left(\\psi \\right)} \\cos{\\left(\\theta \\right)} & \\sin{\\left(\\phi \\right)} \\sin{\\left(\\psi \\right)} \\sin{\\left(\\theta \\right)} + \\cos{\\left(\\phi \\right)} \\cos{\\left(\\psi \\right)} & - \\sin{\\left(\\phi \\right)} \\cos{\\left(\\psi \\right)} + \\sin{\\left(\\psi \\right)} \\sin{\\left(\\theta \\right)} \\cos{\\left(\\phi \\right)}\\\\- \\sin{\\left(\\theta \\right)} & \\sin{\\left(\\phi \\right)} \\cos{\\left(\\theta \\right)} & \\cos{\\left(\\phi \\right)} \\cos{\\left(\\theta \\right)}\\end{matrix}\\right]$"
      ],
      "text/plain": [
       "⎡cos(ψ)⋅cos(θ)  sin(φ)⋅sin(θ)⋅cos(ψ) - sin(ψ)⋅cos(φ)  sin(φ)⋅sin(ψ) + sin(θ)⋅c\n",
       "⎢                                                                             \n",
       "⎢sin(ψ)⋅cos(θ)  sin(φ)⋅sin(ψ)⋅sin(θ) + cos(φ)⋅cos(ψ)  -sin(φ)⋅cos(ψ) + sin(ψ)⋅\n",
       "⎢                                                                             \n",
       "⎣   -sin(θ)                sin(φ)⋅cos(θ)                          cos(φ)⋅cos(θ\n",
       "\n",
       "os(φ)⋅cos(ψ) ⎤\n",
       "             ⎥\n",
       "sin(θ)⋅cos(φ)⎥\n",
       "             ⎥\n",
       ")            ⎦"
      ]
     },
     "execution_count": 13,
     "metadata": {},
     "output_type": "execute_result"
    }
   ],
   "source": [
    "# Calculate the orientation of the spacecraft using it's roll, pitch, and yaw angles\n",
    "R_ofS_inW = sym.simplify(Rz @ Ry @ Rx)\n",
    "print(\"Orientation of spacecraft in world:\")\n",
    "R_ofS_inW"
   ]
  },
  {
   "cell_type": "code",
   "execution_count": 14,
   "id": "76cff46c-344c-4109-ae70-e587f3451801",
   "metadata": {},
   "outputs": [
    {
     "name": "stdout",
     "output_type": "stream",
     "text": [
      "Depth-normalized cartesian coordinates of the ith star in spacecraft-fixed coordinates:\n"
     ]
    },
    {
     "data": {
      "text/latex": [
       "$\\displaystyle \\left[\\begin{matrix}- \\sin{\\left(\\delta_{i} \\right)} \\sin{\\left(\\theta \\right)} + \\cos{\\left(\\delta_{i} \\right)} \\cos{\\left(\\theta \\right)} \\cos{\\left(\\alpha_{i} - \\psi \\right)}\\\\\\sin{\\left(\\delta_{i} \\right)} \\sin{\\left(\\phi \\right)} \\cos{\\left(\\theta \\right)} + \\sin{\\left(\\phi \\right)} \\sin{\\left(\\theta \\right)} \\cos{\\left(\\delta_{i} \\right)} \\cos{\\left(\\alpha_{i} - \\psi \\right)} + \\sin{\\left(\\alpha_{i} - \\psi \\right)} \\cos{\\left(\\delta_{i} \\right)} \\cos{\\left(\\phi \\right)}\\\\\\sin{\\left(\\delta_{i} \\right)} \\cos{\\left(\\phi \\right)} \\cos{\\left(\\theta \\right)} - \\sin{\\left(\\phi \\right)} \\sin{\\left(\\alpha_{i} - \\psi \\right)} \\cos{\\left(\\delta_{i} \\right)} + \\sin{\\left(\\theta \\right)} \\cos{\\left(\\delta_{i} \\right)} \\cos{\\left(\\phi \\right)} \\cos{\\left(\\alpha_{i} - \\psi \\right)}\\end{matrix}\\right]$"
      ],
      "text/plain": [
       "⎡                     -sin(δᵢ)⋅sin(θ) + cos(δᵢ)⋅cos(θ)⋅cos(αᵢ - ψ)            \n",
       "⎢                                                                             \n",
       "⎢sin(δᵢ)⋅sin(φ)⋅cos(θ) + sin(φ)⋅sin(θ)⋅cos(δᵢ)⋅cos(αᵢ - ψ) + sin(αᵢ - ψ)⋅cos(δ\n",
       "⎢                                                                             \n",
       "⎣sin(δᵢ)⋅cos(φ)⋅cos(θ) - sin(φ)⋅sin(αᵢ - ψ)⋅cos(δᵢ) + sin(θ)⋅cos(δᵢ)⋅cos(φ)⋅co\n",
       "\n",
       "         ⎤\n",
       "         ⎥\n",
       "ᵢ)⋅cos(φ)⎥\n",
       "         ⎥\n",
       "s(αᵢ - ψ)⎦"
      ]
     },
     "execution_count": 14,
     "metadata": {},
     "output_type": "execute_result"
    }
   ],
   "source": [
    "# Invert the orientation of the spacecraft to get a transform that takes vectors\n",
    "# in world coordinates to vectors in spacecraft-fixed coordinates.\n",
    "# As it turns out, the inverse of a valid rotation matrix, R, is its transpose\n",
    "R_ofW_inS = R_ofS_inW.T\n",
    "\n",
    "# Get the position of the ith star in spacecraft-fixed coordinates\n",
    "p_ofi_inS = sym.simplify(R_ofW_inS @ p_ofi_inW)\n",
    "print(\"Depth-normalized cartesian coordinates of the ith star in spacecraft-fixed coordinates:\")\n",
    "p_ofi_inS"
   ]
  },
  {
   "cell_type": "markdown",
   "id": "b833dedb-8c4a-40d1-a590-ef79cc70f9a9",
   "metadata": {},
   "source": [
    "Now that we have the depth-normalized coordinates of the $i$th star in spacecraft-fixed coordinates, we can estimate where the star will appear in the starscope's image."
   ]
  },
  {
   "cell_type": "code",
   "execution_count": 15,
   "id": "6125a293-4eab-40bf-8347-eb9beb48ef20",
   "metadata": {},
   "outputs": [],
   "source": [
    "# Define the radius of the star scope\n",
    "rc = 0.8/2.1\n",
    "\n",
    "# Calculate the star scope coordinates, q,  of the ith star\n",
    "# This step is why we can use depth normalized coordinates\n",
    "# We divide the y,z coords by the x coord. This causes any\n",
    "# constants, such as depth, to drop out.\n",
    "g = sym.simplify( (1/rc) * sym.Matrix([[p_ofi_inS[1] / p_ofi_inS[0]],\n",
    "                                       [p_ofi_inS[2] / p_ofi_inS[0]]]) )"
   ]
  },
  {
   "cell_type": "markdown",
   "id": "d959ab60-226a-4f0f-8c11-61a6b05bb743",
   "metadata": {},
   "source": [
    "This gives us our sensor model for each star. The model has the form:\n",
    "$$\n",
    "q_i = g(\\phi, \\theta, \\psi, \\alpha_{i}, \\delta_{i}),\n",
    "$$\n",
    "where $q_i$ is the star scope coordinates of the $i$th star. Here is the function $g$:"
   ]
  },
  {
   "cell_type": "code",
   "execution_count": 16,
   "id": "235379de-68f3-4a40-9b55-7916221408c8",
   "metadata": {},
   "outputs": [
    {
     "data": {
      "text/latex": [
       "$\\displaystyle \\left[\\begin{matrix}\\frac{2.625 \\left(\\sin{\\left(\\delta_{i} \\right)} \\sin{\\left(\\phi \\right)} \\cos{\\left(\\theta \\right)} + \\sin{\\left(\\phi \\right)} \\sin{\\left(\\theta \\right)} \\cos{\\left(\\delta_{i} \\right)} \\cos{\\left(\\alpha_{i} - \\psi \\right)} + \\sin{\\left(\\alpha_{i} - \\psi \\right)} \\cos{\\left(\\delta_{i} \\right)} \\cos{\\left(\\phi \\right)}\\right)}{- \\sin{\\left(\\delta_{i} \\right)} \\sin{\\left(\\theta \\right)} + \\cos{\\left(\\delta_{i} \\right)} \\cos{\\left(\\theta \\right)} \\cos{\\left(\\alpha_{i} - \\psi \\right)}}\\\\\\frac{2.625 \\left(\\sin{\\left(\\delta_{i} \\right)} \\cos{\\left(\\phi \\right)} \\cos{\\left(\\theta \\right)} - \\sin{\\left(\\phi \\right)} \\sin{\\left(\\alpha_{i} - \\psi \\right)} \\cos{\\left(\\delta_{i} \\right)} + \\sin{\\left(\\theta \\right)} \\cos{\\left(\\delta_{i} \\right)} \\cos{\\left(\\phi \\right)} \\cos{\\left(\\alpha_{i} - \\psi \\right)}\\right)}{- \\sin{\\left(\\delta_{i} \\right)} \\sin{\\left(\\theta \\right)} + \\cos{\\left(\\delta_{i} \\right)} \\cos{\\left(\\theta \\right)} \\cos{\\left(\\alpha_{i} - \\psi \\right)}}\\end{matrix}\\right]$"
      ],
      "text/plain": [
       "⎡2.625⋅(sin(δᵢ)⋅sin(φ)⋅cos(θ) + sin(φ)⋅sin(θ)⋅cos(δᵢ)⋅cos(αᵢ - ψ) + sin(αᵢ - ψ\n",
       "⎢─────────────────────────────────────────────────────────────────────────────\n",
       "⎢                         -sin(δᵢ)⋅sin(θ) + cos(δᵢ)⋅cos(θ)⋅cos(αᵢ - ψ)        \n",
       "⎢                                                                             \n",
       "⎢2.625⋅(sin(δᵢ)⋅cos(φ)⋅cos(θ) - sin(φ)⋅sin(αᵢ - ψ)⋅cos(δᵢ) + sin(θ)⋅cos(δᵢ)⋅co\n",
       "⎢─────────────────────────────────────────────────────────────────────────────\n",
       "⎣                         -sin(δᵢ)⋅sin(θ) + cos(δᵢ)⋅cos(θ)⋅cos(αᵢ - ψ)        \n",
       "\n",
       ")⋅cos(δᵢ)⋅cos(φ))⎤\n",
       "─────────────────⎥\n",
       "                 ⎥\n",
       "                 ⎥\n",
       "s(φ)⋅cos(αᵢ - ψ))⎥\n",
       "─────────────────⎥\n",
       "                 ⎦"
      ]
     },
     "execution_count": 16,
     "metadata": {},
     "output_type": "execute_result"
    }
   ],
   "source": [
    "g"
   ]
  },
  {
   "cell_type": "code",
   "execution_count": 23,
   "id": "07bbc798-e12a-4de5-b2e4-15df66f10388",
   "metadata": {},
   "outputs": [],
   "source": [
    "g_num = sym.lambdify([phi, theta, psi, wx_inB, wy_inB, wz_inB, alpha_i, delta_i], g)"
   ]
  },
  {
   "cell_type": "code",
   "execution_count": 24,
   "id": "a611c77f-fd81-436b-8b39-891d8408f50b",
   "metadata": {},
   "outputs": [
    {
     "data": {
      "text/plain": [
       "array([[-3.5197938 ],\n",
       "       [-0.35201938]])"
      ]
     },
     "execution_count": 24,
     "metadata": {},
     "output_type": "execute_result"
    }
   ],
   "source": [
    "g_num(0, 0, 0, 0, 0, 0, -0.93, -0.08)"
   ]
  },
  {
   "cell_type": "code",
   "execution_count": null,
   "id": "f1def32c-461b-4872-9973-b08a9db73b1d",
   "metadata": {},
   "outputs": [],
   "source": []
  }
 ],
 "metadata": {
  "kernelspec": {
   "display_name": "Python 3 (ipykernel)",
   "language": "python",
   "name": "python3"
  },
  "language_info": {
   "codemirror_mode": {
    "name": "ipython",
    "version": 3
   },
   "file_extension": ".py",
   "mimetype": "text/x-python",
   "name": "python",
   "nbconvert_exporter": "python",
   "pygments_lexer": "ipython3",
   "version": "3.11.7"
  }
 },
 "nbformat": 4,
 "nbformat_minor": 5
}
