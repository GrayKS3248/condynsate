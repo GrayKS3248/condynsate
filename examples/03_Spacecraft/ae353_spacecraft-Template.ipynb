{
 "cells": [
  {
   "cell_type": "markdown",
   "id": "f6bd5103-056e-424a-ad6a-7d560b63baad",
   "metadata": {
    "jp-MarkdownHeadingCollapsed": true
   },
   "source": [
    "# You may use this as a template for your code and code report. If you do, you MUST remove Markdown cells that were not authored by you."
   ]
  },
  {
   "cell_type": "markdown",
   "id": "78a30e88-b28f-484e-b4cf-cfefa9e8affb",
   "metadata": {
    "jp-MarkdownHeadingCollapsed": true
   },
   "source": [
    "## FIXME: System Linearization and State Space Form"
   ]
  },
  {
   "cell_type": "code",
   "execution_count": null,
   "id": "5359d014-5682-4f6d-9431-e3a49d5d6936",
   "metadata": {},
   "outputs": [],
   "source": [
    "# First we import the spacecraft project's function get_star_coords\n",
    "# As expected, this function returns a dictionary whose keys, \n",
    "# \"alpha\" and \"delta\", are the equitorial celestial coordinates\n",
    "# of each star in the constellation\n",
    "from ae353_spacecraft import get_star_coords\n",
    "star_coords = get_star_coords()\n",
    "star_coords"
   ]
  },
  {
   "cell_type": "code",
   "execution_count": null,
   "id": "4ad31825-c96d-47fd-b242-955e3c49095c",
   "metadata": {},
   "outputs": [],
   "source": [
    "# FIXME: Find an equilibrium point and linearize the system into state space form"
   ]
  },
  {
   "cell_type": "markdown",
   "id": "5309a767-b2bb-44a7-bb9c-d915946bdc1a",
   "metadata": {
    "jp-MarkdownHeadingCollapsed": true
   },
   "source": [
    "## FIXME: Gain Selection and Controller/Observer Design"
   ]
  },
  {
   "cell_type": "code",
   "execution_count": null,
   "id": "80140779-7c4e-4077-92a4-648760037cd8",
   "metadata": {},
   "outputs": [],
   "source": [
    "# FIXME: Select a set of control and observer gains. Ensure the resultant system is stable. Implement your controller and observer below."
   ]
  },
  {
   "cell_type": "code",
   "execution_count": null,
   "id": "06cc22bb-fde2-479e-82b7-173e9611699c",
   "metadata": {},
   "outputs": [],
   "source": [
    "# Create the Controller class\n",
    "class Controller():\n",
    "    def __init__(self):\n",
    "        \"\"\"\n",
    "        Initializes the controller. You should initialize any member variables that\n",
    "        the controller will use to their starting values. This function is called\n",
    "        when a new instance of the Controller class is created.\n",
    "    \n",
    "        Parameters\n",
    "        ----------\n",
    "        None.\n",
    "    \n",
    "        Returns\n",
    "        -------\n",
    "        None.\n",
    "        \"\"\"\n",
    "        # FIXME: Replace the following code with your initialization function\n",
    "        pass\n",
    "    \n",
    "    def reset(self):\n",
    "        \"\"\"\n",
    "        Resets the controller to an initial state. You should reset any variables\n",
    "        that track states, times, etc. in this function. This function will be \n",
    "        called just before the simulation starts running and any time the simulation\n",
    "        is reset.\n",
    "    \n",
    "        Parameters\n",
    "        ----------\n",
    "        None.\n",
    "    \n",
    "        Returns\n",
    "        -------\n",
    "        None.\n",
    "        \"\"\"\n",
    "        # FIXME: Replace the following code with your reset function\n",
    "        pass\n",
    "    \n",
    "    def run(self, **kwargs):\n",
    "        \"\"\"\n",
    "        Runs the controller. Data is passed from the simulation environment to the\n",
    "        controller via kwargs, the controller calculates the inputs to the system,\n",
    "        and then returns them via a return statement\n",
    "    \n",
    "        Parameters\n",
    "        ----------\n",
    "        **kwargs : Dictionary\n",
    "            A dictionary of data passed from the simulation environment to the \n",
    "            controller. Specific data is extracted from kwargs via the statement:\n",
    "            kwargs[\"KEYWORD\"], where \"KEYWORD\" is a key to the dictionary. The keys\n",
    "            of kwargs for this project are as follows:\n",
    "\n",
    "            kwargs[\"q_stars\"] : Array, shape(8, 2)\n",
    "                An array of the noisy 2D coordinates of each star in the star tracker's field\n",
    "                of view. If any stars are outside of the field of view, their coordinates\n",
    "                are returned as [nan, nan].\n",
    "\n",
    "            kwargs[\"dt\"] : float\n",
    "                The time step, in seconds, used by the simulator\n",
    "    \n",
    "        Returns\n",
    "        -------\n",
    "        inputs : List with length equal to the number of inputs\n",
    "            This is a list of the inputs calculated by the controller. In this\n",
    "            project, there are four inputs, the torque applied to each reaction\n",
    "            wheel. Therefore, inputs has the form:\n",
    "            inputs = [wheel1_torque, wheel2_torque, wheel3_torque, wheel4_torque]\n",
    "        \n",
    "        \"\"\"\n",
    "        # FIXME: Replace the following manual controller with your own controller and observer system\n",
    "\n",
    "        # Set all torques to 0\n",
    "        t1 = 0.0\n",
    "        t2 = 0.0\n",
    "        t3 = 0.0\n",
    "        t4 = 0.0\n",
    "\n",
    "        # Adjust torques based on keyboard inputs\n",
    "        if kwargs[\"a\"]:\n",
    "            t1 -= 1.0\n",
    "        if kwargs[\"q\"]:\n",
    "            t1 += 1.0\n",
    "        if kwargs[\"s\"]:\n",
    "            t2 -= 1.0\n",
    "        if kwargs[\"w\"]:\n",
    "            t2 += 1.0\n",
    "        if kwargs[\"d\"]:\n",
    "            t3 -= 1.0\n",
    "        if kwargs[\"e\"]:\n",
    "            t3 += 1.0\n",
    "        if kwargs[\"f\"]:\n",
    "            t4 -= 1.0\n",
    "        if kwargs[\"r\"]:\n",
    "            t4 += 1.0\n",
    "\n",
    "        # Assemble and return the torques\n",
    "        inputs = [t1, t2, t3, t4]\n",
    "        return inputs"
   ]
  },
  {
   "cell_type": "code",
   "execution_count": null,
   "id": "91f99c2f-26ef-4515-875c-d5be5505ff4b",
   "metadata": {},
   "outputs": [],
   "source": [
    "# Create an instance of our Controller class\n",
    "controller = Controller()"
   ]
  },
  {
   "cell_type": "markdown",
   "id": "fdd5aa72-f4c6-4b4e-bb66-08bd4ceda7c9",
   "metadata": {
    "jp-MarkdownHeadingCollapsed": true
   },
   "source": [
    "## Running the Simulation"
   ]
  },
  {
   "cell_type": "markdown",
   "id": "b63859c2-2cb5-42d1-a594-0308368b80d2",
   "metadata": {},
   "source": [
    "We start by importing the spacecraft simulation project."
   ]
  },
  {
   "cell_type": "code",
   "execution_count": null,
   "id": "de3c72ca-251f-49a3-9bf7-8416ce1d5fb2",
   "metadata": {},
   "outputs": [],
   "source": [
    "import ae353_spacecraft"
   ]
  },
  {
   "cell_type": "markdown",
   "id": "555722ea-6fb7-4f0c-b78f-7a8731e35f14",
   "metadata": {},
   "source": [
    "There are four main parameters to the Spacecraft_Sim class initialization function:\n",
    "#### Parameters\n",
    "\n",
    "> **use_keyboard** : *bool, optional*  \n",
    "> A boolean flag that indicates whether the simulation will allow the use of keyboard interactivity. The default is True.\n",
    "> \n",
    "> **visualization** : *bool, optional*  \n",
    "> A boolean flag that indicates whether the simulation will be  visualized in meshcat. The default is True.\n",
    "> \n",
    "> **animation** : *bool, optional*  \n",
    "> A boolean flag that indicates whether animated plots are created in real time. The default is True.\n",
    ">\n",
    "> **n_stars** : *int, optional*\n",
    "> The number of background stars to include. Purely visual, has no impact on system dynamics. The default is 20. Large values may slow simulation speed. Large values may look cool."
   ]
  },
  {
   "cell_type": "code",
   "execution_count": null,
   "id": "80c2d1df-5247-44cf-9de7-35c4d85780d5",
   "metadata": {},
   "outputs": [],
   "source": [
    "sim = ae353_spacecraft.Spacecraft_Sim(use_keyboard=True,\n",
    "                                      visualization=True,\n",
    "                                      animation=False,\n",
    "                                      n_stars=20)"
   ]
  },
  {
   "cell_type": "markdown",
   "id": "f66cf5e9-2574-4536-a1e4-fc5914435565",
   "metadata": {},
   "source": [
    "Now we are ready to run the simulation and collect data. To do this we call the ``sim.run()`` function. This function takes an instance of the ``Controller`` class as an argument and returns ``data``. The parameters and return values of ``sim.run()`` are shown below.\n",
    "\n",
    "#### Parameters\n",
    "\n",
    "> **controller** : *member of Controller class*  \n",
    "> Your controller that will generated inputs to the system.\n",
    ">\n",
    "> **initial_orientation** : *Array, shape(3,), optional*  \n",
    "> The initial orientation to apply to the spacecraft. The initial orientation is applied that the beginning of each simulation and whenever the simulation is reset. The three values in the initial_orientation array are roll, pitch, and yaw. Each value is in radians. Roll is defined as the rotation of the craft about the x-axis of the world coordinate system. Pitch is defined as the rotation of the craft about the y-axis of the world coordinate system. Yaw is defined as the rotation of the craft about the z-axis of the world coordinate system. The default value is [0., 0., 0.].\n",
    ">\n",
    "> **initial_ang_vel** : *Array, shape(3,), optional*  \n",
    "> The initial angular velocity to apply to the spacecraft. The initial angular velocity is applied that the beginning of each simulation and whenever the simulation is reset. The three values in the initial_ang_vel array are wx, wy, and wz. Each value is in radians per second. wx is defined as the rotation rate of the craft about the body-fixed x-axis. wy is defined as the rotation rate of the craft about the body-fixed y-axis. wz is defined as the rotation rate of the craft about the body-fixed z-axis. The default value is [0., 0., 0.].\n",
    ">  \n",
    "> **sensor_noise** : *Float, optional*  \n",
    "> The noise applied to the star tracker, i.e., the standard deviation of the components of each star tracker measurement. The default value is 0.1.\n",
    ">  \n",
    "> **debris** : *Bool, optional*  \n",
    "> A boolean flag that indicates whether or not random space debris will be spawned and strike the spacecraft.\n",
    ">  \n",
    "> **max_time** : *Float or None, optional*  \n",
    "> The total amount of time the simulation is allowed to run. If set to None, the simulation will run until \"ESC\" is pressed on the keyboard. If the keyboard is disabled, and max_time is set to None, the simulation will automatically terminate after 10 seconds of simulated time. The default value is None.\n",
    "\n",
    "#### Returns\n",
    "\n",
    "> **data** : *Dictionary of Lists*  \n",
    "> A dictionary containing all relevant data generated during the simulation. Specific data is extracted via the statement: data[\"KEYWORD\"], where \"KEYWORD\" is a key to the dictionary. The keys of data for this project are as follows:\n",
    ">  \n",
    "> **data[\"roll\"]** : *List of Floats*  \n",
    "> The roll of the craft in rad at every time stamp in the simulation. Roll is defined as the rotation of the craft about the x-axis of the world coordinate system.\n",
    ">  \n",
    "> **data[\"pitch\"]** : *List of Floats*  \n",
    "> The pitch of the craft in rad at every time stamp in the simulation. Pitch is defined as the rotation of the craft about the y-axis of the world coordinate system.\n",
    ">  \n",
    "> **data[\"yaw\"]** : *List of Floats*  \n",
    "> The yaw of the craft in rad at every time stamp in the simulation. Yaw is defined as the rotation of the craft about the z-axis of the world coordinate system.\n",
    ">  \n",
    "> **data[\"wx\"]** : *List of Floats*  \n",
    "> The angular velocity of the spacecraft about the body-fixed x axis at each time stamp in the simulation. Given in rad/sec.\n",
    ">  \n",
    "> **data[\"wy\"]** : *List of Floats*  \n",
    "> The angular velocity of the spacecraft about the body-fixed y axis at each time stamp in the simulation. Given in rad/sec.\n",
    ">  \n",
    "> **data[\"wz\"]** : *List of Floats*  \n",
    "> The angular velocity of the spacecraft about the body-fixed z axis at each time stamp in the simulation. Given in rad/sec.\n",
    ">  \n",
    "> **data[\"q stars\"]** : *List of 2D Coords*  \n",
    "> A list of the 2D coords of each star in the star-tracker image at each time stamp in the simulation. nan means that the star is not in the star tracker image.e.\n",
    ">  \n",
    "> **data[\"torques\"]** : *List of 4 Tuples of Floats*  \n",
    "> A list of the torques applied to each wheel of the spacecraft in Newton-meters at each time stamp during the simulation. The wheel order is 1, 2, 3, 4.\n",
    ">  \n",
    "> **data[\"wheel speeds\"]** : *List of 4 Tuples of Floats*  \n",
    "> A list of the wheel speeds of each wheel of the spacecraft in rad / sec at each time stamp during the simulation. The wheel order is 1, 2, 3, 4.\n",
    ">  \n",
    "> **data[\"time\"]** : *List of Floats*  \n",
    "> A list of the time stamps in seconds.  "
   ]
  },
  {
   "cell_type": "markdown",
   "id": "124639bf-1ee1-4311-b92c-8390c695242a",
   "metadata": {},
   "source": [
    "#### If enabled, you can use the keyboard to interact with the simulation:  \n",
    "> press **ENTER** to start the simulation  \n",
    "> press **BACKSPACE** to reset the simulation  \n",
    "> press **SPACE** to pause the simulation  \n",
    "> press **ESC** to end the simulation  \n",
    "\n",
    "#### If the manual controller is being used:\n",
    "> press **a** to apply small negative torque to wheel 1  \n",
    "> press **q** to apply small positive torque to wheel 1  \n",
    "> press **s** to apply small negative torque to wheel 2  \n",
    "> press **w** to apply small positive torque to wheel 2  \n",
    "> press **d** to apply small negative torque to wheel 3  \n",
    "> press **e** to apply small positive torque to wheel 3  \n",
    "> press **f** to apply small negative torque to wheel 4  \n",
    "> press **r** to apply small positive torque to wheel 4"
   ]
  },
  {
   "cell_type": "code",
   "execution_count": null,
   "id": "75fefa5c-d205-44cc-84fb-0896513a6cec",
   "metadata": {},
   "outputs": [],
   "source": [
    "# Run the simulation and collect the simulation data\n",
    "data = sim.run(controller,\n",
    "               initial_orientation=[0., 0., 0.],\n",
    "               initial_ang_vel=[0., 0., 0.],\n",
    "               sensor_noise=0.1,\n",
    "               debris=True,\n",
    "               max_time=60.0)"
   ]
  },
  {
   "cell_type": "markdown",
   "id": "0fadfcf6-c9d5-4d87-9ff7-8665522883e3",
   "metadata": {
    "jp-MarkdownHeadingCollapsed": true
   },
   "source": [
    "## FIXME: Post-processing the simulation data"
   ]
  },
  {
   "cell_type": "markdown",
   "id": "4d9710b3-e018-4921-839c-ff40946ef1f8",
   "metadata": {},
   "source": [
    "After the simulation is run, we can plot the data using the Matplotlib package. To start, we import matplotlib and numpy."
   ]
  },
  {
   "cell_type": "code",
   "execution_count": null,
   "id": "5b23ea45-dabd-46f3-b3aa-148dd30d4f64",
   "metadata": {},
   "outputs": [],
   "source": [
    "# Import the pyplot module from the matplotlib package\n",
    "import matplotlib.pyplot as plt\n",
    "\n",
    "# Import numpy\n",
    "import numpy as np"
   ]
  },
  {
   "cell_type": "markdown",
   "id": "fcc05165-85a1-43f4-9ea7-e3a84d795869",
   "metadata": {},
   "source": [
    "Now we can make whichever plots we see fit to make sense of the simulation data. Here we plot the pitch versus time as well as the applied torques versus time.\n",
    "\n",
    "**THIS IS LEFT INTENTIONALLY AS INSUFFICIENT TO PROVE YOUR CONTROLLER CAN CONTROL THE SPACECRAFT.**"
   ]
  },
  {
   "cell_type": "code",
   "execution_count": null,
   "id": "815349ed-356a-4194-bd7c-35db59ea26e9",
   "metadata": {},
   "outputs": [],
   "source": [
    "# Create a figure that has two plots in it\n",
    "fig, axes = plt.subplots(2, 1, figsize=(7.2, 5.4), sharex=True)\n",
    "\n",
    "# Create a plot of the wheel speeds versus time on the first plot\n",
    "wheel_speeds = np.array(data['wheel speeds'])\n",
    "axes[0].plot(data['time'], wheel_speeds[:,0], c='k', lw=2.5, label=\"Wheel 1\")\n",
    "axes[0].plot(data['time'], wheel_speeds[:,1], c='r', lw=2.5, label=\"Wheel 2\")\n",
    "axes[0].plot(data['time'], wheel_speeds[:,2], c='g', lw=2.5, label=\"Wheel 3\")\n",
    "axes[0].plot(data['time'], wheel_speeds[:,3], c='b', lw=2.5, label=\"Wheel 4\")\n",
    "axes[0].set_ylabel(\"Wheel Speeds [rad / sec]\", fontsize=12)\n",
    "axes[0].tick_params(axis='y', labelsize=12)\n",
    "axes[0].legend(fontsize=12, shadow=True)\n",
    "axes[0].set_title(\"Wheel Speed vs. Time\", fontsize=14)\n",
    "axes[0].grid()\n",
    "\n",
    "# Create a plot of the torques versus time on the second plot\n",
    "torques = np.array(data['torques'])\n",
    "axes[1].plot(data['time'], torques[:,0], c='k', lw=2.5, label=\"Wheel 1\")\n",
    "axes[1].plot(data['time'], torques[:,1], c='r', lw=2.5, label=\"Wheel 2\")\n",
    "axes[1].plot(data['time'], torques[:,2], c='g', lw=2.5, label=\"Wheel 3\")\n",
    "axes[1].plot(data['time'], torques[:,3], c='b', lw=2.5, label=\"Wheel 4\")\n",
    "axes[1].set_xlabel(\"Time [s]\", fontsize=12)\n",
    "axes[1].set_ylabel(\"Torque [Nm]\", fontsize=12)\n",
    "axes[1].tick_params(axis='y', labelsize=12)\n",
    "axes[1].legend(fontsize=12, shadow=True)\n",
    "axes[1].set_title(\"Torque vs. Time\", fontsize=14)\n",
    "axes[1].grid()\n",
    "\n",
    "# Show the figure\n",
    "fig.tight_layout(pad=2.0)\n",
    "plt.show()"
   ]
  }
 ],
 "metadata": {
  "kernelspec": {
   "display_name": "Python 3 (ipykernel)",
   "language": "python",
   "name": "python3"
  },
  "language_info": {
   "codemirror_mode": {
    "name": "ipython",
    "version": 3
   },
   "file_extension": ".py",
   "mimetype": "text/x-python",
   "name": "python",
   "nbconvert_exporter": "python",
   "pygments_lexer": "ipython3",
   "version": "3.11.7"
  }
 },
 "nbformat": 4,
 "nbformat_minor": 5
}
