{
 "cells": [
  {
   "cell_type": "code",
   "execution_count": 15,
   "id": "e4edea6e",
   "metadata": {},
   "outputs": [],
   "source": [
    "import numpy as np\n",
    "import keyboard\n",
    "from matplotlib import colormaps as cmaps\n",
    "import condynsate\n",
    "from condynsate.utils import format_RGB"
   ]
  },
  {
   "cell_type": "code",
   "execution_count": 16,
   "id": "bdf16986",
   "metadata": {},
   "outputs": [
    {
     "name": "stdout",
     "output_type": "stream",
     "text": [
      "You can open the visualizer by visiting the following URL:\n",
      "http://127.0.0.1:7006/static/\n"
     ]
    }
   ],
   "source": [
    "# Create an instance of the simulator with visualization\n",
    "sim = condynsate.Simulator(visualization=True,\n",
    "                           animation=True)"
   ]
  },
  {
   "cell_type": "code",
   "execution_count": 17,
   "id": "919e8ab3",
   "metadata": {},
   "outputs": [],
   "source": [
    "# Load the ground\n",
    "ground_obj = sim.load_urdf(urdf_path='./cmg_vis/plane.urdf',\n",
    "                           tex_path='./cmg_vis/check.png',\n",
    "                           position=[0., 0., -3.],\n",
    "                           fixed=True,\n",
    "                           update_vis=False)\n",
    "\n",
    "# Load a wall for the CMG to attach to\n",
    "wall_obj = sim.load_urdf(urdf_path='./cmg_vis/plane.urdf',\n",
    "                         tex_path='./cmg_vis/concrete.png',\n",
    "                         roll=0.5*np.pi,\n",
    "                         yaw=np.pi,\n",
    "                         fixed=True,\n",
    "                         update_vis=False)"
   ]
  },
  {
   "cell_type": "code",
   "execution_count": 18,
   "id": "eb980784",
   "metadata": {},
   "outputs": [],
   "source": [
    "# Load the CMG\n",
    "cmg_obj = sim.load_urdf(urdf_path='./cmg_vis/cmg.urdf',\n",
    "                        position=[0., 1.1, 0.],\n",
    "                        pitch=-0.5*np.pi,\n",
    "                        fixed=True,\n",
    "                        update_vis=True)\n",
    "\n",
    "# Set the mass of the pendulum of the CMG\n",
    "sim.set_link_mass(urdf_obj=cmg_obj,\n",
    "                  link_name=\"mass\",\n",
    "                  mass=1.0)\n",
    "\n",
    "# Set wheel velocity\n",
    "sim.set_joint_velocity(urdf_obj=cmg_obj,\n",
    "                       joint_name='inner_to_wheel',\n",
    "                       velocity = 50.)\n",
    "\n",
    "# Set joint damping\n",
    "sim.set_joint_damping(urdf_obj=cmg_obj,\n",
    "                      joint_name=\"world_to_outer\",\n",
    "                      damping=0.01)\n",
    "sim.set_joint_damping(urdf_obj=cmg_obj,\n",
    "                      joint_name=\"outer_to_inner\",\n",
    "                      damping=0.01)"
   ]
  },
  {
   "cell_type": "code",
   "execution_count": 19,
   "id": "8daf0a00",
   "metadata": {},
   "outputs": [],
   "source": [
    "# Variables to track applied torque\n",
    "prev_torque = -1.0\n",
    "torque = 0.0\n",
    "max_torque = 0.5\n",
    "min_torque = -0.5\n",
    "torque = 0.5*(max_torque + min_torque)\n",
    "torque_sat = (torque - min_torque) / (max_torque - min_torque)\n",
    "inner_color = cmaps['coolwarm'](round(255*torque_sat))[0:3]\n",
    "\n",
    "# Variables to track mass\n",
    "prev_mass = 0.0\n",
    "max_mass = 2.0\n",
    "min_mass = 0.0\n",
    "mass = 0.5*(max_mass + min_mass)\n",
    "mass_sat = (mass - min_mass) / (max_mass - min_mass)\n",
    "mass_color = cmaps['binary'](round(255*mass_sat))[0:3]\n",
    "\n",
    "# Variables to track wheel velocity\n",
    "prev_vel = 0.0\n",
    "max_vel = 100.0\n",
    "min_vel = 0.0\n",
    "vel = 0.5 * (max_vel + min_vel)\n",
    "vel_sat = (vel - min_vel) / (max_vel - min_vel)\n",
    "vel_color = cmaps['Reds'](round(255*vel_sat))[0:3]"
   ]
  },
  {
   "cell_type": "code",
   "execution_count": 20,
   "id": "be06d188",
   "metadata": {
    "scrolled": true
   },
   "outputs": [
    {
     "data": {
      "image/png": "[encoded data removed]",
      "text/plain": [
       "<Figure size 640x480 with 1 Axes>"
      ]
     },
     "metadata": {},
     "output_type": "display_data"
    }
   ],
   "source": [
    "# Open the animator and create a plot for the phase space\n",
    "plot_ind = sim.add_plot_to_animator(title=\"Phase Space\",\n",
    "                                    x_label=\"Angle [Rad]\",\n",
    "                                    y_label=\"Momentum [Kg-m/s]\",\n",
    "                                    color=\"r\",\n",
    "                                    tail=None,\n",
    "                                    x_lim=None,\n",
    "                                    y_lim=None)\n",
    "%matplotlib inline\n",
    "sim.open_animator()\n",
    "angles = []\n",
    "times = []"
   ]
  },
  {
   "cell_type": "code",
   "execution_count": 21,
   "id": "d7fc72d9",
   "metadata": {},
   "outputs": [],
   "source": [
    "# Wait for user input\n",
    "while not keyboard.is_pressed(\"enter\"):\n",
    "    pass\n",
    "\n",
    "# Run the simulation\n",
    "done = False\n",
    "while(not done):\n",
    "    \n",
    "    # Collect keyboard IO data for torque\n",
    "    if keyboard.is_pressed(\"shift+d\"):\n",
    "        torque = max_torque\n",
    "    elif keyboard.is_pressed(\"d\"):\n",
    "        torque = max_torque / 4.0\n",
    "    elif keyboard.is_pressed(\"shift+a\"):\n",
    "        torque = min_torque\n",
    "    elif keyboard.is_pressed(\"a\"):\n",
    "        torque = min_torque / 4.0\n",
    "    else:\n",
    "        torque = 0.0\n",
    "\n",
    "    # Set the torque and link color based on keyboard inputs\n",
    "    torque = round(torque,2)\n",
    "    torque_sat = (torque - min_torque) / (max_torque - min_torque)\n",
    "    torque_color = cmaps['coolwarm'](round(255*torque_sat))[0:3]\n",
    "    torque_color = format_RGB(torque_color,\n",
    "                              range_to_255=True)\n",
    "    sim.set_joint_torque(urdf_obj=cmg_obj,\n",
    "                         joint_name=\"outer_to_inner\",\n",
    "                         torque=torque)\n",
    "    sim.set_link_color(urdf_obj=cmg_obj,\n",
    "                       link_name='inner',\n",
    "                       color=torque_color)\n",
    "\n",
    "    # Collect keyboard IO data for mass\n",
    "    if keyboard.is_pressed('e'):\n",
    "        mass = mass + 0.005*(max_mass - min_mass)\n",
    "        if mass > max_mass:\n",
    "            mass = max_mass\n",
    "    elif keyboard.is_pressed('q'):\n",
    "        mass = mass - 0.005*(max_mass - min_mass)\n",
    "        if mass < min_mass:\n",
    "            mass = min_mass\n",
    "\n",
    "    # Set the mass and link color based on keyboard inputs\n",
    "    mass = round(mass,2)\n",
    "    mass_sat = (mass - min_mass) / (max_mass - min_mass)\n",
    "    mass_color = cmaps['binary'](round(255*mass_sat))[0:3]\n",
    "    mass_color = format_RGB(mass_color,\n",
    "                            range_to_255=True)\n",
    "    sim.set_link_mass(urdf_obj=cmg_obj,\n",
    "                      link_name='mass',\n",
    "                      mass = mass)\n",
    "    sim.set_link_color(urdf_obj=cmg_obj,\n",
    "                       link_name='mass',\n",
    "                       color=mass_color)\n",
    "\n",
    "    # Collect keyboard IO data for wheel vel\n",
    "    if keyboard.is_pressed('w'):\n",
    "        vel = vel + 0.005*(max_vel - min_vel)\n",
    "        if vel > max_vel:\n",
    "            vel = max_vel\n",
    "    elif keyboard.is_pressed('s'):\n",
    "        vel = vel - 0.005*(max_vel - min_vel)\n",
    "        if vel < min_vel:\n",
    "            vel = min_vel\n",
    "\n",
    "    # Set the wheel vel and link color based on keyboard inputs\n",
    "    vel = round(vel,2)\n",
    "    vel_sat = (vel - min_vel) / (max_vel - min_vel)\n",
    "    vel_color = cmaps['Reds'](round(255*vel_sat))[0:3]\n",
    "    vel_color = format_RGB(vel_color,\n",
    "                           range_to_255=True)\n",
    "\n",
    "    sim.set_joint_velocity(urdf_obj=cmg_obj,\n",
    "                          joint_name=\"inner_to_wheel\",\n",
    "                          velocity=vel)\n",
    "    sim.set_link_color(urdf_obj=cmg_obj,\n",
    "                       link_name='wheel',\n",
    "                       color=vel_color)\n",
    "    \n",
    "    # Set the plot data\n",
    "    times.append(sim.time)\n",
    "    angle, velocity = sim.get_joint_state(cmg_obj, \"world_to_outer\")\n",
    "    angles.append(angle)\n",
    "    sim.set_plot_data(plot_ind, times, angles)\n",
    "\n",
    "    # Step the sim\n",
    "    sim.step(real_time=True,\n",
    "             update_vis=True,\n",
    "             update_ani=True)\n",
    "    \n",
    "    # Collect keyboard IO for termination\n",
    "    if keyboard.is_pressed(\"esc\"):\n",
    "        done = True"
   ]
  },
  {
   "cell_type": "code",
   "execution_count": null,
   "id": "abe5d083",
   "metadata": {},
   "outputs": [],
   "source": []
  }
 ],
 "metadata": {
  "kernelspec": {
   "display_name": "Python 3 (ipykernel)",
   "language": "python",
   "name": "python3"
  },
  "language_info": {
   "codemirror_mode": {
    "name": "ipython",
    "version": 3
   },
   "file_extension": ".py",
   "mimetype": "text/x-python",
   "name": "python",
   "nbconvert_exporter": "python",
   "pygments_lexer": "ipython3",
   "version": "3.9.2"
  }
 },
 "nbformat": 4,
 "nbformat_minor": 5
}
