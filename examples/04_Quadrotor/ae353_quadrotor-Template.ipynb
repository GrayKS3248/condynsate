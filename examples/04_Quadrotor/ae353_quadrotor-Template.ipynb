{
 "cells": [
  {
   "cell_type": "markdown",
   "id": "bfbe3b46-48c9-4c33-8edf-b475e22b1438",
   "metadata": {
    "jp-MarkdownHeadingCollapsed": true
   },
   "source": [
    "# You may use this as a template for your code and code report. If you do, you MUST remove Markdown cells that were not authored by you."
   ]
  },
  {
   "cell_type": "markdown",
   "id": "78a30e88-b28f-484e-b4cf-cfefa9e8affb",
   "metadata": {
    "jp-MarkdownHeadingCollapsed": true
   },
   "source": [
    "## FIXME: System Linearization and State Space Form"
   ]
  },
  {
   "cell_type": "code",
   "execution_count": null,
   "id": "bd0774ab-48d9-4a28-ae54-401ff5fbadaf",
   "metadata": {},
   "outputs": [],
   "source": [
    "# FIXME: Find an equilibrium point and linearize the system into state space form"
   ]
  },
  {
   "cell_type": "markdown",
   "id": "5309a767-b2bb-44a7-bb9c-d915946bdc1a",
   "metadata": {
    "jp-MarkdownHeadingCollapsed": true
   },
   "source": [
    "## FIXME: Gain Selection and Controller Design"
   ]
  },
  {
   "cell_type": "code",
   "execution_count": null,
   "id": "efc14387-28dd-48c2-b9f0-7042b307f3bd",
   "metadata": {},
   "outputs": [],
   "source": [
    "# FIXME: Select a set of control and observer gains. Ensure the resultant system is stable. Implement your controller below."
   ]
  },
  {
   "cell_type": "code",
   "execution_count": null,
   "id": "06cc22bb-fde2-479e-82b7-173e9611699c",
   "metadata": {},
   "outputs": [],
   "source": [
    "# Create the Controller class\n",
    "class Controller():\n",
    "    def __init__(self):\n",
    "        \"\"\"\n",
    "        Initializes the controller. You should initialize any member variables that\n",
    "        the controller will use to their starting values. This function is called\n",
    "        when a new instance of the Controller class is created.\n",
    "    \n",
    "        Parameters\n",
    "        ----------\n",
    "        None.\n",
    "    \n",
    "        Returns\n",
    "        -------\n",
    "        None.\n",
    "        \"\"\"\n",
    "        # Fixme: Implement your initialization function here\n",
    "        pass\n",
    "\n",
    "    \n",
    "    def reset(self):\n",
    "        \"\"\"\n",
    "        Resets the controller to an initial state. You should reset any variables\n",
    "        that track states, times, etc. in this function. This function will be \n",
    "        called just before the simulation starts running and any time the simulation\n",
    "        is reset.\n",
    "    \n",
    "        Parameters\n",
    "        ----------\n",
    "        None.\n",
    "    \n",
    "        Returns\n",
    "        -------\n",
    "        None.\n",
    "        \"\"\"\n",
    "        # Fixme: Implement your reset function here\n",
    "        pass\n",
    "    \n",
    "    \n",
    "    def run(self, **kwargs):\n",
    "        \"\"\"\n",
    "        Runs the controller. Data is passed from the simulation environment to the\n",
    "        controller via kwargs, the controller calculates the inputs to the system,\n",
    "        and then returns them via a return statement\n",
    "    \n",
    "        Parameters\n",
    "        ----------\n",
    "        **kwargs : Dictionary\n",
    "            A dictionary of data passed from the simulation environment to the \n",
    "            controller. Specific data is extracted from kwargs via the statement:\n",
    "            kwargs[\"KEYWORD\"], where \"KEYWORD\" is a key to the dictionary. The keys\n",
    "            of kwargs for this project are as follows:\n",
    "\n",
    "            kwargs[\"dt\"] : float\n",
    "                The simulation time step in seconds.\n",
    "\n",
    "            kwargs[\"mocap_1\"] : 3Vector\n",
    "                The noisy measured position of mocap marker 1 (+x) in meters.\n",
    "            \n",
    "            kwargs[\"mocap_2\"] : 3Vector\n",
    "                The noisy measured position of mocap marker 2 (+y) in meters.\n",
    "                \n",
    "            kwargs[\"mocap_3\"] : 3Vector\n",
    "                The noisy measured position of mocap marker 1 (-x) in meters.\n",
    "            \n",
    "            kwargs[\"mocap_4\"] : 3Vector\n",
    "                The noisy measured position of mocap marker 2 (-y) in meters.\n",
    "            kwargs[\"next_gate\"] : 3Vector\n",
    "                The position of the center of the next gate in meters.\n",
    "            \n",
    "            kwargs[\"dir_gate\"] : 3Vector\n",
    "                A direction vector pointing in the direction of the gate.\n",
    "            \n",
    "            kwargs[\"is_last_gate\"] : bool\n",
    "                A Boolean value that indicates whether or not the next gate is the last gate.\n",
    "            \n",
    "            kwargs[\"pos_others\"] : List of 3Vectors\n",
    "                A list of the positions of any other quadrotors in meters.\n",
    "    \n",
    "        Returns\n",
    "        -------\n",
    "        inputs : List with length equal to the number of inputs\n",
    "            This is a list of the inputs calculated by the controller. In this\n",
    "            project, there are four inputs, f_z, tau_x, tau_y, and tau_z.\n",
    "            Therefore, inputs has the form:\n",
    "            inputs = [tau_x, tau_y, tau_z, f_z]\n",
    "        \n",
    "        \"\"\"\n",
    "        # FIXEME: Replace the null controller with your controller\n",
    "        return [0., 0., 0., 0.]"
   ]
  },
  {
   "cell_type": "code",
   "execution_count": null,
   "id": "91f99c2f-26ef-4515-875c-d5be5505ff4b",
   "metadata": {},
   "outputs": [],
   "source": [
    "# Create an instance of our Controller class to simulate 1 quadrotor\n",
    "controller1 = Controller()"
   ]
  },
  {
   "cell_type": "markdown",
   "id": "fdd5aa72-f4c6-4b4e-bb66-08bd4ceda7c9",
   "metadata": {
    "jp-MarkdownHeadingCollapsed": true
   },
   "source": [
    "## Running the Simulation"
   ]
  },
  {
   "cell_type": "markdown",
   "id": "a71636ba-cd6d-4ad5-8e31-1457f4111c72",
   "metadata": {},
   "source": [
    "Before we run the simulation, we must first import the simulation module and then create an instance of the simulator. This is done below:"
   ]
  },
  {
   "cell_type": "code",
   "execution_count": null,
   "id": "e5146cf2-bb6b-4a56-ab66-08917b5d03c6",
   "metadata": {},
   "outputs": [],
   "source": [
    "# Import the quadrotor project. This module is used to simulate, render, and plot a quadrotor dynamic system\n",
    "import ae353_quadrotor"
   ]
  },
  {
   "cell_type": "markdown",
   "id": "555722ea-6fb7-4f0c-b78f-7a8731e35f14",
   "metadata": {},
   "source": [
    "There are eight main parameters to the Quadrotor_Sim class initialization function:\n",
    "#### Parameters\n",
    "\n",
    "> **n_quadrotors** : *int*  \n",
    "> The number of quadrotor controllers provided to the simulator.\n",
    "> \n",
    "> **team_list** : *list of strings, shape(n_quadrotors,)*  \n",
    "> A list of the team names associated with each of the n_quadrotors controllers. The teams names to select from include: \"*the ORB*\", \"*Team Kachow*\", \"*Team Steam Tunnels*\", \"*Team Flying Mambas*\", \"*Team Spare Chang-e*\", and \"*the Flying Illini*\". The string \"\" results in an empty team flag.\n",
    ">\n",
    "> **planet** : *string*,\n",
    "> The name of the planet on which the race takes place. This parameter varies the acceleration due to graivty. You must select from one of the following strings: \"Mercury\", \"Venus\", \"Earth\", \"Moon\", \"Mars\", \"Jupiter\", \"Saturn\", \"Uranus\", \"Neptune\", \"Pluto\". Note that this does not alter the maximum thrust of the quadrotor.    \n",
    "> \n",
    "> **use_keyboard** : *bool, optional*  \n",
    "> A boolean flag that indicates whether the simulation will allow the use of keyboard interactivity. The default is True.\n",
    "> \n",
    "> **visualization** : *bool, optional*  \n",
    "> A boolean flag that indicates whether the simulation will be  visualized in meshcat. The default is True.\n",
    ">\n",
    "> **visualization_fr** : *float, optional*  \n",
    "> The frame rate (frames per second) at which the visualizer is  updated. The default is 45.  .\n",
    "> \n",
    "> **animation** : *bool, optional*  \n",
    "> A boolean flag that indicates whether animated plots are created in real time. The default is True.\n",
    ">\n",
    ">  **verbose** : *bool, optional*  \n",
    "> A boolean flag that indicates whether warnings are printing during  function execution. The default is False."
   ]
  },
  {
   "cell_type": "code",
   "execution_count": null,
   "id": "80c2d1df-5247-44cf-9de7-35c4d85780d5",
   "metadata": {},
   "outputs": [],
   "source": [
    "# Make an instance of the simulator for 1 quadrotor\n",
    "team_list = [\"\"]\n",
    "sim = ae353_quadrotor.Quadrotor_Sim(n_quadrotors=1,\n",
    "                                    team_list=team_list,\n",
    "                                    planet=\"Earth\",\n",
    "                                    use_keyboard=True,\n",
    "                                    visualization=True,\n",
    "                                    visualization_fr=45.,\n",
    "                                    animation=False,\n",
    "                                    verbose=True)"
   ]
  },
  {
   "cell_type": "markdown",
   "id": "94ef6182-08ea-4384-92c0-20210a8c5858",
   "metadata": {},
   "source": [
    "Now we are ready to run the simulation and collect data. To do this we call the ``sim.run()`` function. This function takes a list of members of the  ``Controller`` class as an argument and returns ``track_stats`` and ``data``. The parameters and return values of ``sim.run()`` are shown below.\n",
    "\n",
    "#### Parameters\n",
    "\n",
    "> **controllers** : *List of members of Controller class*  \n",
    "> A list of length n_quadrotors where each element is a member of  a custom class that, at a minimum, must provide the function   controller.run() and controller.reset.()\n",
    "> \n",
    "> **max_time** : *Float or None, optional*  \n",
    "> The total amount of time the simulation is allowed to run. If set to None, the simulation will run until \"ESC\" is pressed on the keyboard. If the keyboard is disabled, and max_time is set to None, the simulation will automatically terminate after 10 seconds of simulated time. The default value is None.\n",
    ">  \n",
    "> **sensor_noise** : *Float, optional*  \n",
    "> The noise applied to the mocap sensor, i.e., the standard deviation of the components of each mocap marker tracker measurement. The default value is 0.01 (1 cm).\n",
    ">\n",
    ">  **verbose** : *bool, optional*  \n",
    "> A boolean flag that indicates whether warnings are printing during function execution. The default is False.\n",
    "> \n",
    "#### Returns\n",
    "\n",
    "> **track_stats** : *List of Dictionaries*\n",
    "> A list of dictionaries containing all relevant track performance data generated during the simulation. There is one dictionary for each quadrotor simulated. Specific data is extracted via the statement: track_stats[QUADROTOR NUMBER][\"KEYWORD\"], where QUADROTOR NUMBER is the index of the quadrotor for which track stats are collected and \"KEYWORD\" is a key to the dictionary. The keys of track_stats for this project are as follows:\n",
    ">\n",
    "> **track_stats[QUADROTOR NUMBER][\"completed_lap\"]** : *Bool*  \n",
    "> A boolean value that indicates whether or not the quadrotor completed the lap.  \n",
    ">\n",
    "> **track_stats[QUADROTOR NUMBER][\"gate_times\"]** : *List of Floats*  \n",
    "> The time at which each gate was passed by the quadrotor. The length of this list is equal to the number of gates passed by the quadrotor. If no gates were passed, is an empty list.  \n",
    ">\n",
    "> **track_stats[QUADROTOR NUMBER][\"lap_time\"]** : *Float*  \n",
    "> The time at which the final gate was passed by the quadrotor. If the final gate was not passed, has the value None.  \n",
    ">  \n",
    "> **data** : *List of Dictionary of Lists*  \n",
    "> A list of dictionaries containing all relevant simulation data generated during the simulation. There is one dictionary for each quadrotor simulated. Specific data is extracted via the statement: data[QUADROTOR NUMBER][\"KEYWORD\"], where QUADROTOR NUMBER is the index of the quadrotor for which data is collected and \"KEYWORD\" is a key to the dictionary. The keys of data for this project are as follows:\n",
    ">  \n",
    "> **data[QUADROTOR NUMBER][\"position\"]** : *List of arrays, shape(n,3)*  \n",
    "> The [x, y, z] position of the quadrotor at each time stamp.  \n",
    ">  \n",
    "> **data[QUADROTOR NUMBER][\"orientation\"]** : *List of arrays, shape(n,3)*  \n",
    "> The [roll, pitch, yaw] orientation of the quadrotor at each  time stamp.  \n",
    ">  \n",
    "> **data[QUADROTOR NUMBER][\"velocity\"]** : *List of arrays, shape(n,3)*  \n",
    ">The [vx, vy, vz] velocity of the quadrotor in body fixed  coordinates at each time stamp.  \n",
    ">  \n",
    "> **data[QUADROTOR NUMBER][\"angular velocity\"]** : *List of arrays, shape(n,3)*  \n",
    "The [wx, wy, wz] angular velocity of the quadrotor in body  fixed coordinates at each time stamp.  \n",
    "> \n",
    "> **data[QUADROTOR NUMBER][\"mocap 1\"]** : *List of arrays, shape(n,3)*  \n",
    "> The true (not noisy) position of the mocap 1 marker (+x) in  meters at each time stamp.  \n",
    "> \n",
    "> **data[QUADROTOR NUMBER][\"mocap 2\"]** : *List of arrays, shape(n,3)*  \n",
    "> The true (not noisy) position of the mocap 2 marker (+y) in  meters at each time stamp.  \n",
    "> \n",
    "> **data[QUADROTOR NUMBER][\"mocap 3\"]** : *List of arrays, shape(n,3)*  \n",
    "> The true (not noisy) position of the mocap 3 marker (-x) in  meters at each time stamp.  \n",
    "> \n",
    "> **data[QUADROTOR NUMBER][\"mocap 4\"]** : *List of arrays, shape(n,3)*  \n",
    "> The true (not noisy) position of the mocap 4 marker (-y) in  meters at each time stamp.  \n",
    "> \n",
    "> **data[QUADROTOR NUMBER][\"inputs\"]** : *List of arrays, shape(n,4)*  \n",
    "> The inputs applied to the quadrotor. [tau_x, tau_y, tau_z, f_z]  \n",
    "> \n",
    "> **data[QUADROTOR NUMBER][\"time\"]** : *List of Floats, shape(n,)*  \n",
    "> A list of the time stamps in seconds. "
   ]
  },
  {
   "cell_type": "markdown",
   "id": "124639bf-1ee1-4311-b92c-8390c695242a",
   "metadata": {},
   "source": [
    "#### If enabled you can use the keyboard to interact with the simulation:  \n",
    "> press **ENTER** to start the simulation.  \n",
    "> press **BACKSPACE** to reset the simulation.  \n",
    "> press **SPACE** to pause the simulation.  \n",
    "> press **ESC** to end the simulation.  "
   ]
  },
  {
   "cell_type": "code",
   "execution_count": null,
   "id": "75fefa5c-d205-44cc-84fb-0896513a6cec",
   "metadata": {},
   "outputs": [],
   "source": [
    "# Run the simulation and collect the simulation data\\\n",
    "controllers = [controller1]\n",
    "(track_stats, data) = sim.run(controllers,\n",
    "                              sensor_noise=0.01,\n",
    "                              collect_data=True,\n",
    "                              max_time=60.0,\n",
    "                              verbose=True)"
   ]
  },
  {
   "cell_type": "code",
   "execution_count": null,
   "id": "e885b408-a4ca-450c-a762-f909d2027799",
   "metadata": {},
   "outputs": [],
   "source": [
    "# Print out the track stats for each quadrotor\n",
    "for i in range(len(track_stats)):\n",
    "    stat = track_stats[i]\n",
    "    print(\"Quadrotor {} completed lap: {}\".format(i, stat[\"completed_lap\"]))\n",
    "    if len(stat[\"gate_times\"]) > 0:\n",
    "        print(\"Gate times for Quadrotor {}: {}\".format(i, stat[\"gate_times\"]))\n",
    "    else:\n",
    "        print(\"Quadrotor {} passed no gates.\".format(i))\n",
    "    if stat[\"completed_lap\"]:\n",
    "        print(\"Lap time for Quadrotor {}: {}\".format(i, stat[\"lap_time\"]))\n",
    "    print(\"\\n\")"
   ]
  },
  {
   "cell_type": "markdown",
   "id": "0fadfcf6-c9d5-4d87-9ff7-8665522883e3",
   "metadata": {
    "jp-MarkdownHeadingCollapsed": true
   },
   "source": [
    "## FIXME: Post-processing the simulation data"
   ]
  },
  {
   "cell_type": "markdown",
   "id": "4d9710b3-e018-4921-839c-ff40946ef1f8",
   "metadata": {},
   "source": [
    "After the simulation is run, we can plot the data using the Matplotlib package. To start, we import matplotlib and numpy."
   ]
  },
  {
   "cell_type": "code",
   "execution_count": null,
   "id": "5b23ea45-dabd-46f3-b3aa-148dd30d4f64",
   "metadata": {},
   "outputs": [],
   "source": [
    "# Import the pyplot module from the matplotlib package\n",
    "import matplotlib.pyplot as plt\n",
    "\n",
    "# Import numpy\n",
    "import numpy as np"
   ]
  },
  {
   "cell_type": "markdown",
   "id": "fcc05165-85a1-43f4-9ea7-e3a84d795869",
   "metadata": {},
   "source": [
    "Now we can make whichever plots we see fit to make sense of the simulation data. Here we plot the ground track and altitude.\n",
    "\n",
    "**THIS IS LEFT INTENTIONALLY AS INSUFFICIENT TO PROVE YOUR CONTROLLER OR OBSERVER WORK.**"
   ]
  },
  {
   "cell_type": "code",
   "execution_count": null,
   "id": "815349ed-356a-4194-bd7c-35db59ea26e9",
   "metadata": {},
   "outputs": [],
   "source": [
    "# Create a figure that has two plots in it\n",
    "fig, axes = plt.subplots(2, 1, figsize=(7.2, 5.4), sharex=False)\n",
    "\n",
    "# Convert the position data to array\n",
    "colors = ['k','r','g','b','m','c','tab:orange','tab:purple','tab:brown','tab:pink','tab:gray']\n",
    "for i in range(len(data)):\n",
    "    \n",
    "    # Get the position\n",
    "    pos = np.array(data[i]['position'])\n",
    "    \n",
    "    # Create a plot of the ground path of the quadrotor\n",
    "    axes[0].plot(pos[:,0], pos[:,1], c=colors[i], lw=2.5, label=str(i+1))\n",
    "    \n",
    "    # Create a plot of the altitude versus time\n",
    "    axes[1].plot(data[0]['time'], pos[:,2], c=colors[i], lw=2.5, label=str(i+1))\n",
    "\n",
    "# Make plot 0 pretty\n",
    "axes[0].set_xlabel(\"X Position [meters]\", fontsize=12)\n",
    "axes[0].set_ylabel(\"Y Position [meters]\", fontsize=12)\n",
    "axes[0].tick_params(axis='y', labelsize=12)\n",
    "axes[0].set_title(\"Ground Track\", fontsize=14)\n",
    "axes[0].set_aspect('equal', 'box')\n",
    "axes[0].legend(bbox_to_anchor=(1.16, 1.05), fancybox=True, shadow=True)\n",
    "axes[0].grid()\n",
    "\n",
    "# Make plot 1 pretty\n",
    "axes[1].set_xlabel(\"Time [seconds]\", fontsize=12)\n",
    "axes[1].set_ylabel(\"Altitude [meters]\", fontsize=12)\n",
    "axes[1].tick_params(axis='y', labelsize=12)\n",
    "axes[1].set_title(\"Altitude vs. Time\", fontsize=14)\n",
    "axes[1].legend(bbox_to_anchor=(1., 1.05), fancybox=True, shadow=True)\n",
    "axes[1].grid()\n",
    "\n",
    "# Show the figure\n",
    "fig.tight_layout(pad=2.0)\n",
    "plt.show()"
   ]
  },
  {
   "cell_type": "code",
   "execution_count": null,
   "id": "dc20052d-b877-45c5-b458-c8720425ef6e",
   "metadata": {},
   "outputs": [],
   "source": []
  }
 ],
 "metadata": {
  "kernelspec": {
   "display_name": "Python 3 (ipykernel)",
   "language": "python",
   "name": "python3"
  },
  "language_info": {
   "codemirror_mode": {
    "name": "ipython",
    "version": 3
   },
   "file_extension": ".py",
   "mimetype": "text/x-python",
   "name": "python",
   "nbconvert_exporter": "python",
   "pygments_lexer": "ipython3",
   "version": "3.11.8"
  }
 },
 "nbformat": 4,
 "nbformat_minor": 5
}
