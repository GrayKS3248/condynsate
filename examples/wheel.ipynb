{
 "cells": [
  {
   "cell_type": "markdown",
   "id": "7cf31030-c63d-42d7-befc-67267fc15a8c",
   "metadata": {},
   "source": [
    "When starting a Python project, the first thing we do is import our dependencies."
   ]
  },
  {
   "cell_type": "code",
   "execution_count": 1,
   "id": "0cffd838-57cf-402f-95e0-5be961807538",
   "metadata": {},
   "outputs": [],
   "source": [
    "# Import condynsate. This package is used to simulate, render, and plot dynamic systems\n",
    "import condynsate"
   ]
  },
  {
   "cell_type": "markdown",
   "id": "22ee80d2-1c04-4aec-affd-f8a35c1ef367",
   "metadata": {},
   "source": [
    "To use condynsate, we first create an instanace of a simulator. The simulator handles simulating dynamic systems, rendering them in real-time, and creating live plots that show us data from the simulation. \n",
    "\n",
    "Running this command will both create a simulator and open a visualization window in your default internet browser."
   ]
  },
  {
   "cell_type": "code",
   "execution_count": 2,
   "id": "a629a2d3-8fa2-489b-ba04-b9c697c24dc6",
   "metadata": {},
   "outputs": [
    {
     "name": "stdout",
     "output_type": "stream",
     "text": [
      "You can open the visualizer by visiting the following URL:\n",
      "http://127.0.0.1:7003/static/\n"
     ]
    }
   ],
   "source": [
    "# Create an instance of the simulator with visualization and animation\n",
    "sim = condynsate.Simulator(visualization=True, # Visualization is the process of rendering your dynamic system in 3D\n",
    "                           animation=True,     # Animation is the process of live plotting data from the simulation\n",
    "                           animation_fr=15.    # This parameter is the frame rate of the animator (plots)\n",
    "                          )"
   ]
  },
  {
   "cell_type": "markdown",
   "id": "54e58c47-99fe-4364-bfa7-bc5e78b1bebe",
   "metadata": {},
   "source": [
    "Next, we load URDF files into the simulator. These URDF files encode visual, collisional, and inertial data of articulated bodies --rigid bodies joined together by joints--. The articulate body format is a common way to define robotic systems.\n",
    "\n",
    "As we load each URDF file, it will automatically appear in your visualization window."
   ]
  },
  {
   "cell_type": "code",
   "execution_count": 3,
   "id": "7dce12b3-2180-4825-98d3-bb6b2b57451f",
   "metadata": {},
   "outputs": [],
   "source": [
    "# Load the wheel\n",
    "wheel_obj = sim.load_urdf(urdf_path='./wheel_vis/wheel.urdf', # The relative path that leads to the wheel .urdf file \n",
    "                          position=[0., 0., 0.],              # The (X, Y, Z) coordinates at which the wheel object is placed           \n",
    "                          fixed=True,                         # The origin of the wheel (base) is not allowed to move\n",
    "                          update_vis=True                     # The wheel object will be updated in the visualizer each simulation step\n",
    "                         )"
   ]
  },
  {
   "cell_type": "code",
   "execution_count": 4,
   "id": "5811e7f6-0870-405e-87f8-16bcf5f762be",
   "metadata": {},
   "outputs": [],
   "source": [
    "# Load the target arrow. This arrow will point in the direction that we want to rotate the wheel to.\n",
    "# When first loaded, the target arrow will not be visible. This is because it is pointing in the same direction \n",
    "# as the orange arrow attached to the wheel.\n",
    "target_obj = sim.load_urdf(urdf_path='./wheel_vis/target_arrow.urdf',\n",
    "                           position=[0., 0., 0.6655],\n",
    "                           fixed=True,\n",
    "                           update_vis=True\n",
    "                          )"
   ]
  },
  {
   "cell_type": "markdown",
   "id": "eb99d88b-9cf0-46a0-a0ec-7123daf6f418",
   "metadata": {},
   "source": [
    "Now we will set up the animator. We define how many suplots we want, how many lines each subplot will have, and style choices for each subplot."
   ]
  },
  {
   "cell_type": "code",
   "execution_count": 5,
   "id": "1feea8fa-406c-484a-9011-ffe951209687",
   "metadata": {},
   "outputs": [],
   "source": [
    "# This defines the first subplot.\n",
    "# This subplot will plot the current angle of the wheel and the target angle of the wheel.\n",
    "plot1, lines1 = sim.add_subplot_to_animator(n_lines=2,                 # How many lines are going to be on this subplot\n",
    "                                            title=\"Angles vs Time\",    # The title of our subplot\n",
    "                                            x_label=\"Time [Seconds]\",  # The label to give the x axis\n",
    "                                            y_label=\"Angles [Rad]\",    # The label to give the y axis\n",
    "                                            colors=[\"r\", \"b\"],         # The colors of each line\n",
    "                                            line_widths=[2.5, 2.5],    # The width (thickness) of each line\n",
    "                                            line_styles=[\"-\", \":\"],    # The style of each line (solid and dotted)\n",
    "                                            labels=[\"Angle\", \"Target\"] # The name of each line in the subplot\n",
    "                                           )"
   ]
  },
  {
   "cell_type": "code",
   "execution_count": 6,
   "id": "61c32e23-6355-4c01-b8b7-94cf8f14d98e",
   "metadata": {},
   "outputs": [],
   "source": [
    "# This subplot will track the torque applied to the wheel by the axle motor\n",
    "plot2, lines2 = sim.add_subplot_to_animator(n_lines=1,\n",
    "                                            title=\"Torque vs Time\",\n",
    "                                            x_label=\"Time [Seconds]\",\n",
    "                                            y_label=\"Torque [Nm]\",\n",
    "                                            colors=[\"k\"],\n",
    "                                            line_widths=[2.5]\n",
    "                                           )"
   ]
  },
  {
   "cell_type": "markdown",
   "id": "837f46d2-bf2c-4dfc-9327-9d20ff55834f",
   "metadata": {},
   "source": [
    "After adding all the subplots that we want, we can now open the animator GUI. This will open a new window that shows the plots that you just defined."
   ]
  },
  {
   "cell_type": "code",
   "execution_count": 7,
   "id": "cb89d2c4-2fab-4417-bffe-7baf9688e65e",
   "metadata": {},
   "outputs": [],
   "source": [
    "sim.open_animator_gui()"
   ]
  },
  {
   "cell_type": "markdown",
   "id": "e28d4c6d-dfa1-4531-8b4b-ade225ff9c63",
   "metadata": {},
   "source": [
    "Now we define some functions that let us use the keyboard to change our target angle."
   ]
  },
  {
   "cell_type": "code",
   "execution_count": 8,
   "id": "108761f1-ff70-4aa6-a2ee-4c786c289ded",
   "metadata": {},
   "outputs": [],
   "source": [
    "# Set our initial target angle of 0.0 rad.\n",
    "target_angle = 0.0\n",
    "\n",
    "# This function uses the simulator to listen for key presses\n",
    "# and then updates the target angle based on which keys are pressed\n",
    "def update_target_angle(target_angle):\n",
    "    \n",
    "    # Set our new target angle to the same as the previous target angle\n",
    "    new_target_angle = target_angle\n",
    "    \n",
    "    # If the 'a' key is pressed, increase the target angle by a little bit\n",
    "    if sim.is_pressed('a'):\n",
    "        new_target_angle = new_target_angle + 0.005*6.2831854\n",
    "\n",
    "        # Make sure that we don't increase the target angle above pi rads\n",
    "        if new_target_angle > 3.1415927:\n",
    "            new_target_angle = 3.1415927\n",
    "\n",
    "    # If the 'd' key is pressed, decrease the target angle by a little bit\n",
    "    elif sim.is_pressed('d'):\n",
    "        new_target_angle = new_target_angle - 0.005*6.2831854\n",
    "\n",
    "        # Make sure that we don't decrease the target angle below -pi rads\n",
    "        if new_target_angle < -3.1415927:\n",
    "            new_target_angle = -3.1415927\n",
    "\n",
    "    # Return the newly updated target angle\n",
    "    return new_target_angle"
   ]
  },
  {
   "cell_type": "markdown",
   "id": "c09fccc9-6ab8-491c-9863-e91d9402d04f",
   "metadata": {},
   "source": [
    "Here we make our controller. The controller will take some values as arguments then use them to calculate how much torque we should apply to the wheel."
   ]
  },
  {
   "cell_type": "code",
   "execution_count": 9,
   "id": "6ae0a9ff-765d-4ebb-b6a2-505e245d43ec",
   "metadata": {},
   "outputs": [],
   "source": [
    "def controller(target_angle, angle, angle_vel):\n",
    "    angle_error = angle - target_angle           # Calculate how far away we are from the target\n",
    "    torque = -3.0 * angle_error - 2.0*angle_vel  # Calculate what torque we should apply\n",
    "    return torque"
   ]
  },
  {
   "cell_type": "markdown",
   "id": "867c32f6-8e4e-45da-950d-6f6c77178110",
   "metadata": {},
   "source": [
    "Now we can run our simulation. This is done by calling sim.step() in a while loop. The simulator will automatically handle stepping the dynamics, updating the visualization, and plotting whatever data we send to our two subplots.\n",
    "\n",
    "To stop the simulation, press 'esc' on your keyboard. To reset the simulation, press 'tab' on your keyboard."
   ]
  },
  {
   "cell_type": "code",
   "execution_count": 10,
   "id": "a60c028c-00fd-41df-8b4c-45468cc0810f",
   "metadata": {},
   "outputs": [
    {
     "name": "stdout",
     "output_type": "stream",
     "text": [
      "RESETTING...\n",
      "Termination command detected. Terminating keyboard listener. Goodbye\n"
     ]
    }
   ],
   "source": [
    "# Run the simulation\n",
    "while(not sim.is_done):\n",
    "    ###########################################################################\n",
    "    # SENSOR\n",
    "    # Use a sensor to collect the angle of the wheel \n",
    "    # and the angular velocity of the wheel\n",
    "    state = sim.get_joint_state(urdf_obj=wheel_obj,         # The urdf id of the wheel that was generated above\n",
    "                                joint_name=\"ground_to_axle\" # The name of the joint whose state we want to measure\n",
    "                               )\n",
    "    angle = state['position']\n",
    "    angle_vel = state['velocity']\n",
    "    ###########################################################################\n",
    "    # CONTROLLER\n",
    "    # This is the section where you apply your controller.\n",
    "    torque = controller(target_angle,\n",
    "                        angle,\n",
    "                        angle_vel\n",
    "                       )\n",
    "    \n",
    "    ###########################################################################\n",
    "    # ACTUATOR\n",
    "    # Apply the controller calculated torque to the wheel using an actuator.\n",
    "    sim.set_joint_torque(urdf_obj=wheel_obj,          # The urdf id of the wheel that was generated above\n",
    "                         joint_name=\"ground_to_axle\", # The name of the joint to which the torque is applied\n",
    "                         torque=torque,               # The amount of torque we apply\n",
    "                         show_arrow=True,             # This indicates that we visualize the torque with an arrow\n",
    "                         arrow_scale=0.3,             # The size of the arrow\n",
    "                         arrow_offset=0.52            # The amount the arrow is offset from the center of the axle motor  \n",
    "                        )\n",
    "    \n",
    "    ###########################################################################\n",
    "    # UPDATE THE PLOTS\n",
    "    # This is how we add data points to the animator\n",
    "    # Each time step, we note the current time, the angle of the wheel,\n",
    "    # the target angle of the wheel, and the torque applied.\n",
    "    # We then send this data to the subplots and lines that we \n",
    "    # want them to be plotted on.\n",
    "    sim.add_subplot_point(subplot_index=plot1,  # The subplot id on which we plot the angle vs time\n",
    "                          line_index=lines1[0], # The line id to which we send the angle vs time data point\n",
    "                          x=sim.time,           # The x coordinate of the data point we send (current time)\n",
    "                          y=angle               # The y coordinate of the data point we send (current angle of the wheel)\n",
    "                         )\n",
    "    \n",
    "    # We then repeat the above procedure for plotting the target angle\n",
    "    # on the same subplot as the current angle but the second line.\n",
    "    sim.add_subplot_point(subplot_index=plot1,\n",
    "                          line_index=lines1[1],\n",
    "                          x=sim.time,\n",
    "                          y=target_angle\n",
    "                         )\n",
    "\n",
    "    # Finally, we plot the torque vs time on the second subplot.\n",
    "    sim.add_subplot_point(subplot_index=plot2,\n",
    "                          line_index=lines2[0],\n",
    "                          x=sim.time,\n",
    "                          y=torque\n",
    "                         )\n",
    "    \n",
    "    ###########################################################################\n",
    "    # UPDATE THE TARGET ANGLE\n",
    "    # Adjust the target angle by using the code we wrote above\n",
    "    target_angle = update_target_angle(target_angle)\n",
    "\n",
    "    # Adjust the target arrow so that it is always pointing in the target angle direction\n",
    "    sim.set_joint_position(urdf_obj=target_obj,         # The urdf id of the wheel that was generated above\n",
    "                           joint_name='world_to_arrow', # The name of the joint whose position we want to change\n",
    "                           position=target_angle,       # The direction we want the target arrow to point in\n",
    "                           physics=False                # Specifies whether or not to use physics to adjust the position.\n",
    "                          )\n",
    "    \n",
    "    ###########################################################################\n",
    "    # STEP THE SIMULATION\n",
    "    sim.step(real_time=True,   # We want our simulation to run in real time (or as close as possible)\n",
    "              update_vis=True, # We want to update the visualizer each time we step the physics\n",
    "              update_ani=True  # We want to update the animator each time we step the physics\n",
    "            )"
   ]
  }
 ],
 "metadata": {
  "kernelspec": {
   "display_name": "Python 3 (ipykernel)",
   "language": "python",
   "name": "python3"
  },
  "language_info": {
   "codemirror_mode": {
    "name": "ipython",
    "version": 3
   },
   "file_extension": ".py",
   "mimetype": "text/x-python",
   "name": "python",
   "nbconvert_exporter": "python",
   "pygments_lexer": "ipython3",
   "version": "3.11.5"
  }
 },
 "nbformat": 4,
 "nbformat_minor": 5
}
