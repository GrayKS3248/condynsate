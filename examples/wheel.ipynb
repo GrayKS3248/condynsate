{
 "cells": [
  {
   "cell_type": "markdown",
   "id": "7cf31030-c63d-42d7-befc-67267fc15a8c",
   "metadata": {},
   "source": [
    "# A Tutorial for using Condynsate\n",
    "In this tutorial, we will introduce how to create a simulation environment, how to set up the animator, how to build a simple controller, and how to run a simulation that includes keyboard interactivity. In the scope of this project, we will do this by testing a simple PD controller for a powered wheel with a target pointing angle."
   ]
  },
  {
   "cell_type": "markdown",
   "id": "e7c9647e-60f3-42a6-9fa4-8754baeb18bc",
   "metadata": {},
   "source": [
    "## Building the simulation environment\n",
    "When starting a Python project, the first thing we do is import our dependencies."
   ]
  },
  {
   "cell_type": "code",
   "execution_count": 1,
   "id": "0cffd838-57cf-402f-95e0-5be961807538",
   "metadata": {},
   "outputs": [],
   "source": [
    "# Import condynsate. This package is used to simulate, render, and plot dynamic systems\n",
    "import condynsate"
   ]
  },
  {
   "cell_type": "markdown",
   "id": "22ee80d2-1c04-4aec-affd-f8a35c1ef367",
   "metadata": {},
   "source": [
    "To use condynsate, we first create an instanace of a simulator. The simulator handles simulating dynamic systems, rendering them in real-time, and creating live plots that show us data from the simulation. \n",
    "\n",
    "Running this command will both create a simulator and open a visualization window in your default internet browser."
   ]
  },
  {
   "cell_type": "code",
   "execution_count": 2,
   "id": "a629a2d3-8fa2-489b-ba04-b9c697c24dc6",
   "metadata": {},
   "outputs": [
    {
     "name": "stdout",
     "output_type": "stream",
     "text": [
      "You can open the visualizer by visiting the following URL:\n",
      "http://127.0.0.1:7000/static/\n"
     ]
    }
   ],
   "source": [
    "# Create an instance of the simulator with visualization and animation\n",
    "sim = condynsate.Simulator(visualization=True,  # Visualization is the process of rendering your dynamic system in 3D\n",
    "                           visualization_fr=15.,# This parameter is the frame rate of the visualizer (3D renderer)\n",
    "                           animation=True,      # Animation is the process of live plotting data from the simulation\n",
    "                           animation_fr=15.     # This parameter is the frame rate of the animator (plots)\n",
    "                          )"
   ]
  },
  {
   "cell_type": "markdown",
   "id": "54e58c47-99fe-4364-bfa7-bc5e78b1bebe",
   "metadata": {},
   "source": [
    "Next, we load URDF files into the simulator. These URDF files encode visual, collisional, and inertial data of articulated bodies --rigid bodies joined together by joints. The articulate body format is a common way to define robotic systems.\n",
    "\n",
    "As we load each URDF file, it will automatically appear in your visualization window. We will load 2 URDF files, one file describing the powered wheel and the other describing an arrow that we will continuously update to point in the target direction."
   ]
  },
  {
   "cell_type": "code",
   "execution_count": 3,
   "id": "7dce12b3-2180-4825-98d3-bb6b2b57451f",
   "metadata": {},
   "outputs": [],
   "source": [
    "# Load the wheel\n",
    "wheel_obj = sim.load_urdf(urdf_path='./wheel_vis/wheel.urdf', # The relative path that leads to the wheel .urdf file \n",
    "                          position=[0., 0., 0.],              # The (X, Y, Z) coordinates at which the wheel object is placed           \n",
    "                          fixed=True,                         # The origin of the wheel (base) is not allowed to move\n",
    "                          update_vis=True                     # The wheel object will be updated in the visualizer each simulation step\n",
    "                         )"
   ]
  },
  {
   "cell_type": "code",
   "execution_count": 4,
   "id": "5811e7f6-0870-405e-87f8-16bcf5f762be",
   "metadata": {},
   "outputs": [],
   "source": [
    "# Load the target arrow. This arrow will point in the direction that we want to rotate the wheel to.\n",
    "# When first loaded, the target arrow will not be visible. This is because it is pointing in the same direction \n",
    "# as the orange arrow attached to the wheel.\n",
    "target_obj = sim.load_urdf(urdf_path='./wheel_vis/target_arrow.urdf',\n",
    "                           position=[0., 0., 0.6655],\n",
    "                           fixed=True,\n",
    "                           update_vis=True\n",
    "                          )"
   ]
  },
  {
   "cell_type": "markdown",
   "id": "eb99d88b-9cf0-46a0-a0ec-7123daf6f418",
   "metadata": {},
   "source": [
    "## Setting up the animator\n",
    "Now we will set up the animator. The animator draws plots in real time. We define how many suplots we want, how many artists each subplot will have, and style choices for each subplot.\n",
    "\n",
    "There are two types of subplots that can be used: **line** and **bar**. For a line plot, each individual line requires an artist, so if you want a plot with two lines on it, ```n_artists = 2```. For a bar chart, each indivdual bar requires an artist, so if you wanted to plot 3 bars, ```n_artists = 3```. More information on how to add subplots to the animator can be found in the documentation."
   ]
  },
  {
   "cell_type": "markdown",
   "id": "aa8c0e15-728e-4dbe-a94d-d0b3bb8106b8",
   "metadata": {},
   "source": [
    "In this case, we will make 3 subplots. The first subplot contains two line artists that together plot the angle of the wheel and the target angle versus time. In second subplot contains one line artist that will plot the applied torque vs time. The final subplot will contain two bar artists that will plot the value of the P and D control gains."
   ]
  },
  {
   "cell_type": "code",
   "execution_count": 5,
   "id": "1feea8fa-406c-484a-9011-ffe951209687",
   "metadata": {},
   "outputs": [],
   "source": [
    "# This defines the first subplot.\n",
    "# This subplot will plot the current angle of the wheel and the target angle of the wheel.\n",
    "plot1, artists1 = sim.add_subplot(n_artists=2,               # How many total things that are going to drawn to the subplot (2 line charts)\n",
    "                                  subplot_type='line',       # What type of subplot this is going to be\n",
    "                                  title=\"Angles vs Time\",    # The title of our subplot\n",
    "                                  x_label=\"Time [Seconds]\",  # The label to give the x axis\n",
    "                                  y_label=\"Angles [Rad]\",    # The label to give the y axis\n",
    "                                  colors=[\"r\", \"b\"],         # The colors of each line\n",
    "                                  line_widths=[2.5, 2.5],    # The width (thickness) of each line\n",
    "                                  line_styles=[\"-\", \":\"],    # The style of each line (solid and dotted)\n",
    "                                  labels=[\"Angle\", \"Target\"] # The name of each line in the subplot\n",
    "                                 )"
   ]
  },
  {
   "cell_type": "code",
   "execution_count": 6,
   "id": "61c32e23-6355-4c01-b8b7-94cf8f14d98e",
   "metadata": {},
   "outputs": [],
   "source": [
    "# This subplot will track the torque applied to the wheel by the axle motor\n",
    "plot2, artists2 = sim.add_subplot(n_artists=1,\n",
    "                                  subplot_type='line',\n",
    "                                  title=\"Torque vs Time\",\n",
    "                                  x_label=\"Time [Seconds]\",\n",
    "                                  y_label=\"Torque [Nm]\",\n",
    "                                  colors=[\"k\"],\n",
    "                                  line_widths=[2.5]\n",
    "                                 )"
   ]
  },
  {
   "cell_type": "code",
   "execution_count": 7,
   "id": "a5465e22-27f3-463e-8ca8-f0d8140d1ea5",
   "metadata": {},
   "outputs": [],
   "source": [
    "# This subplot is a bar chart subplot that will track constants that we set during the simulation\n",
    "plot3, artists3 = sim.add_subplot(n_artists=2,                           # How many total things that are going to drawn to the subplot (2 bars)\n",
    "                                  subplot_type='bar',                    # What type of subplot this is going to be\n",
    "                                  title=\"Gains\",                         # The title of our subplot\n",
    "                                  x_label=\"Values [-]\",                  # The label to give the x axis\n",
    "                                  y_label=\"Names [-]\",                   # The label to give the y axis\n",
    "                                  labels=[\"Proportional\", \"Derivative\"], # The name of each bar in the subplot\n",
    "                                  colors=[\"m\", \"c\"],                     # The face color of each bar\n",
    "                                  line_widths=[1.0, 1.0],                # The width of each bar's border\n",
    "                                  x_lim=[0.0, 10.0]                      # The minimum and maximum boundaries of the x axis. (Bar charts are horizontal)\n",
    "                                 )                     \n",
    "                            "
   ]
  },
  {
   "cell_type": "markdown",
   "id": "837f46d2-bf2c-4dfc-9327-9d20ff55834f",
   "metadata": {},
   "source": [
    "After adding all the subplots that we want, we can now open the animator GUI. This will open a new window that shows the plot that you just defined."
   ]
  },
  {
   "cell_type": "code",
   "execution_count": 8,
   "id": "cb89d2c4-2fab-4417-bffe-7baf9688e65e",
   "metadata": {},
   "outputs": [],
   "source": [
    "sim.open_animator_gui()"
   ]
  },
  {
   "cell_type": "markdown",
   "id": "c09fccc9-6ab8-491c-9863-e91d9402d04f",
   "metadata": {},
   "source": [
    "## Design and build a controller\n",
    "Here we make our controller. The controller will take some values as arguments then use them to calculate how much torque we should apply to the wheel.\n",
    "\n",
    "kwargs is a special python function argument that allows us to pass as many arguments as we want to the controller. Each of these arguments are called \"key word arguments\". This means that they contain both a key and a value, exactly like the standard library dictionary. So, if we wanted to call the controller function below and pass it some value of 50 it would look like this:\n",
    "```python\n",
    "    controller(age = 50)\n",
    "```\n",
    "Above the key is 'age' and the value is 50. Therefore, if we wanted to access this data in our controller function definition, we would write:\n",
    "```python\n",
    "    def controller(**kwargs):\n",
    "        current_age = kwargs['age']\n",
    "        torque = current_age + 10\n",
    "        return torque\n",
    "```\n",
    "By doing this, we could access the value of 50 through the kwargs key 'age'"
   ]
  },
  {
   "cell_type": "code",
   "execution_count": 9,
   "id": "6ae0a9ff-765d-4ebb-b6a2-505e245d43ec",
   "metadata": {},
   "outputs": [],
   "source": [
    "# First we say what we want our target angle to be\n",
    "target_angle = -3.141592654\n",
    "\n",
    "# Now we define variables that could be useful while making a controller\n",
    "var_1_P = 0.0\n",
    "var_2_D = 0.0\n",
    "\n",
    "# TODO: Make your own controller here!\n",
    "def controller(**kwargs):\n",
    "    # Gather our key word arguments\n",
    "    error = kwargs['angle'] - kwargs['target_angle']\n",
    "    d_error = kwargs['angle_vel']\n",
    "    P = kwargs['var_1_P']\n",
    "    D = kwargs['var_2_D']\n",
    "\n",
    "    # Calculate the torque\n",
    "    torque = -P*error - D*d_error\n",
    "    \n",
    "    # Return the torque we calculated\n",
    "    return torque"
   ]
  },
  {
   "cell_type": "markdown",
   "id": "867c32f6-8e4e-45da-950d-6f6c77178110",
   "metadata": {},
   "source": [
    "## Run the simulation\n",
    "Now we can run our simulation. This is done by calling ```sim.step()``` in a while loop. The simulator will automatically handle stepping the dynamics, updating the visualization, and plotting whatever data we send to our two subplots.\n",
    "\n",
    "To start the simulation, press **enter** on your keyboard. To reset the simulation, press **backspace** on your keyboard. To pause the simulation, press **space** on your keyboard. \n",
    "\n",
    "When you're done, make sure to press **esc** to stop the simulation."
   ]
  },
  {
   "cell_type": "code",
   "execution_count": 10,
   "id": "a60c028c-00fd-41df-8b4c-45468cc0810f",
   "metadata": {},
   "outputs": [
    {
     "name": "stdout",
     "output_type": "stream",
     "text": [
      "PRESS ENTER TO START SIMULATION.\n",
      "PRESS ESC TO QUIT.\n",
      "PRESS SPACE TO PAUSE/RESUME SIMULATION.\n",
      "PRESS BACKSPACE TO RESET SIMULATION.\n",
      "CONTINUING...\n",
      "RESET\n",
      "QUITTING...\n",
      "Termination command detected. Terminating keyboard listener. Goodbye\n"
     ]
    }
   ],
   "source": [
    "# Before we run the simulation, we wait for the user to press enter on their keyboard.\n",
    "# By calling this function, we can keep the animator GUI responsive while waiting for IO.\n",
    "sim.await_keypress(key=\"enter\")\n",
    "\n",
    "# Run the simulation\n",
    "while(not sim.is_done):\n",
    "    ###########################################################################\n",
    "    # SENSOR\n",
    "    # Use a sensor to collect the angle of the wheel \n",
    "    # and the angular velocity of the wheel\n",
    "    state = sim.get_joint_state(urdf_obj=wheel_obj,         # The urdf id of the wheel that was generated above\n",
    "                                joint_name=\"ground_to_axle\" # The name of the joint whose state we want to measure\n",
    "                               )\n",
    "    angle = state['position']\n",
    "    angle_vel = state['velocity']\n",
    "    \n",
    "    ###########################################################################\n",
    "    # CONTROLLER\n",
    "    # This is the section where you apply your controller.\n",
    "    # Make sure to pass whatever keyword arguments you need to get it to work!\n",
    "    torque = controller(angle=angle,\n",
    "                        target_angle=target_angle,\n",
    "                        angle_vel=angle_vel,\n",
    "                        var_1_P=var_1_P,\n",
    "                        var_2_D=var_2_D\n",
    "                       )\n",
    "    \n",
    "    ###########################################################################\n",
    "    # ACTUATOR\n",
    "    # Apply the controller calculated torque to the wheel using an actuator.\n",
    "    sim.set_joint_torque(urdf_obj=wheel_obj,          # The urdf id of the wheel that was generated above\n",
    "                         joint_name=\"ground_to_axle\", # The name of the joint to which the torque is applied\n",
    "                         torque=torque,               # The amount of torque we apply\n",
    "                         show_arrow=True,             # This indicates that we visualize the torque with an arrow\n",
    "                         arrow_scale=0.3,             # The size of the arrow\n",
    "                         arrow_offset=0.52            # The amount the arrow is offset from the center of the axle motor  \n",
    "                        )\n",
    "    \n",
    "    ###########################################################################\n",
    "    # UPDATE THE PLOTS\n",
    "    # This is how we add data points to the animator\n",
    "    # Each time step, we note the current time, the angle of the wheel,\n",
    "    # the target angle of the wheel, and the torque applied.\n",
    "    # We then send this data to the subplots and lines that we \n",
    "    # want them to be plotted on.\n",
    "    sim.add_subplot_point(subplot_index=plot1,      # The subplot id on which we plot the angle vs time\n",
    "                          artist_index=artists1[0], # The line id to which we send the angle vs time data point\n",
    "                          x=sim.time,               # The x coordinate of the data point we send (current time)\n",
    "                          y=angle                   # The y coordinate of the data point we send (current angle of the wheel)\n",
    "                         )\n",
    "    \n",
    "    # We then repeat the above procedure for plotting the target angle\n",
    "    # on the same subplot as the current angle but the second line.\n",
    "    sim.add_subplot_point(subplot_index=plot1,\n",
    "                          artist_index=artists1[1],\n",
    "                          x=sim.time,\n",
    "                          y=target_angle\n",
    "                         )\n",
    "\n",
    "    # Now, on the second plot, we plot the torque versus the time.\n",
    "    sim.add_subplot_point(subplot_index=plot2,\n",
    "                          artist_index=artists2[0],\n",
    "                          x=sim.time,\n",
    "                          y=torque\n",
    "                         )\n",
    "\n",
    "    # Finally, on the thrid plot, we plot the values of the variables P and D.\n",
    "    # These are called our control gains.\n",
    "    # For bar charts, the size of the bar is passed to the x argument. This is\n",
    "    # because bar charts are plotted horizontally, so you change their length in \n",
    "    # the x direction.\n",
    "    sim.add_subplot_point(subplot_index=plot3,\n",
    "                          artist_index=artists3[0],\n",
    "                          x=var_1_P \n",
    "                         )\n",
    "    sim.add_subplot_point(subplot_index=plot3,\n",
    "                          artist_index=artists3[1],\n",
    "                          x=var_2_D\n",
    "                         )\n",
    "    \n",
    "    ###########################################################################\n",
    "    # UPDATE THE TARGET ANGLE\n",
    "    # Now we allow the user to change the target angle in real time by using the keyboard\n",
    "    target_angle = sim.iterate_val(curr_val=target_angle, # This says which value we are changing\n",
    "                                   down_key='a',          # Which key needs to be pressed to decrement the value\n",
    "                                   up_key='d',            # Which key needs to be pressed to increment the value\n",
    "                                   iter_val=0.03,         # The amount by which we increment or decrement the value\n",
    "                                   min_val=-3.1415927,    # The smallest value we are allowed to decrement down to\n",
    "                                   max_val=3.1415927      # The largest value we are allowed to increment up to\n",
    "                                  )\n",
    "\n",
    "    # Adjust the target arrow so that it is always pointing in the target angle direction\n",
    "    sim.set_joint_position(urdf_obj=target_obj,         # The urdf id of the wheel that was generated above\n",
    "                           joint_name='world_to_arrow', # The name of the joint whose position we want to change\n",
    "                           position=target_angle,       # The direction we want the target arrow to point in\n",
    "                           physics=False                # Specifies whether or not to use physics to adjust the position.\n",
    "                          )\n",
    "    \n",
    "     ###########################################################################\n",
    "    # UPDATE THE CONTROL GAINS\n",
    "    # Use the iterate_val function provided by sim to allow the user to use\n",
    "    # the keyboard to modify the control gains\n",
    "    var_1_P = sim.iterate_val(curr_val=var_1_P,\n",
    "                              down_key='f',\n",
    "                              up_key='r',\n",
    "                              iter_val=0.02,\n",
    "                              min_val=0,\n",
    "                              max_val=10\n",
    "                             )\n",
    "    var_2_D = sim.iterate_val(curr_val=var_2_D,\n",
    "                              down_key='g',\n",
    "                              up_key='t',\n",
    "                              iter_val=0.02,\n",
    "                              min_val=0,\n",
    "                              max_val=10\n",
    "                             )\n",
    "    \n",
    "    ###########################################################################\n",
    "    # STEP THE SIMULATION\n",
    "    sim.step(real_time=True,   # We want our simulation to run in real time (or as close as possible)\n",
    "              update_vis=True, # We want to update the visualizer each time we step the physics\n",
    "              update_ani=True  # We want to update the animator each time we step the physics\n",
    "            )"
   ]
  },
  {
   "cell_type": "code",
   "execution_count": null,
   "id": "3eca3925-269a-4e0e-b3af-67381c697e26",
   "metadata": {},
   "outputs": [],
   "source": []
  }
 ],
 "metadata": {
  "kernelspec": {
   "display_name": "Python 3 (ipykernel)",
   "language": "python",
   "name": "python3"
  },
  "language_info": {
   "codemirror_mode": {
    "name": "ipython",
    "version": 3
   },
   "file_extension": ".py",
   "mimetype": "text/x-python",
   "name": "python",
   "nbconvert_exporter": "python",
   "pygments_lexer": "ipython3",
   "version": "3.10.0"
  }
 },
 "nbformat": 4,
 "nbformat_minor": 5
}
