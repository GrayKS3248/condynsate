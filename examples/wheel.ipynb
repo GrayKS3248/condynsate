{
 "cells": [
  {
   "cell_type": "markdown",
   "id": "1df482e6-a400-4392-9e94-71c8dcc7d594",
   "metadata": {},
   "source": [
    "# Wheel Project"
   ]
  },
  {
   "cell_type": "markdown",
   "id": "e1017c22-7f08-4184-8638-f93910c970b3",
   "metadata": {},
   "source": [
    "## Setting up the Simulation Environment"
   ]
  },
  {
   "cell_type": "code",
   "execution_count": 1,
   "id": "e9f43b35-3dc7-4597-a80d-e631f069d348",
   "metadata": {},
   "outputs": [],
   "source": [
    "from condynsate import Simulator as conSim\n",
    "from condynsate import __assets__ as assets\n",
    "import numpy as np"
   ]
  },
  {
   "cell_type": "code",
   "execution_count": 2,
   "id": "254cf78e-cb9f-4c81-8c81-eb1a2c967c5d",
   "metadata": {},
   "outputs": [
    {
     "name": "stdout",
     "output_type": "stream",
     "text": [
      "You can open the visualizer by visiting the following URL:\n",
      "http://127.0.0.1:7000/static/\n"
     ]
    }
   ],
   "source": [
    "simulator = conSim(keyboard = True,\n",
    "                   visualization = True,\n",
    "                   animation = True)"
   ]
  },
  {
   "cell_type": "code",
   "execution_count": 3,
   "id": "cfbc5d14-d6e2-4de9-9bc0-d4fd7fe4cdd4",
   "metadata": {},
   "outputs": [],
   "source": [
    "wheel = simulator.load_urdf(urdf_path = assets['wheel'],\n",
    "                            position = [0., 0., 0.],\n",
    "                            fixed = True,\n",
    "                            update_vis = True)"
   ]
  },
  {
   "cell_type": "code",
   "execution_count": 4,
   "id": "a620efa1-bdc1-429f-ab76-d12707abd2cd",
   "metadata": {},
   "outputs": [],
   "source": [
    "# Set joint damping\n",
    "simulator.set_joint_damping(urdf_obj = wheel,\n",
    "                            joint_name = \"ground_to_axle\",\n",
    "                            damping = 0.01)"
   ]
  },
  {
   "cell_type": "markdown",
   "id": "c9d6b5f4-6727-418f-a3d8-40c6452fa935",
   "metadata": {},
   "source": [
    "## Setting up the Animator"
   ]
  },
  {
   "cell_type": "code",
   "execution_count": 5,
   "id": "751b69e8-03fc-4bf0-99f5-0ea7790682d5",
   "metadata": {},
   "outputs": [],
   "source": [
    "plot_1, plot_1_artists = simulator.add_plot(n_artists = 2,\n",
    "                                            plot_type = 'line',\n",
    "                                            y_lim = [-0.6283, 6.9115],\n",
    "                                            title = \"Angles vs Time\",\n",
    "                                            x_label = \"Time [Seconds]\",\n",
    "                                            y_label = \"Angles [Rad]\",\n",
    "                                            color = [\"k\", \"m\"], \n",
    "                                            line_width = [2.5, 1.5],   \n",
    "                                            line_style = [\"-\", \"--\"],   \n",
    "                                            label = [\"Measured\", \"Target\"], \n",
    "                                            h_zero_line = True)"
   ]
  },
  {
   "cell_type": "code",
   "execution_count": 6,
   "id": "e244a238-eb1e-493a-b6c9-9e596b3e316b",
   "metadata": {},
   "outputs": [],
   "source": [
    "plot_2, plot_2_artists = simulator.add_plot(n_artists = 2,\n",
    "                                            plot_type = 'bar',\n",
    "                                            x_lim = [0, 5.0],\n",
    "                                            title = \"Control Gains\",\n",
    "                                            x_label = \"Set Value\",\n",
    "                                            color = [\"r\", \"b\"],\n",
    "                                            label = [\"Proportional\", \"Derivative\"])"
   ]
  },
  {
   "cell_type": "code",
   "execution_count": 7,
   "id": "f673dc50-24bc-489d-b099-31bbd8898509",
   "metadata": {},
   "outputs": [],
   "source": [
    "plots = (plot_1, plot_2)\n",
    "artists = (plot_1_artists, plot_2_artists)"
   ]
  },
  {
   "cell_type": "code",
   "execution_count": 8,
   "id": "212a2b44-15ad-4b0a-8a67-0ff15e03b635",
   "metadata": {},
   "outputs": [],
   "source": [
    "%%capture \n",
    "simulator.start_animator()"
   ]
  },
  {
   "cell_type": "markdown",
   "id": "63a9ae50-8e39-4d47-a031-dc7977f0f6fe",
   "metadata": {},
   "source": [
    "## Setting up the Simulation Loop"
   ]
  },
  {
   "cell_type": "code",
   "execution_count": 9,
   "id": "1f29f1ae-d070-4a30-8fa9-c0a20e5ebfd8",
   "metadata": {},
   "outputs": [],
   "source": [
    "def detect_keypresses(simulator):\n",
    "    target_iter_val = 0.0\n",
    "    if simulator.is_pressed('q'): target_iter_val -= 0.02\n",
    "    if simulator.is_pressed('e'): target_iter_val += 0.02\n",
    "    P_iter_val = 0.0\n",
    "    if simulator.is_pressed('f'): P_iter_val -= 0.02\n",
    "    if simulator.is_pressed('r'): P_iter_val += 0.02\n",
    "    D_iter_val = 0.0\n",
    "    if simulator.is_pressed('g'): D_iter_val -= 0.02\n",
    "    if simulator.is_pressed('t'): D_iter_val += 0.02\n",
    "    return (target_iter_val, P_iter_val, D_iter_val)"
   ]
  },
  {
   "cell_type": "code",
   "execution_count": 10,
   "id": "b539a470-33b1-40db-b187-9b66bc7f7971",
   "metadata": {},
   "outputs": [],
   "source": [
    "def get_target_error(simulator, wheel, target_angle):\n",
    "    wheel_state = simulator.get_joint_state(urdf_obj = wheel,\n",
    "                                            joint_name = \"ground_to_axle\")\n",
    "    wheel_angle = wheel_state['position']\n",
    "    angle_error = target_angle - wheel_angle\n",
    "    wheel_velocity = wheel_state['velocity']\n",
    "    velocity_error = 0.0 - wheel_velocity\n",
    "    return (angle_error, velocity_error)"
   ]
  },
  {
   "cell_type": "code",
   "execution_count": 11,
   "id": "35273444-7a96-4bd7-af1b-4ff8d9287d7f",
   "metadata": {},
   "outputs": [],
   "source": [
    "def set_target_angle(simulator, wheel, error):\n",
    "    simulator.set_joint_position(urdf_obj = wheel,\n",
    "                                 joint_name = \"wheel_to_target\",\n",
    "                                 position = error[0])"
   ]
  },
  {
   "cell_type": "code",
   "execution_count": 12,
   "id": "04dbdc11-939b-45e4-8518-c271ed03a8d9",
   "metadata": {},
   "outputs": [],
   "source": [
    "def set_torque(simulator, wheel, error, gains):\n",
    "    torque = gains[0] * error[0] + gains[1] * error[1]\n",
    "    simulator.set_joint_torque(urdf_obj = wheel,\n",
    "                               joint_name = \"ground_to_axle\",\n",
    "                               torque = torque)"
   ]
  },
  {
   "cell_type": "code",
   "execution_count": 13,
   "id": "0b71bb09-1e9e-4415-829a-7950983133c5",
   "metadata": {},
   "outputs": [],
   "source": [
    "def update_angle_plot(simulator, plot, artists, target_angle, error):\n",
    "    time = simulator.time\n",
    "    wheel_angle = target_angle-error[0]\n",
    "    simulator.add_line_datum(plot, time, wheel_angle, artist_id=artists[0])\n",
    "    simulator.add_line_datum(plot, time, target_angle, artist_id=artists[1])"
   ]
  },
  {
   "cell_type": "code",
   "execution_count": 14,
   "id": "55d9e00d-f04e-48ba-a246-bc4f6668b875",
   "metadata": {},
   "outputs": [],
   "source": [
    "def update_gain_plot(simulator, plot, artists, gains):\n",
    "    for a,g in zip(artists, gains):\n",
    "        simulator.set_bar_value(plot, g, artist_id=a)"
   ]
  },
  {
   "cell_type": "code",
   "execution_count": 15,
   "id": "5508dba6-6654-4d6e-9bfe-3a488af56f97",
   "metadata": {},
   "outputs": [],
   "source": [
    "def step(simulator, plots, artists, target_angle, gains):\n",
    "    target_iter_val, P_iter_val, D_iter_val = detect_keypresses(simulator)\n",
    "    target_angle = np.clip(target_angle + target_iter_val, 0.0, 6.2832)\n",
    "    gains[0] = np.clip(gains[0] + P_iter_val, 0.0, 5.0)\n",
    "    gains[1] = np.clip(gains[1] + D_iter_val, 0.0, 5.0)\n",
    "\n",
    "    error = get_target_error(simulator, wheel, target_angle)\n",
    "    \n",
    "    set_target_angle(simulator, wheel, error)\n",
    "    set_torque(simulator, wheel, error, gains)\n",
    "\n",
    "    update_angle_plot(simulator, plots[0], artists[0], target_angle, error)\n",
    "    update_gain_plot(simulator, plots[1], artists[1], gains)\n",
    "\n",
    "    return target_angle, gains"
   ]
  },
  {
   "cell_type": "markdown",
   "id": "0a8cce9e-e082-44eb-8b3a-2572de4c146b",
   "metadata": {},
   "source": [
    "## Running the Simulation Loop"
   ]
  },
  {
   "cell_type": "code",
   "execution_count": 16,
   "id": "c4220e17-4bf3-4a61-a00f-1f03210a9348",
   "metadata": {},
   "outputs": [
    {
     "name": "stdout",
     "output_type": "stream",
     "text": [
      "PRESS ENTER TO START SIMULATION.\n",
      "PRESS ESC TO QUIT.\n",
      "PRESS SPACE TO PAUSE/RESUME SIMULATION.\n",
      "PRESS BACKSPACE TO RESET SIMULATION.\n",
      "CONTINUING...\n",
      "QUITTING...\n"
     ]
    }
   ],
   "source": [
    "# Set the initial gains and target angle\n",
    "target_angle = 0.0\n",
    "gains = [0.0, 0.0]\n",
    "\n",
    "# Reset before running a simulation loop\n",
    "simulator.reset()\n",
    "\n",
    "# Suspend execution until user presses enter key\n",
    "simulator.await_keypress(key='enter')\n",
    "\n",
    "# Run the simulation loop\n",
    "while(not simulator.is_done):\n",
    "    # Step the sim\n",
    "    ret_code = simulator.step(real_time = True)\n",
    "\n",
    "    # If successful step was taken\n",
    "    if ret_code > 0:\n",
    "        target_angle, gains = step(simulator, plots, artists, target_angle, gains)\n",
    "        "
   ]
  },
  {
   "cell_type": "code",
   "execution_count": 17,
   "id": "3575786f-4ef7-4da5-af33-7fa5934c288e",
   "metadata": {},
   "outputs": [
    {
     "name": "stdout",
     "output_type": "stream",
     "text": [
      "Termination command detected. Terminating keyboard listener. Goodbye\n"
     ]
    }
   ],
   "source": [
    "simulator.terminate_animator()"
   ]
  }
 ],
 "metadata": {
  "kernelspec": {
   "display_name": "Python 3 (ipykernel)",
   "language": "python",
   "name": "python3"
  },
  "language_info": {
   "codemirror_mode": {
    "name": "ipython",
    "version": 3
   },
   "file_extension": ".py",
   "mimetype": "text/x-python",
   "name": "python",
   "nbconvert_exporter": "python",
   "pygments_lexer": "ipython3",
   "version": "3.13.7"
  }
 },
 "nbformat": 4,
 "nbformat_minor": 5
}
