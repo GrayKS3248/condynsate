{
 "cells": [
  {
   "cell_type": "markdown",
   "id": "afbe0311-dba9-4267-a59f-404cfebce7c9",
   "metadata": {
    "jp-MarkdownHeadingCollapsed": true
   },
   "source": [
    "# You may use this as a template for your code and code report. If you do, you MUST remove Markdown cells that were not authored by you."
   ]
  },
  {
   "cell_type": "markdown",
   "id": "891c2270-326e-4730-85a3-5c1b88cf0dae",
   "metadata": {
    "jp-MarkdownHeadingCollapsed": true
   },
   "source": [
    "## FIXME: System Linearization and State Space Form"
   ]
  },
  {
   "cell_type": "code",
   "execution_count": null,
   "id": "d4a10607-e3bc-4998-a4f5-75115406060b",
   "metadata": {},
   "outputs": [],
   "source": [
    "# FIXME: Find an equilibrium point and linearize the system into state space form"
   ]
  },
  {
   "cell_type": "markdown",
   "id": "1fdd56e4-9025-4c72-85e6-c1f6bafc615d",
   "metadata": {
    "jp-MarkdownHeadingCollapsed": true
   },
   "source": [
    "## FIXME: Gain Selection and Controller Design"
   ]
  },
  {
   "cell_type": "code",
   "execution_count": null,
   "id": "1cdc05c4-68b2-454a-b4b1-95e5126ce33b",
   "metadata": {},
   "outputs": [],
   "source": [
    "# FIXME: Select a set of control and observer gains. Ensure the resultant system is stable. Implement your controller below."
   ]
  },
  {
   "cell_type": "code",
   "execution_count": null,
   "id": "6edbadb8-4d14-4a26-8a40-d9ea0bafb9d8",
   "metadata": {},
   "outputs": [],
   "source": [
    "# Create the Controller class\n",
    "class Controller():\n",
    "    def __init__(self):\n",
    "        \"\"\"\n",
    "        Initializes the controller. You should initialize any member variables that\n",
    "        the controller will use to their starting values. This function is called\n",
    "        when a new instance of the Controller class is created.\n",
    "    \n",
    "        Parameters\n",
    "        ----------\n",
    "        None.\n",
    "    \n",
    "        Returns\n",
    "        -------\n",
    "        None.\n",
    "        \"\"\"\n",
    "        # FIXME: Replace the following code with your initialization function\n",
    "        pass\n",
    "    \n",
    "    def reset(self):\n",
    "        \"\"\"\n",
    "        Resets the controller to an initial state. You should reset any variables\n",
    "        that track states, times, etc. in this function. This function will be \n",
    "        called just before the simulation starts running and any time the simulation\n",
    "        is reset.\n",
    "    \n",
    "        Parameters\n",
    "        ----------\n",
    "        None.\n",
    "    \n",
    "        Returns\n",
    "        -------\n",
    "        None.\n",
    "        \"\"\"\n",
    "        # FIXME: Replace the following code with your reset function\n",
    "        pass\n",
    "\n",
    "    \n",
    "    def run(self, **kwargs):\n",
    "        \"\"\"\n",
    "        Runs the controller. Data is passed from the simulation environment to the\n",
    "        controller via kwargs, the controller calculates the inputs to the system,\n",
    "        and then returns them via a return statement\n",
    "    \n",
    "        Parameters\n",
    "        ----------\n",
    "        **kwargs : Dictionary\n",
    "            A dictionary of data passed from the simulation environment to the \n",
    "            controller. Specific data is extracted from kwargs via the statement:\n",
    "            kwargs[\"KEYWORD\"], where \"KEYWORD\" is a key to the dictionary. The keys\n",
    "            of kwargs for this project are as follows:\n",
    "\n",
    "            kwargs[\"frame_angle\"] : Float\n",
    "                The current angle of the frame in radians (theta)\n",
    "\n",
    "            kwargs[\"gimbal_angle\"] : Float\n",
    "                The current target angle of the gimbal in radians (phi)\n",
    "\n",
    "            kwargs[\"frame_velocity\"] : Float\n",
    "                The current angular velocity of the frame in radians/second\n",
    "\n",
    "            kwargs[\"gimbal_velocity\"] : Float\n",
    "                The current angular velocity of the gimbal in radians/second\n",
    "\n",
    "            kwargs[\"rotor_velocity\"] : Float\n",
    "                The current angular velocity of the rotor in radians/second\n",
    "\n",
    "            kwargs[\"time\"] : Float\n",
    "                The current simulation time in seconds\n",
    "            \n",
    "    \n",
    "        Returns\n",
    "        -------\n",
    "        inputs : List with length equal to the number of inputs\n",
    "            This is a list of the inputs calculated by the controller. In this\n",
    "            project, there is only one input, the torque to be applied to the \n",
    "            gimbal. Even though there is only one input in this project,\n",
    "            it still must be placed in a list of length one.\n",
    "        \n",
    "        \"\"\"\n",
    "        # FIXME: Replace the following manual controller with your own controller\n",
    "\n",
    "        # Set the torque to 0\n",
    "        torque = 0.0\n",
    "\n",
    "        # Adjust the torque based on the keyboard inputs\n",
    "        if kwargs[\"sd\"]:\n",
    "            torque = torque + 0.5\n",
    "        if kwargs[\"sa\"]:\n",
    "            torque = torque - 0.5\n",
    "        if kwargs[\"d\"]:\n",
    "            torque = torque + 0.125\n",
    "        if kwargs[\"a\"]:\n",
    "            torque = torque - 0.125\n",
    "        \n",
    "        # Return the manually set torque\n",
    "        inputs = [torque]\n",
    "        return inputs"
   ]
  },
  {
   "cell_type": "code",
   "execution_count": null,
   "id": "cad55a09-a7f1-447c-9ce9-63a4c30c04d0",
   "metadata": {},
   "outputs": [],
   "source": [
    "# Create an instance of our Controller class\n",
    "controller = Controller()"
   ]
  },
  {
   "cell_type": "markdown",
   "id": "07745bc4-061f-4cec-9f00-04f0233a10f5",
   "metadata": {
    "jp-MarkdownHeadingCollapsed": true
   },
   "source": [
    "## Running the simulation"
   ]
  },
  {
   "cell_type": "markdown",
   "id": "bddd7571-508b-470c-98f9-ac9ca7d9f4b9",
   "metadata": {},
   "source": [
    "Before we run the simulation, we must first import the simulation module and then create an instance of the simulator. This is done below:"
   ]
  },
  {
   "cell_type": "code",
   "execution_count": null,
   "id": "8c605231-7331-4390-b253-b22b9c205fce",
   "metadata": {},
   "outputs": [],
   "source": [
    "# Import the cmg project. This module is used to simulate, render, and plot the dynamic system\n",
    "import ae353_cmg"
   ]
  },
  {
   "cell_type": "markdown",
   "id": "87e40ea1-a91d-4e3b-ac61-0f352a4c7ba4",
   "metadata": {},
   "source": [
    "There are three main parameters to the ae353_cmg class initialization function:\n",
    "#### Parameters\n",
    "\n",
    "> **use_keyboard** : *bool, optional*  \n",
    "> A boolean flag that indicates whether the simulation will allow the use of keyboard interactivity. The default is True.\n",
    "> \n",
    "> **visualization** : *bool, optional*  \n",
    "> A boolean flag that indicates whether the simulation will be  visualized in meshcat. The default is True.\n",
    "> \n",
    "> **animation** : *bool, optional*  \n",
    "> A boolean flag that indicates whether animated plots are created in real time. The default is True."
   ]
  },
  {
   "cell_type": "code",
   "execution_count": null,
   "id": "00f52642-97ac-43ca-957d-4102c79cba87",
   "metadata": {},
   "outputs": [],
   "source": [
    "# Create an instance of the cart simulator\n",
    "sim = ae353_cmg.CMG_sim(use_keyboard=True,\n",
    "                        animation=False,\n",
    "                        visualization=True)"
   ]
  },
  {
   "cell_type": "markdown",
   "id": "c3ee3eea-1f34-4d95-91fd-f1c981508461",
   "metadata": {},
   "source": [
    "Now we are ready to run the simulation and collect data. To do this we call the ``sim.run()`` function. This function takes an instance of the ``Controller`` class as an argument and returns ``data``. The parameters and return values of ``sim.run()`` are shown below.\n",
    "\n",
    "#### Parameters\n",
    "\n",
    "> **controller** : *member of Controller class*  \n",
    "> Your controller that will generated inputs to the system.\n",
    "> \n",
    "> **max_time** : *Float or None, optional*  \n",
    "> The total amount of time the simulation is allowed to run. If set to None, the simulation will run until \"ESC\" is pressed on the keyboard. If the keyboard is disabled (Mac users), and max_time is set to None, the simulation will automatically terminate after 10 seconds of simulated time. The default value is None.\n",
    "> \n",
    "> **initial_frame_angle** : *Float, optional*  \n",
    "> The initial angle of the frame in radians. This is set when the simulation starts and when the simulation is reset. The default value is 0.0.\n",
    "> \n",
    "> **initial_gimbal_angle** : *Float, optional*  \n",
    "> The initial angle of the gimbal in radians. This is set when the simulation starts and when the simulation is reset. The default value is 0.0.\n",
    "> \n",
    "> **initial_frame_velocity** : *Float, optional*  \n",
    "> The initial velocity of the frame in radians/second. This is set when the simulation starts and when the simulation is reset. The default value is 0.0.\n",
    "> \n",
    "> **initial_gimbal_velocity** : *Float, optional*  \n",
    "> The initial velocity of the gimbal in radians/second. This is set when the simulation starts and when the simulation is reset. The default value is 0.0.\n",
    ">\n",
    "> **rotor_velocity** : *Float, optional*  \n",
    "> The fixed velocity of the rotor. Remember, if this is changed, the dynamics will also be changed. Make sure to update your controller accordingly! The default value is 100.0.\n",
    ">\n",
    "> **frame_damping** : *Float, optional*\n",
    "> The damping applied to the frame axle. If set to 0, no energy is lost. Anything greater than 0 results in energy loss while the frame is moving. The default value is 0.1.\n",
    "\n",
    "#### Returns\n",
    "\n",
    "> **data** : *Dictionary of Lists*  \n",
    "> A dictionary containing all relevant data generated during the simulation. Specific data is extracted via the statement: data[\"KEYWORD\"], where \"KEYWORD\" is a key to the dictionary. The keys of data for this project are as follows:\n",
    "> \n",
    "> **data[\"frame_angle\"]** : *List of Floats*  \n",
    "> A list of the frame angle in radians at each time stamp during the simulation.\n",
    "> \n",
    "> **data[\"gimbal_angle\"]** : *List of Floats*  \n",
    "> A list of the gimbal angle in radians at each time stamp during the simulation.\n",
    "> \n",
    "> **data[\"frame_velocity\"]** : *List of Floats*  \n",
    "> A list of the frame velocity in radians/secondat each time stamp during the simulation.\n",
    "> \n",
    "> **data[\"gimbal_velocity\"]** : *List of Floats*  \n",
    "> A list of the gimbal velocity in radians/second at each time stamp during the simulation.\n",
    ">\n",
    "> **data[\"rotor_velocity\"]** : *List of Floats*  \n",
    "> A list of the rotor velocity in radians/secondat each time stamp during the simulation.\n",
    "> \n",
    "> **data[\"torque\"]** : *List of Floats*  \n",
    "> A list of the applied torque in Newton-meters at each time stamp during the simulation.\n",
    "> \n",
    "> **data[\"time\"]** : *List of Floats*  \n",
    "> A list of the time stamps in seconds."
   ]
  },
  {
   "cell_type": "markdown",
   "id": "738da352-14fa-4ba8-aa3f-bf1ab26ea392",
   "metadata": {},
   "source": [
    "If enabled you can use the keyboard to interact with the simulation:  \n",
    "* press **ENTER** to start the simulation\n",
    "* press **BACKSPACE** to reset the simulation\n",
    "* press **SPACE** to pause the simulation\n",
    "* press **ESC** to end the simulation\n",
    "\n",
    "If the manual controller is being used:\n",
    "* press **a** to apply small negative torque to the gimbal\n",
    "* press **SHIFT+a** to apply large negative torque to the gimbal\n",
    "* press **d** to apply small positive torque to the gimbal\n",
    "* press **SHIFT+d** to apply large positive torque to the gimbal "
   ]
  },
  {
   "cell_type": "code",
   "execution_count": null,
   "id": "ecb140d3-bc3a-472b-a0f7-466f7599d92a",
   "metadata": {},
   "outputs": [],
   "source": [
    "# Run the simulation and collect the simulation data\n",
    "data = sim.run(controller,\n",
    "               max_time = None,\n",
    "               initial_frame_angle = 0.0,\n",
    "               initial_gimbal_angle = 0.0,\n",
    "               initial_frame_velocity = 0.0,\n",
    "               initial_gimbal_velocity = 0.0,\n",
    "               rotor_velocity = 100.,\n",
    "               frame_damping = 0.1)"
   ]
  },
  {
   "cell_type": "markdown",
   "id": "0bd45d6e-4fa1-4088-8263-f197ad953584",
   "metadata": {
    "jp-MarkdownHeadingCollapsed": true
   },
   "source": [
    "## FIXME: Post-processing the simulation data"
   ]
  },
  {
   "cell_type": "markdown",
   "id": "7041aa72-e632-4ac8-8d38-81621af6effe",
   "metadata": {},
   "source": [
    "After the simulation is run, we can plot the data using the Matplotlib package. To start, we import matplotlib and numpy."
   ]
  },
  {
   "cell_type": "code",
   "execution_count": null,
   "id": "fc40d3d1-f430-47f3-8fb0-3f11d32ecb1f",
   "metadata": {},
   "outputs": [],
   "source": [
    "# Import the pyplot module from the matplotlib package\n",
    "import matplotlib.pyplot as plt\n",
    "\n",
    "# Import numpy\n",
    "import numpy as np"
   ]
  },
  {
   "cell_type": "markdown",
   "id": "0d106a42-eb3d-4022-abfc-e0325523e3b5",
   "metadata": {},
   "source": [
    "Now we can make whichever plots we see fit to make sense of the simulation data. Here we plot the gimbal angle versus time as well as the applied torque versus time.\n",
    "\n",
    "**THIS IS LEFT INTENTIONALLY AS INSUFFICIENT TO PROVE YOUR CONTROLLER CAN CONTROL THE CMG.**"
   ]
  },
  {
   "cell_type": "code",
   "execution_count": null,
   "id": "b5eefec6-0aad-4e7a-ad60-7e0430923e94",
   "metadata": {},
   "outputs": [],
   "source": [
    "# Create a figure that has two plots in it\n",
    "fig, axes = plt.subplots(2, 1, figsize=(7.2, 5.4), sharex=True)\n",
    "\n",
    "# Create a plot of the gimbal angle versus time on the first plot\n",
    "axes[0].plot(data['time'], data['gimbal_angle'], label=\"Gimbal\", c='r', lw=2.5)\n",
    "axes[0].set_ylabel(\"Angle [rad]\", fontsize=12)\n",
    "axes[0].tick_params(axis='y', labelsize=12)\n",
    "axes[0].legend(fontsize=12, shadow=True)\n",
    "axes[0].set_title(\"Gimbal vs. Time\", fontsize=14)\n",
    "axes[0].grid()\n",
    "\n",
    "# Create a plot of the torque versus time on the second plot\n",
    "axes[1].plot(data['time'], data['torque'], label=\"Torque\", c='b', lw=2.5)\n",
    "axes[1].set_xlabel(\"Time [s]\", fontsize=12)\n",
    "axes[1].set_ylabel(\"Torque [Nm]\", fontsize=12)\n",
    "axes[1].tick_params(axis='y', labelsize=12)\n",
    "axes[1].set_title(\"Torque vs. Time\", fontsize=14)\n",
    "axes[1].grid()\n",
    "\n",
    "# Show the figure\n",
    "fig.tight_layout(pad=2.0)\n",
    "plt.show()"
   ]
  }
 ],
 "metadata": {
  "kernelspec": {
   "display_name": "Python 3 (ipykernel)",
   "language": "python",
   "name": "python3"
  },
  "language_info": {
   "codemirror_mode": {
    "name": "ipython",
    "version": 3
   },
   "file_extension": ".py",
   "mimetype": "text/x-python",
   "name": "python",
   "nbconvert_exporter": "python",
   "pygments_lexer": "ipython3",
   "version": "3.11.7"
  }
 },
 "nbformat": 4,
 "nbformat_minor": 5
}
