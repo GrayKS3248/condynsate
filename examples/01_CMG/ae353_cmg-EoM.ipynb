{
 "cells": [
  {
   "cell_type": "markdown",
   "id": "2007dcef-1578-445a-8fd6-b583ef5ec03b",
   "metadata": {},
   "source": [
    "# System Dynamics and Equations of Motion"
   ]
  },
  {
   "cell_type": "markdown",
   "id": "767e1101-197f-42ef-9ebe-709765e2fbb7",
   "metadata": {},
   "source": [
    "The first step we will take will be to derive the equations of motion of the system. As usual, the first step in the Lagrangian mechanics approach is to calculate the total kinetic energy of the system and the total potential energy of the system with respect to the generalized coordinates and their derivatives. We can do this using the Python package Sympy."
   ]
  },
  {
   "cell_type": "code",
   "execution_count": null,
   "id": "aa2d7172-1ff1-4c1e-a298-e17ae56b5684",
   "metadata": {},
   "outputs": [],
   "source": [
    "# Import everything we need from SymPy\n",
    "import sympy as sym\n",
    "import numpy as np\n",
    "from sympy import Symbol, Matrix, Function, Derivative, N\n",
    "from sympy import diff, simplify, sin, cos, solve, init_printing, symbols\n",
    "init_printing() # This function will make the outputs of SymPy look prettier and be easier to read"
   ]
  },
  {
   "cell_type": "markdown",
   "id": "ec7ccd74-76d5-448b-8b70-eec019e3b0ba",
   "metadata": {},
   "source": [
    "Now we are going to define the parameters of the system as constants:"
   ]
  },
  {
   "cell_type": "code",
   "execution_count": null,
   "id": "b8201ac3-3d8c-4f81-a59e-d4fc348fcc34",
   "metadata": {},
   "outputs": [],
   "source": [
    "# Constants of the system\n",
    "mp = 0.5      # Mass of the sphere on the top of the frame\n",
    "ixx = 0.03    # Lateral mass moment of inertia of the gimbal\n",
    "izz = 0.04    # Longitudinal mass moment of inertia of the gimbal\n",
    "l = 1.5       # Distance from the center of the gimbal to the center of the sphere on top of the frame\n",
    "g = 9.81      # Acceleration due to gravity\n",
    "rotor_velocity = 100.0 # Fixed angular rate of the gimbal in rad/sec"
   ]
  },
  {
   "cell_type": "markdown",
   "id": "470efed0-1aa0-46c6-97da-1382f24eaf07",
   "metadata": {},
   "source": [
    "Now we make symbols and functions. These are elements of SymPy and can be thought of as exactly the same as symbols (variables) and functions from math."
   ]
  },
  {
   "cell_type": "code",
   "execution_count": null,
   "id": "f2810d67-63d8-41d2-9522-912611ce0e47",
   "metadata": {},
   "outputs": [],
   "source": [
    "# Time is a symbol (variable)\n",
    "t = Symbol('t')\n",
    "\n",
    "# The generalized coordinates and the input torque are both functions of time.\n",
    "# This means that they are initialized as Functions.\n",
    "theta = Function('theta')\n",
    "phi = Function('phi')\n",
    "tau = Function('tau')"
   ]
  },
  {
   "cell_type": "markdown",
   "id": "b58ed89d-26f8-4d53-9806-972960ac4a6e",
   "metadata": {},
   "source": [
    "Now we will start to calculate the energies of the system. We can start by getting the kinetic energy of the mass on top of the frame. We can do this by:\n",
    "1. Defining its position in terms of the generalized coordinates\n",
    "2. Take the derivate of the position with respect to time to get the velocity\n",
    "3. Calculate the kinetic energy from the velocity\n",
    "4. Calculate the potential energy by observation"
   ]
  },
  {
   "cell_type": "code",
   "execution_count": null,
   "id": "29ffc7fa-2d67-4ecd-a0db-bcd149299d8f",
   "metadata": {},
   "outputs": [],
   "source": [
    "# Get the position of the mass\n",
    "pos = Matrix([-l*sin(theta(t)),\n",
    "              0.0,\n",
    "              l*cos(theta(t))])"
   ]
  },
  {
   "cell_type": "code",
   "execution_count": null,
   "id": "0c724ec9-0c2f-45a7-8cff-c8a5b73a41fc",
   "metadata": {},
   "outputs": [],
   "source": [
    "# Take the derivative of position with respect to time\n",
    "vel = diff(pos,t)"
   ]
  },
  {
   "cell_type": "code",
   "execution_count": null,
   "id": "98f3284e-cd2b-4119-bf61-c575bd295b3f",
   "metadata": {},
   "outputs": [],
   "source": [
    "# Get the kinetic energy of the mass from the velocity\n",
    "mass_KE = 0.5 * mp * (vel.T @ vel)[0,0]"
   ]
  },
  {
   "cell_type": "code",
   "execution_count": null,
   "id": "743653dd-b480-4f98-b5c0-7065a059779c",
   "metadata": {},
   "outputs": [],
   "source": [
    "# Get the potential energy of the mass based on its position\n",
    "mass_PE = mp*g*l*cos(theta(t))"
   ]
  },
  {
   "cell_type": "markdown",
   "id": "3baa1cda-9063-43ad-aae1-05ee527b4213",
   "metadata": {},
   "source": [
    "No other parts of the frame or gimbal cage have inertia or mass. This means the only other component that has energy is the gimbal itself. Because it's center of mass doesn't change altitude and is at the origin, the only energy it has is rotational energy. We will calculate that now."
   ]
  },
  {
   "cell_type": "code",
   "execution_count": null,
   "id": "6918cf38-ad1a-4d07-8659-f3fffd745b8b",
   "metadata": {},
   "outputs": [],
   "source": [
    "# The is the rotational rate of the gimbal\n",
    "gimbal_rate = Matrix([Derivative(phi(t), t),\n",
    "                      Derivative(theta(t), t)*cos(phi(t)),\n",
    "                      rotor_velocity - Derivative(theta(t), t)*sin(phi(t))])"
   ]
  },
  {
   "cell_type": "code",
   "execution_count": null,
   "id": "bad4f5ae-7513-44ee-8442-c5521e75e74c",
   "metadata": {},
   "outputs": [],
   "source": [
    "# This is the mass moment of inertia of the gimbal\n",
    "I = Matrix([[ixx, 0.0, 0.0],\n",
    "            [0.0, ixx, 0.0],\n",
    "            [0.0, 0.0, izz]])"
   ]
  },
  {
   "cell_type": "code",
   "execution_count": null,
   "id": "fab497a8-25c0-49c6-997f-22f267993467",
   "metadata": {},
   "outputs": [],
   "source": [
    "# Calculate the rotational energy of the gimbal\n",
    "gimbal_RE = (0.5 * (gimbal_rate.T @ I @ gimbal_rate))[0, 0]"
   ]
  },
  {
   "cell_type": "markdown",
   "id": "587cec0b-5558-4a86-9817-764e74d1af1c",
   "metadata": {},
   "source": [
    "Now we calculate the lagrangian of the system via the formula:$$L=T-V$$ where $T$ is the total kinetic energy and $V$ is the total potential energy."
   ]
  },
  {
   "cell_type": "code",
   "execution_count": null,
   "id": "3bd9ee9a-2aaf-4785-ae1c-eab9a199341e",
   "metadata": {},
   "outputs": [],
   "source": [
    "# Get the lagrangian\n",
    "L = (mass_KE + gimbal_RE) - mass_PE\n",
    "print(\"System Lagrangian:\")\n",
    "L = simplify(L)\n",
    "N(L, 3) # This rounds floating point number to 3 places and then prints to the screen"
   ]
  },
  {
   "cell_type": "markdown",
   "id": "03af18e3-e1ae-452d-93b4-ddfbec903d7c",
   "metadata": {},
   "source": [
    "Finally, we get the equations of motion of the system via the formulas:\n",
    "$$\\frac{d}{dt} \\left( \\frac{\\partial L}{\\partial \\dot{\\theta}} \\right) - \\frac{\\partial L}{\\partial \\theta}=0$$\n",
    "$$\\frac{d}{dt} \\left( \\frac{\\partial L}{\\partial \\dot{\\phi}} \\right) - \\frac{\\partial L}{\\partial \\phi}=\\tau$$"
   ]
  },
  {
   "cell_type": "code",
   "execution_count": null,
   "id": "af552909-12da-4039-b45c-05510279b2cd",
   "metadata": {},
   "outputs": [],
   "source": [
    "# Get the first equation of motion\n",
    "eq1 = diff(diff(L, Derivative(theta(t), t)), t) - diff(L, theta(t))"
   ]
  },
  {
   "cell_type": "code",
   "execution_count": null,
   "id": "1dd9f8d8-adfd-4676-b9cb-ab82784c5491",
   "metadata": {},
   "outputs": [],
   "source": [
    "# Get the second equation of motion\n",
    "eq2 = diff(diff(L, Derivative(phi(t), t)), t) - diff(L, phi(t)) - tau(t)"
   ]
  },
  {
   "cell_type": "markdown",
   "id": "c2b9bf8c-ec4a-4366-bb00-5d8409dbb083",
   "metadata": {},
   "source": [
    "This form of equations of motion is not very helpful to us right now, so next we will place them in standard form. A standard form system of ordinary differential equations satisfy the following requirements\n",
    "* All equations are exactly first order ordinary differential equations\n",
    "* Each equation only has exactly one time derivative variable in it\n",
    "* Each equation has the form $\\frac{d x}{dt} = f(x,y,z,...)$\n",
    "\n",
    "Because the equations of motion above are second order, we need to apply a trick to place them in standard form. Namely, we introduce new variables that increase the number of equations while reducing the order of each equation. For example, let's introduce two new variables, $\\omega_{\\theta}$ and $\\omega_{\\phi}$ that satisfy the standard form ordinary differential equations:\n",
    "$$\\frac{d \\theta}{dt} = \\omega_{\\theta}$$\n",
    "$$\\frac{d \\phi}{dt} = \\omega_{\\phi}$$\n",
    "Then, by taking the derivative of both sides, we see that\n",
    "$$\\frac{d^2 \\theta}{d t^2} = \\frac{d \\omega_{\\theta}}{dt}$$\n",
    "$$\\frac{d^2 \\phi}{d t^2} = \\frac{d \\omega_{\\phi}}{dt}$$\n",
    "Let's make this change of variables to our equations of motion right now."
   ]
  },
  {
   "cell_type": "code",
   "execution_count": null,
   "id": "d538a3c5-38b9-41d0-b398-418e4e4b76c0",
   "metadata": {},
   "outputs": [],
   "source": [
    "# Make the new functions for change of variables\n",
    "omega_theta = Function('omega_theta')\n",
    "omega_phi = Function('omega_phi')"
   ]
  },
  {
   "cell_type": "code",
   "execution_count": null,
   "id": "6e24fd85-7783-43e7-ade7-96753c307d32",
   "metadata": {},
   "outputs": [],
   "source": [
    "# Make the change of variables for equation 1\n",
    "eq1 = eq1.subs({Derivative(theta(t), (t, 2)) : Derivative(omega_theta(t), t), \n",
    "                Derivative(phi(t), (t, 2))   : Derivative(omega_phi(t), t),\n",
    "                Derivative(theta(t), t)      : omega_theta(t),\n",
    "                Derivative(phi(t), t)        : omega_phi(t)})"
   ]
  },
  {
   "cell_type": "code",
   "execution_count": null,
   "id": "850c4751-354a-4375-af1f-7feeef762f1b",
   "metadata": {},
   "outputs": [],
   "source": [
    "# Repeat for equation 2\n",
    "eq2 = eq2.subs({Derivative(theta(t), (t, 2)) : Derivative(omega_theta(t), t), \n",
    "                Derivative(phi(t), (t, 2))   : Derivative(omega_phi(t), t),\n",
    "                Derivative(theta(t), t)      : omega_theta(t),\n",
    "                Derivative(phi(t), t)        : omega_phi(t)})"
   ]
  },
  {
   "cell_type": "markdown",
   "id": "dee74704-8464-41f3-9dc6-8bb6551103da",
   "metadata": {},
   "source": [
    "The final step to place the equations in standard form is to ensure they have the form $\\frac{d x}{dt} = f(x,y,z,...)$. We do this now."
   ]
  },
  {
   "cell_type": "code",
   "execution_count": null,
   "id": "5195cbb2-6b53-4dfb-b745-8009b43740c4",
   "metadata": {},
   "outputs": [],
   "source": [
    "# Solve the equations for Derivative(omega_theta(t), t) and Derivative(omega_phi(t), t)\n",
    "soln = solve([eq1, eq2],\n",
    "              Derivative(omega_theta(t), t),\n",
    "              Derivative(omega_phi(t), t))"
   ]
  },
  {
   "cell_type": "markdown",
   "id": "0b23a772-51cd-4e87-a005-ebe8b746e333",
   "metadata": {},
   "source": [
    "We now have a system of ordinary differential equations in standard from. Specifically, we have:\n",
    "$$\\frac{d \\omega_{\\theta}}{dt} = f_{\\omega_{\\theta}}\\left( \\omega_{\\theta}, \\omega_{\\phi}, \\theta, \\phi, \\tau \\right)$$\n",
    "$$\\frac{d \\omega_{\\phi}}{dt} = f_{\\omega_{\\phi}}\\left( \\omega_{\\theta}, \\omega_{\\phi}, \\theta, \\phi, \\tau \\right)$$\n",
    "$$\\frac{d \\theta}{dt} = f_{\\theta}\\left( \\omega_{\\theta}, \\omega_{\\phi}, \\theta, \\phi, \\tau \\right)$$\n",
    "$$\\frac{d \\phi}{dt} = f_{\\phi}\\left( \\omega_{\\theta}, \\omega_{\\phi}, \\theta, \\phi, \\tau \\right)$$"
   ]
  },
  {
   "cell_type": "markdown",
   "id": "11ed19b3-65ad-45ae-a895-e3ee0cf2855b",
   "metadata": {},
   "source": [
    "Let's now combine the right hand side of this system into a single vector."
   ]
  },
  {
   "cell_type": "code",
   "execution_count": null,
   "id": "516ad47b-2a41-4faf-a618-ff3457072119",
   "metadata": {},
   "outputs": [],
   "source": [
    "# Build the equations of motion vector\n",
    "f = Matrix([soln[Derivative(omega_theta(t), t)],\n",
    "            soln[Derivative(omega_phi(t), t)],\n",
    "            omega_theta(t),\n",
    "            omega_phi(t)])\n",
    "\n",
    "# Replace the functions of time with symbols\n",
    "(v1, v2, v3, v4, v5) = symbols('v1, v2, v3, v4, v5')\n",
    "f = f.subs({omega_theta(t) : v1,\n",
    "            omega_phi(t) : v2,\n",
    "            theta(t) : v3,\n",
    "            phi(t) : v4,\n",
    "            tau(t) : v5})\n",
    "(omega_theta, omega_phi, theta, phi, tau) = symbols('omega_theta, omega_phi, theta, phi, tau')\n",
    "f = f.subs({v1 : omega_theta,\n",
    "            v2 : omega_phi,\n",
    "            v3 : theta,\n",
    "            v4 : phi,\n",
    "            v5 : tau})\n",
    "\n",
    "# Simplify\n",
    "f = simplify(f)"
   ]
  },
  {
   "cell_type": "markdown",
   "id": "6f2261c7-ea35-4995-a2fe-2a1b669efb59",
   "metadata": {},
   "source": [
    "$f$ is our system model such that\n",
    "$$\n",
    "\\begin{bmatrix}\n",
    "\\dot{\\omega}_{\\theta} \\\\\n",
    "\\dot{\\omega}_{\\phi} \\\\\n",
    "\\dot{\\theta} \\\\\n",
    "\\dot{\\phi} \\\\\n",
    "\\end{bmatrix} = f(\\omega_{\\theta}, \\omega_{\\phi}, \\theta, \\phi, \\tau)\n",
    "$$"
   ]
  },
  {
   "cell_type": "code",
   "execution_count": null,
   "id": "ee7b1ff2-088e-4341-873f-4e2fee104370",
   "metadata": {},
   "outputs": [],
   "source": [
    "N(f, 3)  # This rounds floating point number to 3 places and then prints to the screen"
   ]
  }
 ],
 "metadata": {
  "kernelspec": {
   "display_name": "Python 3 (ipykernel)",
   "language": "python",
   "name": "python3"
  },
  "language_info": {
   "codemirror_mode": {
    "name": "ipython",
    "version": 3
   },
   "file_extension": ".py",
   "mimetype": "text/x-python",
   "name": "python",
   "nbconvert_exporter": "python",
   "pygments_lexer": "ipython3",
   "version": "3.11.7"
  }
 },
 "nbformat": 4,
 "nbformat_minor": 5
}
