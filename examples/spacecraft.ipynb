{
 "cells": [
  {
   "cell_type": "code",
   "execution_count": 1,
   "id": "74a601f0",
   "metadata": {},
   "outputs": [],
   "source": [
    "# Import packages\n",
    "import numpy as np\n",
    "import condynsate"
   ]
  },
  {
   "cell_type": "code",
   "execution_count": 2,
   "id": "70862558",
   "metadata": {},
   "outputs": [
    {
     "name": "stdout",
     "output_type": "stream",
     "text": [
      "You can open the visualizer by visiting the following URL:\n",
      "http://127.0.0.1:7004/static/\n"
     ]
    }
   ],
   "source": [
    "# Create an instance of the simulator with visualization\n",
    "sim = condynsate.Simulator(visualization=True,\n",
    "                           animation=True,\n",
    "                           animation_fr=15.,\n",
    "                           gravity=[0., 0., 0.])"
   ]
  },
  {
   "cell_type": "code",
   "execution_count": 3,
   "id": "89a9aff8",
   "metadata": {},
   "outputs": [],
   "source": [
    "# Set background and lighting properties\n",
    "sim.set_background(top_color=[10,10,10],\n",
    "                   bot_color=[20, 20, 40])\n",
    "sim.set_spotlight(on=False)\n",
    "sim.set_fill_light(on=False)\n",
    "sim.set_posx_pt_light(on=True,\n",
    "                      intensity=0.5,\n",
    "                      distance=10.)\n",
    "sim.set_negx_pt_light(on=True,\n",
    "                      intensity=0.5,\n",
    "                      distance=10.)\n",
    "sim.set_ambient_light(on=True,\n",
    "                      intensity=0.65)"
   ]
  },
  {
   "cell_type": "code",
   "execution_count": 4,
   "id": "e093eec2",
   "metadata": {},
   "outputs": [],
   "source": [
    "# Define the depth and equitorial coordinates of a constellation \n",
    "depth = 55.\n",
    "const_eqi_coords = np.array([[-0.06, -0.09],\n",
    "                             [ 0.00, -0.09],\n",
    "                             [ 0.06, -0.09],\n",
    "                             [ 0.00, -0.03],\n",
    "                             [ 0.00,  0.03],\n",
    "                             [-0.06,  0.09],\n",
    "                             [ 0.00,  0.09],\n",
    "                             [ 0.06,  0.09]])\n",
    "\n",
    "# Generate star cartesian coordinates based on their depth and\n",
    "# equatorial astronomical coords (right ascension, declination)\n",
    "const_cart_coords = []\n",
    "for coord in const_eqi_coords:\n",
    "    s_a = np.sin(coord[0])\n",
    "    c_a = np.cos(coord[0])\n",
    "    s_d = np.sin(coord[1])\n",
    "    c_d = np.cos(coord[1])\n",
    "    cart_coord = np.array([c_a*c_d, s_a*c_d, s_d]) * depth\n",
    "    const_cart_coords.append(cart_coord)"
   ]
  },
  {
   "cell_type": "code",
   "execution_count": 5,
   "id": "1a8564e4",
   "metadata": {},
   "outputs": [],
   "source": [
    "# Define the cartesian coordinates for random stars\n",
    "np.random.seed(10)\n",
    "n_stars = 50\n",
    "rand_depths = depth + (np.random.rand(n_stars)*0.2-0.1)*depth\n",
    "rand_cart_coords = np.random.randn(n_stars,3)\n",
    "rand_cart_coords = rand_cart_coords / np.linalg.norm(rand_cart_coords,axis=1).reshape(n_stars,1)\n",
    "rand_cart_coords = rand_cart_coords * rand_depths.reshape(n_stars,1)"
   ]
  },
  {
   "cell_type": "code",
   "execution_count": 6,
   "id": "831a9c86",
   "metadata": {},
   "outputs": [],
   "source": [
    "# Load the spacecraft\n",
    "craft_obj = sim.load_urdf(urdf_path='./spacecraft_vis/spacecraft.urdf',\n",
    "                          fixed=False,\n",
    "                          update_vis=True)"
   ]
  },
  {
   "cell_type": "code",
   "execution_count": 7,
   "id": "6aaefa74",
   "metadata": {},
   "outputs": [],
   "source": [
    "# Load the constellation\n",
    "for position in const_cart_coords:\n",
    "    sim.load_urdf(urdf_path='./spacecraft_vis/sphere.urdf',\n",
    "                  position=position,\n",
    "                  fixed=True,\n",
    "                  update_vis=False)"
   ]
  },
  {
   "cell_type": "code",
   "execution_count": 8,
   "id": "1d47527b",
   "metadata": {},
   "outputs": [],
   "source": [
    "for position in rand_cart_coords:\n",
    "    sim.load_urdf(urdf_path='./spacecraft_vis/sphere.urdf',\n",
    "                  position=position,\n",
    "                  fixed=True,\n",
    "                  update_vis=False)"
   ]
  },
  {
   "cell_type": "code",
   "execution_count": 9,
   "id": "766bb33c",
   "metadata": {},
   "outputs": [],
   "source": [
    "# Variables to track applied torque\n",
    "max_torque = 1.\n",
    "min_torque = -1.\n",
    "    \n",
    "# Keyboard IO to control torque\n",
    "def get_torque_setting(min_torque, max_torque):\n",
    "        torque_1 = 0.0\n",
    "        torque_2 = 0.0\n",
    "        torque_3 = 0.0\n",
    "        torque_4 = 0.0\n",
    "        \n",
    "        if sim.is_pressed(\"a\"):\n",
    "            torque_1 = min_torque\n",
    "        elif sim.is_pressed(\"q\"):\n",
    "            torque_1 = max_torque\n",
    "        \n",
    "        if sim.is_pressed(\"s\"):\n",
    "            torque_2 = min_torque\n",
    "        elif sim.is_pressed(\"w\"):\n",
    "            torque_2 = max_torque\n",
    "\n",
    "        if sim.is_pressed(\"d\"):\n",
    "            torque_3 = min_torque\n",
    "        elif sim.is_pressed(\"e\"):\n",
    "            torque_3 = max_torque\n",
    "\n",
    "        if sim.is_pressed(\"f\"):\n",
    "            torque_4 = min_torque\n",
    "        elif sim.is_pressed(\"r\"):\n",
    "            torque_4 = max_torque\n",
    "\n",
    "        return torque_1, torque_2, torque_3, torque_4"
   ]
  },
  {
   "cell_type": "code",
   "execution_count": 10,
   "id": "34839ac2",
   "metadata": {},
   "outputs": [],
   "source": [
    "# Add the desired plots to the animator\n",
    "plot,lines = sim.add_subplot(n_lines=3,\n",
    "                             title=\"Angles vs Time\",\n",
    "                             x_label=\"Time [s]\",\n",
    "                             y_label=\"Angle [Rad]\",\n",
    "                             colors=['r', 'g', 'b'],\n",
    "                             line_widths=[2.5, 2.5, 2.5],\n",
    "                             labels=['Roll','Pitch','Yaw'],\n",
    "                             y_lim=[-np.pi,np.pi])"
   ]
  },
  {
   "cell_type": "code",
   "execution_count": 11,
   "id": "4e2ac831",
   "metadata": {},
   "outputs": [],
   "source": [
    "# Open the animator GUI\n",
    "sim.open_animator_gui()"
   ]
  },
  {
   "cell_type": "code",
   "execution_count": 12,
   "id": "86a9abbc",
   "metadata": {},
   "outputs": [
    {
     "name": "stdout",
     "output_type": "stream",
     "text": [
      "Termination command detected. Terminating keyboard listener. Goodbye\n"
     ]
    }
   ],
   "source": [
    "# Main simulation loop\n",
    "while not sim.is_done: \n",
    "    # Get the torques \n",
    "    t1, t2, t3, t4 = get_torque_setting(min_torque, max_torque)\n",
    "\n",
    "    # Set wheel torques\n",
    "    sim.set_joint_torque(urdf_obj=craft_obj,\n",
    "                        joint_name='bus_to_wheel_1',\n",
    "                        torque=t1,\n",
    "                        show_arrow=True,\n",
    "                        arrow_scale=2.)\n",
    "    sim.set_joint_torque(urdf_obj=craft_obj,\n",
    "                        joint_name='bus_to_wheel_2',\n",
    "                        torque=t2,\n",
    "                        show_arrow=True,\n",
    "                        arrow_scale=2.)\n",
    "    sim.set_joint_torque(urdf_obj=craft_obj,\n",
    "                        joint_name='bus_to_wheel_3',\n",
    "                        torque=t3,\n",
    "                        show_arrow=True,\n",
    "                        arrow_scale=2.)\n",
    "    sim.set_joint_torque(urdf_obj=craft_obj,\n",
    "                        joint_name='bus_to_wheel_4',\n",
    "                        torque=t4,\n",
    "                        show_arrow=True,\n",
    "                        arrow_scale=2.)\n",
    "\n",
    "    # Set the plot data\n",
    "    state = sim.get_base_state(urdf_obj=craft_obj,\n",
    "                                   body_coords=True)\n",
    "    roll = state['roll']\n",
    "    pitch = state['pitch']\n",
    "    yaw = state['yaw']\n",
    "    sim.add_subplot_point(subplot_index=plot,\n",
    "                          line_index=lines[0],\n",
    "                          x=sim.time,\n",
    "                          y=roll)\n",
    "    sim.add_subplot_point(subplot_index=plot,\n",
    "                          line_index=lines[1],\n",
    "                          x=sim.time,\n",
    "                          y=pitch)\n",
    "    sim.add_subplot_point(subplot_index=plot,\n",
    "                          line_index=lines[2],\n",
    "                          x=sim.time,\n",
    "                          y=yaw)\n",
    "\n",
    "    # Step the sim\n",
    "    sim.step(real_time=True,\n",
    "             update_vis=True,\n",
    "             update_ani=True)\n",
    "    "
   ]
  },
  {
   "cell_type": "code",
   "execution_count": null,
   "id": "c4d7d3d8",
   "metadata": {},
   "outputs": [],
   "source": []
  }
 ],
 "metadata": {
  "kernelspec": {
   "display_name": "Python 3 (ipykernel)",
   "language": "python",
   "name": "python3"
  },
  "language_info": {
   "codemirror_mode": {
    "name": "ipython",
    "version": 3
   },
   "file_extension": ".py",
   "mimetype": "text/x-python",
   "name": "python",
   "nbconvert_exporter": "python",
   "pygments_lexer": "ipython3",
   "version": "3.11.5"
  }
 },
 "nbformat": 4,
 "nbformat_minor": 5
}
