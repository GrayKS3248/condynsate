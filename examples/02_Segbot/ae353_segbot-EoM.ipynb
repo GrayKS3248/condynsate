{
 "cells": [
  {
   "cell_type": "markdown",
   "id": "b21a9e1c-cfb7-4833-9b1b-479868e29b2b",
   "metadata": {},
   "source": [
    "# System Dynamics and Equations of Motion"
   ]
  },
  {
   "cell_type": "markdown",
   "id": "d32ac566-ba30-4999-9b8a-5253ce51aad9",
   "metadata": {},
   "source": [
    "The first step we will take will be to derive the equations of motion of the system. We  will do this using the approach given in [Tuttle, 2014](https://docs.lib.purdue.edu/cgi/viewcontent.cgi?article=1415&context=open_access_theses). We can do this using the Python package Sympy."
   ]
  },
  {
   "cell_type": "code",
   "execution_count": null,
   "id": "21aacb7c-a9cb-403a-a8da-628e306e104a",
   "metadata": {},
   "outputs": [],
   "source": [
    "# Import everything we need from SymPy\n",
    "import sympy as sym\n",
    "import numpy as np\n",
    "from sympy import Symbol, Matrix\n",
    "from sympy import N as N_sympy\n",
    "from sympy import simplify, sin, cos, init_printing\n",
    "init_printing() # This function will make the outputs of SymPy look prettier and be easier to read"
   ]
  },
  {
   "cell_type": "markdown",
   "id": "ae9cc771-4293-48fa-a8b5-9e8a843c2605",
   "metadata": {},
   "source": [
    "Now we are going to define the parameters of the system as constants:"
   ]
  },
  {
   "cell_type": "code",
   "execution_count": null,
   "id": "720498d7-f3dc-4de0-a935-eacfbc1e2f94",
   "metadata": {},
   "outputs": [],
   "source": [
    "# Constants of the system\n",
    "m_c = 12.0    # Mass of the chassis in kg\n",
    "ixx_c = 1.0   # Roll mass moment of ineria of the chassis\n",
    "iyy_c = 0.8   # Pitch mass moment of interia of the chassis\n",
    "izz_c = 0.52  # Yaw mass moment of interia of the chassis\n",
    "\n",
    "m_w = 1.2       # Mass of either wheel in kg\n",
    "iaa_w = 0.0634  # Axial mass moment of interia of the wheels\n",
    "itt_w = 0.0327  # Transverse mass moment of interia of the wheels\n",
    "r_w = 0.325     # Radius of either wheel in meters\n",
    "\n",
    "m = m_c + 2*m_w        # The total mass of the system\n",
    "ixx = ixx_c + 2*itt_w  # The total roll mass moment of inertia of the system\n",
    "iyy = iyy_c            # The total pitch mass moment of inertia of the system\n",
    "izz = izz_c + 2*itt_w  # The total yaw mass moment of inertia of the system\n",
    "\n",
    "h = 0.2   # Distance from the CoM of the chassis to wheel axle in meters\n",
    "a = 0.35  # Half the distance between the wheels in meters\n",
    "\n",
    "r_station = 20.0  # The radius of the station in meters\n",
    "v_station = -0.1  # The angular velocity of the station in rad/second"
   ]
  },
  {
   "cell_type": "markdown",
   "id": "0bfab154-2c6a-482e-a672-c9b8b24d2a14",
   "metadata": {},
   "source": [
    "Now we make symbols and functions. These are elements of SymPy and can be thought of as exactly the same as symbols (variables) and functions from math."
   ]
  },
  {
   "cell_type": "code",
   "execution_count": null,
   "id": "11fafd2c-0636-439a-b4d2-4ec18de80740",
   "metadata": {},
   "outputs": [],
   "source": [
    "# Create the system's generalized coordinates \n",
    "e_lat = Symbol('e_lat')          # The lateral error of the segbot. Positive is to the left of the target position.\n",
    "phi = Symbol('phi')              # The yaw of the chassis of the segbot relative to the station. Positive is facing left.\n",
    "phidot = Symbol('phidot')        # The yawing velocity of the segbot relative to the station. Positive is turning left.\n",
    "v = Symbol('v')                  # The forward velocity of the segbot. Positive is moving forward.\n",
    "theta = Symbol('theta')          # The pitch of the chassis of the segbot. Positive is tipped forwards.\n",
    "thetadot = Symbol('thetadot')    # The pitching velocity of the segbot. Positive is tipping forward.\n",
    "tau_l = Symbol('tau_l')          # The torque applied to the left wheel of the segbot. Positive moves the segbot forward.\n",
    "tau_r = Symbol('tau_r')          # The torque applied to the right wheel of the segbot. Positive moves the segbot forward.\n"
   ]
  },
  {
   "cell_type": "markdown",
   "id": "ea0813bf-c33a-4db7-aa92-1a3e95e57efc",
   "metadata": {},
   "source": [
    "Now we apply the method given in [Tuttle, 2014](https://docs.lib.purdue.edu/cgi/viewcontent.cgi?article=1415&context=open_access_theses)."
   ]
  },
  {
   "cell_type": "code",
   "execution_count": null,
   "id": "0fc399fe-2469-451b-af53-108a74189c1c",
   "metadata": {},
   "outputs": [],
   "source": [
    "M = Matrix([[m + 2 * iaa_w / r_w**2, 0, m_c * h * cos(theta)],\n",
    "            [0, (ixx + m_c * h**2) * sin(theta)**2 + izz * cos(theta)**2 + (2 * iaa_w * a**2 / r_w**2) + 2 * m_w * a**2, 0],\n",
    "            [m_c * h * cos(theta), 0, iyy * m_c * h**2]])\n",
    "N = Matrix([[m_c * h * (phidot**2 + thetadot**2) * sin(theta)],\n",
    "            [-2 * (ixx - izz + m * h**2) * cos(theta) * sin(theta) * phidot * thetadot - m_c * h * sin(theta) * v * phidot],\n",
    "            [(ixx - izz + m_c * h**2) * cos(theta) * sin(theta) * phidot**2 + m_c * 9.81 * h * sin(theta)]])\n",
    "R = Matrix([[1 / r_w, 1 / r_w],\n",
    "            [-a / r_w, a / r_w],\n",
    "            [-1, -1]])\n",
    "f_partial = simplify(M.inv() * (N + R * Matrix([[tau_l], [tau_r]])))\n",
    "f = Matrix([[v * sin(phi)],\n",
    "            [f_partial]])\n",
    "f = simplify(f)"
   ]
  },
  {
   "cell_type": "markdown",
   "id": "ed211041-bcf6-4726-88f6-05c11b24515b",
   "metadata": {},
   "source": [
    "$f$ is our system model such that\n",
    "$$\n",
    "\\begin{bmatrix}\n",
    "\\dot{e_{lat}} \\\\\n",
    "\\dot{v} \\\\\n",
    "\\ddot{\\phi} \\\\\n",
    "\\ddot{\\theta}\n",
    "\\end{bmatrix} = f(e_{lat}, v, \\phi, \\dot{\\phi}, \\theta, \\dot{\\theta}, \\tau_l, \\tau_r)\n",
    "$$"
   ]
  },
  {
   "cell_type": "code",
   "execution_count": null,
   "id": "523b672a-caad-46b8-a9f3-5835617178d1",
   "metadata": {},
   "outputs": [],
   "source": [
    "N_sympy(f, 3)  # This rounds floating point number to 3 places and then prints to the screen"
   ]
  },
  {
   "cell_type": "markdown",
   "id": "b625edfb-61c7-4d97-b842-abc55e5109b9",
   "metadata": {},
   "source": [
    "Note that this system of equations is not in standard form — you will have to do this, as usual."
   ]
  }
 ],
 "metadata": {
  "kernelspec": {
   "display_name": "Python 3 (ipykernel)",
   "language": "python",
   "name": "python3"
  },
  "language_info": {
   "codemirror_mode": {
    "name": "ipython",
    "version": 3
   },
   "file_extension": ".py",
   "mimetype": "text/x-python",
   "name": "python",
   "nbconvert_exporter": "python",
   "pygments_lexer": "ipython3",
   "version": "3.11.7"
  }
 },
 "nbformat": 4,
 "nbformat_minor": 5
}
