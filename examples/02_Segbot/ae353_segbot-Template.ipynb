{
 "cells": [
  {
   "cell_type": "markdown",
   "id": "bfbe3b46-48c9-4c33-8edf-b475e22b1438",
   "metadata": {
    "jp-MarkdownHeadingCollapsed": true
   },
   "source": [
    "# You may use this as a template for your code and code report. If you do, you MUST remove Markdown cells that were not authored by you."
   ]
  },
  {
   "cell_type": "markdown",
   "id": "78a30e88-b28f-484e-b4cf-cfefa9e8affb",
   "metadata": {
    "jp-MarkdownHeadingCollapsed": true
   },
   "source": [
    "## FIXME: System Linearization and State Space Form"
   ]
  },
  {
   "cell_type": "code",
   "execution_count": null,
   "id": "bd0774ab-48d9-4a28-ae54-401ff5fbadaf",
   "metadata": {},
   "outputs": [],
   "source": [
    "# FIXME: Find an equilibrium point and linearize the system into state space form"
   ]
  },
  {
   "cell_type": "markdown",
   "id": "5309a767-b2bb-44a7-bb9c-d915946bdc1a",
   "metadata": {
    "jp-MarkdownHeadingCollapsed": true
   },
   "source": [
    "## FIXME: Gain Selection and Controller Design"
   ]
  },
  {
   "cell_type": "code",
   "execution_count": null,
   "id": "efc14387-28dd-48c2-b9f0-7042b307f3bd",
   "metadata": {},
   "outputs": [],
   "source": [
    "# FIXME: Select a set of control and observer gains. Ensure the resultant system is stable. Implement your controller below."
   ]
  },
  {
   "cell_type": "code",
   "execution_count": null,
   "id": "06cc22bb-fde2-479e-82b7-173e9611699c",
   "metadata": {},
   "outputs": [],
   "source": [
    "# Create the Controller class\n",
    "class Controller():\n",
    "    def __init__(self):\n",
    "        \"\"\"\n",
    "        Initializes the controller. You should initialize any member variables that\n",
    "        the controller will use to their starting values. This function is called\n",
    "        when a new instance of the Controller class is created.\n",
    "    \n",
    "        Parameters\n",
    "        ----------\n",
    "        None.\n",
    "    \n",
    "        Returns\n",
    "        -------\n",
    "        None.\n",
    "        \"\"\"\n",
    "        # FIXME: Replace the following code with your initialization function\n",
    "        pass\n",
    "    \n",
    "    def reset(self):\n",
    "        \"\"\"\n",
    "        Resets the controller to an initial state. You should reset any variables\n",
    "        that track states, times, etc. in this function. This function will be \n",
    "        called just before the simulation starts running and any time the simulation\n",
    "        is reset.\n",
    "    \n",
    "        Parameters\n",
    "        ----------\n",
    "        None.\n",
    "    \n",
    "        Returns\n",
    "        -------\n",
    "        None.\n",
    "        \"\"\"\n",
    "        # FIXME: Replace the following code with your reset function\n",
    "        pass\n",
    "\n",
    "    \n",
    "    def run(self, **kwargs):\n",
    "        \"\"\"\n",
    "        Runs the controller. Data is passed from the simulation environment to the\n",
    "        controller via kwargs, the controller calculates the inputs to the system,\n",
    "        and then returns them via a return statement\n",
    "    \n",
    "        Parameters\n",
    "        ----------\n",
    "        **kwargs : Dictionary\n",
    "            A dictionary of data passed from the simulation environment to the \n",
    "            controller. Specific data is extracted from kwargs via the statement:\n",
    "            kwargs[\"KEYWORD\"], where \"KEYWORD\" is a key to the dictionary. The keys\n",
    "            of kwargs for this project are as follows:\n",
    "\n",
    "            kwargs[\"e_lat\"] : Float\n",
    "                The current lateral position error of the segbot in meters.\n",
    "            \n",
    "            kwargs[\"v\"] : Float\n",
    "                The current forward velocity of the segbot in meters/second.\n",
    "            \n",
    "            kwargs[\"phi\"] : Float\n",
    "                The current heading angle of the chassis in radians.\n",
    "            \n",
    "            kwargs[\"phidot\"] : Float\n",
    "                The current heading  angular rate of the chassis in radians/second.\n",
    "            \n",
    "            kwargs[\"theta\"] : Float\n",
    "                The current pitch angle of the chassis in radians.\n",
    "            \n",
    "            kwargs[\"thetadot\"] : Float\n",
    "                The current pitch angular rate of the chassis in radians/second.\n",
    "    \n",
    "        Returns\n",
    "        -------\n",
    "        inputs : List with length equal to the number of inputs\n",
    "            This is a list of the inputs calculated by the controller. In this\n",
    "            project, there are two inputs, the torque applied to the left wheel\n",
    "            and the torque applied to the right wheel. Therefore, inputs has the \n",
    "            form:\n",
    "            inputs = [left_torque, right_torque]\n",
    "        \n",
    "        \"\"\"\n",
    "        # FIXME: Replace the following manual controller with your own controller\n",
    "        \n",
    "        # Set the torques to 0\n",
    "        left_torque = 0.0\n",
    "        right_torque = 0.0\n",
    "\n",
    "        # Adjust the torques based on the keyboard inputs\n",
    "        if kwargs[\"sw\"]:\n",
    "            right_torque += 0.7\n",
    "            left_torque += 0.7\n",
    "        elif kwargs[\"w\"]:\n",
    "            right_torque += 0.3\n",
    "            left_torque += 0.3\n",
    "\n",
    "        if kwargs[\"ss\"]:\n",
    "            right_torque += -0.7\n",
    "            left_torque += -0.7\n",
    "        elif kwargs[\"s\"]:\n",
    "            right_torque += -0.3\n",
    "            left_torque += -0.3\n",
    "\n",
    "        if kwargs[\"sd\"]:\n",
    "            right_torque += 0.3\n",
    "        elif kwargs[\"d\"]:\n",
    "            right_torque += 0.15\n",
    "\n",
    "        if kwargs[\"sa\"]:\n",
    "            left_torque += 0.3\n",
    "        elif kwargs[\"a\"]:\n",
    "            left_torque += 0.15\n",
    "    \n",
    "        # Return the manually set torque\n",
    "        inputs = [left_torque, right_torque]\n",
    "        return inputs"
   ]
  },
  {
   "cell_type": "code",
   "execution_count": null,
   "id": "91f99c2f-26ef-4515-875c-d5be5505ff4b",
   "metadata": {},
   "outputs": [],
   "source": [
    "# Create an instance of our Controller class\n",
    "controller = Controller()"
   ]
  },
  {
   "cell_type": "markdown",
   "id": "fdd5aa72-f4c6-4b4e-bb66-08bd4ceda7c9",
   "metadata": {
    "jp-MarkdownHeadingCollapsed": true
   },
   "source": [
    "## Running the Simulation"
   ]
  },
  {
   "cell_type": "markdown",
   "id": "a71636ba-cd6d-4ad5-8e31-1457f4111c72",
   "metadata": {},
   "source": [
    "Before we run the simulation, we must first import the simulation module and then create an instance of the simulator. This is done below:"
   ]
  },
  {
   "cell_type": "code",
   "execution_count": null,
   "id": "e5146cf2-bb6b-4a56-ab66-08917b5d03c6",
   "metadata": {},
   "outputs": [],
   "source": [
    "# Import the segbot project. This module is used to simulate, render, and plot a segbot dynamic system\n",
    "import ae353_segbot"
   ]
  },
  {
   "cell_type": "markdown",
   "id": "555722ea-6fb7-4f0c-b78f-7a8731e35f14",
   "metadata": {},
   "source": [
    "There are four main parameters to the Segbot_sim class initialization function:\n",
    "#### Parameters\n",
    "\n",
    "> **use_keyboard** : *bool, optional*  \n",
    "> A boolean flag that indicates whether the simulation will allow the use of keyboard interactivity. The default is True.\n",
    "> \n",
    "> **visualization** : *bool, optional*  \n",
    "> A boolean flag that indicates whether the simulation will be  visualized in meshcat. The default is True.\n",
    "> \n",
    "> **animation** : *bool, optional*  \n",
    "> A boolean flag that indicates whether animated plots are created in real time. The default is True.\n",
    "> \n",
    "> **bumpy**: *bool, optional*  \n",
    "> A boolean flag that indicates whether the station will be built with bumps on the driving surface or not."
   ]
  },
  {
   "cell_type": "code",
   "execution_count": null,
   "id": "80c2d1df-5247-44cf-9de7-35c4d85780d5",
   "metadata": {},
   "outputs": [],
   "source": [
    "sim = ae353_segbot.Segbot_sim(use_keyboard=True,\n",
    "                              visualization=True,\n",
    "                              animation=False,\n",
    "                              bumpy=False)"
   ]
  },
  {
   "cell_type": "markdown",
   "id": "94ef6182-08ea-4384-92c0-20210a8c5858",
   "metadata": {},
   "source": [
    "Now we are ready to run the simulation and collect data. To do this we call the ``sim.run()`` function. This function takes an instance of the ``Controller`` class as an argument and returns ``data``. The parameters and return values of ``sim.run()`` are shown below.\n",
    "\n",
    "#### Parameters\n",
    "\n",
    "> **controller** : *member of Controller class*  \n",
    "> Your controller that will generated inputs to the system.\n",
    "> \n",
    "> **max_time** : *Float or None, optional*  \n",
    "> The total amount of time the simulation is allowed to run. If set to None, the simulation will run until \"ESC\" is pressed on the keyboard. If the keyboard is disabled, and max_time is set to None, the simulation will automatically terminate after 10 seconds of simulated time. The default value is None.\n",
    "> \n",
    "> **initial_e_lat** : *Float, optional*  \n",
    "> The initial lateral error in meters. Changes the target lateral error, does not change the lateral position of the segbot. The default value is 0.0.\n",
    "> \n",
    "> **station_velocity** : *Float, optional*  \n",
    "> The constant rotational speed of the station in rad/s. The default value is -0.1.\n",
    "\n",
    "#### Returns\n",
    "\n",
    "> **data** : *Dictionary of Lists*  \n",
    "> A dictionary containing all relevant data generated during the simulation. Specific data is extracted via the statement: data[\"KEYWORD\"], where \"KEYWORD\" is a key to the dictionary. The keys of data for this project are as follows:\n",
    ">  \n",
    "> **data[\"lat_pos\"]** : *List of Floats*  \n",
    "> A list of the lateral position of the segbot in meters at each time stamp during the simulation.\n",
    ">  \n",
    "> **data[\"tag_lat\"]** : *List of Floats*  \n",
    "> A list of the taget lateral position of the segbot in meters at each time stamp during the simulation.  \n",
    ">  \n",
    "> **data[\"e_lat\"]** : *List of Floats*  \n",
    "> A list of the lateral position error of the segbot in meters at each time stamp during the simulation.\n",
    ">  \n",
    "> **data[\"v\"]** : *List of Floats*\n",
    "> test\n",
    ">  \n",
    "> A list of the forward velocity of the segbot in meters/second at each time stamp during the simulation.\n",
    "> \n",
    "> **data[\"phi\"]** : *List of Floats*  \n",
    "> A list of the heading angle of the chassis in radians at each time stamp during the simulation.\n",
    "> \n",
    "> **data[\"phidot\"]** : *List of Floats*  \n",
    "> A list of the heading  angular rate of the chassis in radians/second at each time stamp during the simulation.\n",
    "> \n",
    "> **data[\"theta\"]** : *List of Floats*  \n",
    "> A list of the pitch angle of the chassis in radians at each time stamp during the simulation.\n",
    "> \n",
    "> **data[\"thetadot\"]** : *List of Floats*  \n",
    "> A list of the pitch angular rate of the chassis in radians/second at each time stamp during the simulation.\n",
    "> \n",
    "> **data[\"tau_l\"]** : *List of Floats*  \n",
    "> A list of the torque applied to the left wheel of the segbot in Newton-meters at each time stamp during the simulation.\n",
    "> \n",
    "> **data[\"tau_r\"]** : *List of Floats*  \n",
    "> A list of the torque applied to the right wheel of the segbot in Newton-meters at each time stamp during the simulation.\n",
    "> \n",
    "> **data[\"time\"]** : *List of Floats*  \n",
    "> A list of the time stamps in seconds."
   ]
  },
  {
   "cell_type": "markdown",
   "id": "124639bf-1ee1-4311-b92c-8390c695242a",
   "metadata": {},
   "source": [
    "#### If enabled you can use the keyboard to interact with the simulation:  \n",
    "> press **ENTER** to start the simulation  \n",
    "> press **BACKSPACE** to reset the simulation  \n",
    "> press **SPACE** to pause the simulation  \n",
    "> press **ESC** to end the simulation  \n",
    "\n",
    "#### To control the target lateral position:\n",
    "> press **j** to move the target to the left  \n",
    "> press **l** to move the target to the right  \n",
    "\n",
    "#### If the manual controller is being used:\n",
    "> press **w** to apply small forward torque to both wheels  \n",
    "> press **SHIFT+w** to apply large forward torque to both wheels  \n",
    "> press **s** to apply small backward torque to both wheels  \n",
    "> press **SHIFT+s** to apply large backward torque to both wheels  \n",
    "> press **d** to apply small forward torque to only the left wheel  \n",
    "> press **SHIFT+d** to apply large forward torque to only the left wheel  \n",
    "> press **a** to apply small backward torque to only the right wheel  \n",
    "> press **SHIFT+a** to apply large backward torque to only the right wheel  "
   ]
  },
  {
   "cell_type": "code",
   "execution_count": null,
   "id": "75fefa5c-d205-44cc-84fb-0896513a6cec",
   "metadata": {},
   "outputs": [],
   "source": [
    "# Run the simulation and collect the simulation data\n",
    "data = sim.run(controller,\n",
    "               max_time=None,\n",
    "               initial_e_lat = 0.0,\n",
    "               station_velocity = -0.1)"
   ]
  },
  {
   "cell_type": "markdown",
   "id": "0fadfcf6-c9d5-4d87-9ff7-8665522883e3",
   "metadata": {
    "jp-MarkdownHeadingCollapsed": true
   },
   "source": [
    "## FIXME: Post-processing the simulation data"
   ]
  },
  {
   "cell_type": "markdown",
   "id": "4d9710b3-e018-4921-839c-ff40946ef1f8",
   "metadata": {},
   "source": [
    "After the simulation is run, we can plot the data using the Matplotlib package. To start, we import matplotlib and numpy."
   ]
  },
  {
   "cell_type": "code",
   "execution_count": null,
   "id": "5b23ea45-dabd-46f3-b3aa-148dd30d4f64",
   "metadata": {},
   "outputs": [],
   "source": [
    "# Import the pyplot module from the matplotlib package\n",
    "import matplotlib.pyplot as plt\n",
    "\n",
    "# Import numpy\n",
    "import numpy as np"
   ]
  },
  {
   "cell_type": "markdown",
   "id": "fcc05165-85a1-43f4-9ea7-e3a84d795869",
   "metadata": {},
   "source": [
    "Now we can make whichever plots we see fit to make sense of the simulation data. Here we plot the pitch versus time as well as the applied torques versus time.\n",
    "\n",
    "**THIS IS LEFT INTENTIONALLY AS INSUFFICIENT TO PROVE YOUR CONTROLLER CAN STEER THE SEGBOT.**"
   ]
  },
  {
   "cell_type": "code",
   "execution_count": null,
   "id": "815349ed-356a-4194-bd7c-35db59ea26e9",
   "metadata": {},
   "outputs": [],
   "source": [
    "# Create a figure that has two plots in it\n",
    "fig, axes = plt.subplots(2, 1, figsize=(7.2, 5.4), sharex=True)\n",
    "\n",
    "# Create a plot of the pitch angle versus time on the first plot\n",
    "axes[0].plot(data['time'], 180.*np.array(data['theta'])/np.pi, c='k', lw=2.5)\n",
    "axes[0].set_ylabel(\"Pitch [deg]\", fontsize=12)\n",
    "axes[0].tick_params(axis='y', labelsize=12)\n",
    "axes[0].set_title(\"Pitch vs. Time\", fontsize=14)\n",
    "axes[0].grid()\n",
    "\n",
    "# Create a plot of the torque versus time on the second plot\n",
    "axes[1].plot(data['time'], data['tau_l'], label=\"Left Torque\", c='r', lw=2.5)\n",
    "axes[1].plot(data['time'], data['tau_r'], label=\"Right Torque\", c='b', lw=2.5)\n",
    "axes[1].set_xlabel(\"Time [s]\", fontsize=12)\n",
    "axes[1].set_ylabel(\"Torque [Nm]\", fontsize=12)\n",
    "axes[1].tick_params(axis='y', labelsize=12)\n",
    "axes[1].legend(fontsize=12, shadow=True)\n",
    "axes[1].set_title(\"Torque vs. Time\", fontsize=14)\n",
    "axes[1].grid()\n",
    "\n",
    "# Show the figure\n",
    "fig.tight_layout(pad=2.0)\n",
    "plt.show()"
   ]
  }
 ],
 "metadata": {
  "kernelspec": {
   "display_name": "Python 3 (ipykernel)",
   "language": "python",
   "name": "python3"
  },
  "language_info": {
   "codemirror_mode": {
    "name": "ipython",
    "version": 3
   },
   "file_extension": ".py",
   "mimetype": "text/x-python",
   "name": "python",
   "nbconvert_exporter": "python",
   "pygments_lexer": "ipython3",
   "version": "3.11.7"
  }
 },
 "nbformat": 4,
 "nbformat_minor": 5
}
