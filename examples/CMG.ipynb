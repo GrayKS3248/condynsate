{
 "cells": [
  {
   "cell_type": "code",
   "execution_count": 1,
   "id": "86135e8d",
   "metadata": {},
   "outputs": [],
   "source": [
    "# Import packages\n",
    "import numpy as np\n",
    "import keyboard\n",
    "import condynsate"
   ]
  },
  {
   "cell_type": "code",
   "execution_count": 2,
   "id": "0d87fe35",
   "metadata": {},
   "outputs": [
    {
     "name": "stdout",
     "output_type": "stream",
     "text": [
      "You can open the visualizer by visiting the following URL:\n",
      "http://127.0.0.1:7000/static/\n"
     ]
    }
   ],
   "source": [
    "# Create an instance of the simulator with visualization and animation\n",
    "sim = condynsate.Simulator(visualization=True,\n",
    "                           animation=True,\n",
    "                           animation_fr=15.)"
   ]
  },
  {
   "cell_type": "code",
   "execution_count": 3,
   "id": "a22c474b",
   "metadata": {},
   "outputs": [],
   "source": [
    "# Load the ground\n",
    "ground_obj = sim.load_urdf(urdf_path='./cmg_vis/plane.urdf',\n",
    "                           tex_path='./cmg_vis/check.png',\n",
    "                           position=[0., 0., -3.],\n",
    "                           fixed=True,\n",
    "                           update_vis=False)"
   ]
  },
  {
   "cell_type": "code",
   "execution_count": 4,
   "id": "73b99488",
   "metadata": {},
   "outputs": [],
   "source": [
    "# Load the wall\n",
    "wall_obj = sim.load_urdf(urdf_path='./cmg_vis/plane.urdf',\n",
    "                         tex_path='./cmg_vis/concrete.png',\n",
    "                         roll=0.5*np.pi,\n",
    "                         yaw=np.pi,\n",
    "                         fixed=True,\n",
    "                         update_vis=False)"
   ]
  },
  {
   "cell_type": "code",
   "execution_count": 5,
   "id": "4f4cee0f",
   "metadata": {},
   "outputs": [],
   "source": [
    "# Load the CMG\n",
    "cmg_obj = sim.load_urdf(urdf_path='./cmg_vis/cmg.urdf',\n",
    "                        position=[0., 1.1, 0.],\n",
    "                        pitch=-0.5*np.pi,\n",
    "                        fixed=True,\n",
    "                        update_vis=True)"
   ]
  },
  {
   "cell_type": "code",
   "execution_count": 6,
   "id": "10032129",
   "metadata": {},
   "outputs": [],
   "source": [
    "# Set joint damping\n",
    "sim.set_joint_damping(urdf_obj=cmg_obj,\n",
    "                      joint_name=\"world_to_outer\",\n",
    "                      damping=0.01)\n",
    "sim.set_joint_damping(urdf_obj=cmg_obj,\n",
    "                      joint_name=\"outer_to_inner\",\n",
    "                      damping=0.01)"
   ]
  },
  {
   "cell_type": "code",
   "execution_count": 7,
   "id": "52437a02",
   "metadata": {},
   "outputs": [],
   "source": [
    "# Variables to track applied torque\n",
    "max_torque = 0.5\n",
    "min_torque = -0.5\n",
    "\n",
    "# Keyboard IO function for torque\n",
    "def get_torque_setting(min_torque, max_torque):\n",
    "    if keyboard.is_pressed(\"shift+d\"):\n",
    "        torque = max_torque\n",
    "    elif keyboard.is_pressed(\"d\"):\n",
    "        torque = max_torque / 4.0\n",
    "    elif keyboard.is_pressed(\"shift+a\"):\n",
    "        torque = min_torque\n",
    "    elif keyboard.is_pressed(\"a\"):\n",
    "        torque = min_torque / 4.0\n",
    "    else:\n",
    "        torque = 0.0\n",
    "    return torque"
   ]
  },
  {
   "cell_type": "code",
   "execution_count": 8,
   "id": "c5344d18",
   "metadata": {},
   "outputs": [],
   "source": [
    "# Variables to track mass\n",
    "max_mass = 2.0\n",
    "min_mass = 0.0\n",
    "mass = 0.5*(max_mass + min_mass)\n",
    "\n",
    "# Keyboard IO function for mass\n",
    "def get_mass_setting(mass, min_mass, max_mass):\n",
    "    if keyboard.is_pressed('e'):\n",
    "        mass = mass + 0.005*(max_mass - min_mass)\n",
    "        if mass > max_mass:\n",
    "            mass = max_mass\n",
    "    elif keyboard.is_pressed('q'):\n",
    "        mass = mass - 0.005*(max_mass - min_mass)\n",
    "        if mass < min_mass:\n",
    "            mass = min_mass\n",
    "    return mass"
   ]
  },
  {
   "cell_type": "code",
   "execution_count": 9,
   "id": "0e43fd39",
   "metadata": {},
   "outputs": [],
   "source": [
    "# Variables to track wheel velocity\n",
    "max_vel = 100.0\n",
    "min_vel = 0.0\n",
    "vel = 0.5 * (max_vel + min_vel)\n",
    "\n",
    "# Keyboard IO function for wheel velocity\n",
    "def get_vel_setting(vel, min_vel, max_vel):\n",
    "    if keyboard.is_pressed('w'):\n",
    "        vel = vel + 0.005*(max_vel - min_vel)\n",
    "        if vel > max_vel:\n",
    "            vel = max_vel\n",
    "    elif keyboard.is_pressed('s'):\n",
    "        vel = vel - 0.005*(max_vel - min_vel)\n",
    "        if vel < min_vel:\n",
    "            vel = min_vel\n",
    "    return vel"
   ]
  },
  {
   "cell_type": "code",
   "execution_count": 10,
   "id": "e6e9dd21",
   "metadata": {},
   "outputs": [],
   "source": [
    "# Create desired plots\n",
    "ang_momentums = []\n",
    "angles = []\n",
    "plot = sim.add_plot_to_animator(title=\"Phase Space\",\n",
    "                                x_label=\"θ [Rad]\",\n",
    "                                y_label=\"L $[Kg•m^{2}•s^{-1}]$\",\n",
    "                                color=\"r\",\n",
    "                                tail=1200,\n",
    "                                line_width=2.5)"
   ]
  },
  {
   "cell_type": "code",
   "execution_count": 11,
   "id": "e9baa5bc",
   "metadata": {},
   "outputs": [],
   "source": [
    "# Open the animator GUI\n",
    "sim.open_animator_gui()"
   ]
  },
  {
   "cell_type": "code",
   "execution_count": 12,
   "id": "de431d86",
   "metadata": {},
   "outputs": [],
   "source": [
    "# Main simulation loop\n",
    "done=False\n",
    "while not done:\n",
    "    # Get the torque, mass, and vel\n",
    "    torque=get_torque_setting(max_torque, min_torque)\n",
    "    mass=get_mass_setting(mass, min_mass, max_mass)\n",
    "    vel=get_vel_setting(vel, min_vel, max_vel)\n",
    "    \n",
    "    # Set the torque, mass, and velocity\n",
    "    sim.set_joint_torque(urdf_obj=cmg_obj,\n",
    "                         joint_name=\"outer_to_inner\",\n",
    "                         torque=torque,\n",
    "                         show_arrow=True,\n",
    "                         arrow_scale=2.5,\n",
    "                         color=True,\n",
    "                         min_torque=min_torque,\n",
    "                         max_torque=max_torque)\n",
    "    sim.set_link_mass(urdf_obj=cmg_obj,\n",
    "                      link_name='mass',\n",
    "                      mass = mass,\n",
    "                      color=True,\n",
    "                      min_mass=min_mass,\n",
    "                      max_mass=max_mass)\n",
    "    sim.set_joint_velocity(urdf_obj=cmg_obj,\n",
    "                           joint_name='inner_to_wheel',\n",
    "                           velocity = vel,\n",
    "                           color=True,\n",
    "                           min_vel=min_vel,\n",
    "                           max_vel=max_vel)\n",
    "    \n",
    "    # Update and set the plot data\n",
    "    ang, ang_vel,_,_,_ = sim.get_joint_state(urdf_obj=cmg_obj,\n",
    "                                             joint_name=\"world_to_outer\")\n",
    "    ang_momentum = mass*ang_vel\n",
    "    ang_momentums.append(ang_momentum)\n",
    "    angles.append(ang)\n",
    "    sim.set_plot_data(plot_index=plot,\n",
    "                      x=angles,\n",
    "                      y=ang_momentums)\n",
    "    \n",
    "    # Step the sim\n",
    "    sim.step(real_time=True,\n",
    "             update_vis=True,\n",
    "             update_ani=True)\n",
    "\n",
    "    # Collect keyboard IO for termination\n",
    "    if keyboard.is_pressed(\"esc\"):\n",
    "        done = True"
   ]
  },
  {
   "cell_type": "code",
   "execution_count": null,
   "id": "5aec046f",
   "metadata": {},
   "outputs": [],
   "source": []
  }
 ],
 "metadata": {
  "kernelspec": {
   "display_name": "Python 3 (ipykernel)",
   "language": "python",
   "name": "python3"
  },
  "language_info": {
   "codemirror_mode": {
    "name": "ipython",
    "version": 3
   },
   "file_extension": ".py",
   "mimetype": "text/x-python",
   "name": "python",
   "nbconvert_exporter": "python",
   "pygments_lexer": "ipython3",
   "version": "3.9.2"
  }
 },
 "nbformat": 4,
 "nbformat_minor": 5
}
