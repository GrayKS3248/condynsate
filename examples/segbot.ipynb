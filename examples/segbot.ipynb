{
 "cells": [
  {
   "cell_type": "code",
   "execution_count": 1,
   "id": "edb746f0",
   "metadata": {},
   "outputs": [],
   "source": [
    "# Import packages\n",
    "import numpy as np\n",
    "import condynsate"
   ]
  },
  {
   "cell_type": "code",
   "execution_count": 2,
   "id": "90ba2900",
   "metadata": {},
   "outputs": [
    {
     "name": "stdout",
     "output_type": "stream",
     "text": [
      "You can open the visualizer by visiting the following URL:\n",
      "http://127.0.0.1:7003/static/\n"
     ]
    }
   ],
   "source": [
    "# Create an instance of the simulator with visualization and animation\n",
    "sim = condynsate.Simulator(visualization=True,\n",
    "                           animation=True,\n",
    "                           animation_fr=15.)"
   ]
  },
  {
   "cell_type": "code",
   "execution_count": 3,
   "id": "829f364a",
   "metadata": {},
   "outputs": [],
   "source": [
    "# Load the station\n",
    "station_obj = sim.load_urdf(urdf_path='./segbot_vis/station.urdf',\n",
    "                            position=[0., 0., 19.355],\n",
    "                            roll=np.pi/2.0,\n",
    "                            fixed=True,\n",
    "                            update_vis=True)"
   ]
  },
  {
   "cell_type": "code",
   "execution_count": 4,
   "id": "9890848f",
   "metadata": {},
   "outputs": [],
   "source": [
    "# Load the segbot\n",
    "segbot_obj = sim.load_urdf(urdf_path='./segbot_vis/segbot.urdf',\n",
    "                           position=[0., 0., 0.],\n",
    "                           yaw=np.pi,\n",
    "                           fixed=False,\n",
    "                           update_vis=True)"
   ]
  },
  {
   "cell_type": "code",
   "execution_count": 5,
   "id": "dec054d6",
   "metadata": {},
   "outputs": [],
   "source": [
    "# Set the chassis and wheel masses\n",
    "sim.set_link_mass(urdf_obj=segbot_obj,\n",
    "                  link_name=\"chassis\",\n",
    "                  mass=20.)\n",
    "sim.set_link_mass(urdf_obj=segbot_obj,\n",
    "                  link_name=\"right_wheel\",\n",
    "                  mass=20.)\n",
    "sim.set_link_mass(urdf_obj=segbot_obj,\n",
    "                  link_name=\"left_wheel\",\n",
    "                  mass=20.)"
   ]
  },
  {
   "cell_type": "code",
   "execution_count": 6,
   "id": "b3b094b5",
   "metadata": {},
   "outputs": [],
   "source": [
    "# Variables to track applied torque\n",
    "max_torque = 10.\n",
    "min_torque = -10.\n",
    "\n",
    "# Keyboard IO function for torque\n",
    "def get_torque_setting(min_torque, max_torque):\n",
    "    if sim.is_pressed(\"shift+w\"):\n",
    "        r_torque = 0.75 * max_torque\n",
    "        l_torque = 0.75 * max_torque\n",
    "    elif sim.is_pressed(\"w\"):\n",
    "        r_torque = 0.33 * max_torque\n",
    "        l_torque = 0.33 * max_torque\n",
    "    elif sim.is_pressed(\"shift+s\"):\n",
    "        r_torque = 0.75 * min_torque\n",
    "        l_torque = 0.75 * min_torque\n",
    "    elif sim.is_pressed(\"s\"):\n",
    "        r_torque = 0.33 * min_torque\n",
    "        l_torque = 0.33 * min_torque\n",
    "    else:\n",
    "        r_torque = 0.0\n",
    "        l_torque = 0.0\n",
    "    if sim.is_pressed(\"d\"):\n",
    "        l_torque = l_torque + 0.25*max_torque\n",
    "    if sim.is_pressed(\"a\"):\n",
    "        r_torque = r_torque + 0.25*max_torque\n",
    "    return r_torque, l_torque"
   ]
  },
  {
   "cell_type": "code",
   "execution_count": 7,
   "id": "a327347f",
   "metadata": {},
   "outputs": [],
   "source": [
    "# Variables to track station velocity\n",
    "max_stat_vel = 0.05\n",
    "min_stat_vel = 0.\n",
    "stat_vel = 0.5 * (min_stat_vel + max_stat_vel)\n",
    "\n",
    "# Keyboard IO data for station vel\n",
    "def get_stat_vel_setting(stat_vel, min_stat_vel, max_stat_vel):\n",
    "    if sim.is_pressed(\"e\"):\n",
    "        stat_vel = stat_vel + 0.005*(max_stat_vel - min_stat_vel)\n",
    "        if stat_vel > max_stat_vel:\n",
    "            stat_vel = max_stat_vel\n",
    "    elif sim.is_pressed(\"q\"):\n",
    "        stat_vel = stat_vel - 0.005*(max_stat_vel - min_stat_vel)\n",
    "        if stat_vel < min_stat_vel:\n",
    "            stat_vel = min_stat_vel\n",
    "    return stat_vel"
   ]
  },
  {
   "cell_type": "code",
   "execution_count": 8,
   "id": "081cc471",
   "metadata": {},
   "outputs": [],
   "source": [
    "# Create desired plots\n",
    "plot_1, lines_1 = sim.add_subplot(n_lines=1,\n",
    "                                  title=\"Torque vs Time\",\n",
    "                                  x_label=\"Time [s]\",\n",
    "                                  y_label=\"Torque [Nm]\",\n",
    "                                  colors=[\"r\"])\n",
    "plot_2, lines_2 = sim.add_subplot(n_lines=1,\n",
    "                                  title=\"Pitch Speed Vs Time\",\n",
    "                                  x_label=\"Time [s]\",\n",
    "                                  y_label=\"Pitch Velocity [Rad/s]\",\n",
    "                                  colors=[\"b\"])"
   ]
  },
  {
   "cell_type": "code",
   "execution_count": 9,
   "id": "eaefbbfe",
   "metadata": {},
   "outputs": [],
   "source": [
    "# Open the animator GUI\n",
    "sim.open_animator_gui()"
   ]
  },
  {
   "cell_type": "code",
   "execution_count": 10,
   "id": "c6636cd5",
   "metadata": {},
   "outputs": [
    {
     "name": "stdout",
     "output_type": "stream",
     "text": [
      "RESETTING...\n",
      "RESETTING...\n",
      "RESETTING...\n",
      "Termination command detected. Terminating keyboard listener. Goodbye\n"
     ]
    }
   ],
   "source": [
    "# Main simulation loop\n",
    "while not sim.is_done: \n",
    "    # Get the torques and station vel\n",
    "    r_torque, l_torque = get_torque_setting(min_torque, max_torque)\n",
    "    stat_vel = get_stat_vel_setting(stat_vel, min_stat_vel, max_stat_vel)\n",
    "\n",
    "    # Set wheel torques\n",
    "    sim.set_joint_torque(urdf_obj=segbot_obj,\n",
    "                         joint_name='chassis_to_right_wheel',\n",
    "                         torque=r_torque,\n",
    "                         show_arrow=True,\n",
    "                         arrow_scale=0.075,\n",
    "                         arrow_offset=-0.05)\n",
    "    sim.set_joint_torque(urdf_obj=segbot_obj,\n",
    "                         joint_name='chassis_to_left_wheel',\n",
    "                         torque=l_torque,\n",
    "                         show_arrow=True,\n",
    "                         arrow_scale=0.075,\n",
    "                         arrow_offset=0.05)\n",
    "\n",
    "    # Set station velocity\n",
    "    sim.set_joint_velocity(urdf_obj=station_obj,\n",
    "                           joint_name=\"world_to_station\",\n",
    "                           velocity=stat_vel,\n",
    "                           color=True,\n",
    "                           min_vel=min_stat_vel,\n",
    "                           max_vel=max_stat_vel)\n",
    "\n",
    "    # Get the rigid body states of the segbot and station\n",
    "    seg_state = sim.get_base_state(urdf_obj=segbot_obj,\n",
    "                                   body_coords=True)\n",
    "    stat_state = sim.get_base_state(urdf_obj=station_obj,\n",
    "                                    body_coords=False)\n",
    "    seg_pos = seg_state['position']\n",
    "    seg_ang_vel = seg_state['angular velocity']\n",
    "    stat_pos = stat_state['position']\n",
    "\n",
    "    # This simulates centrifugal gravity from the station\n",
    "    seg_relative_pos = np.array(seg_pos) - np.array(stat_pos)\n",
    "    seg_relative_dirn = seg_relative_pos / np.linalg.norm(seg_relative_pos)\n",
    "    gravity = 9.81 * seg_relative_dirn\n",
    "    sim.set_gravity(gravity=gravity)\n",
    "\n",
    "    # Set the plot data\n",
    "    sim.add_subplot_point(subplot_index=plot_1,\n",
    "                          line_index=lines_1[0],\n",
    "                          x=sim.time,\n",
    "                          y=0.5*(r_torque + l_torque))\n",
    "    sim.add_subplot_point(subplot_index=plot_2,\n",
    "                          line_index=lines_2[0],\n",
    "                          x=sim.time,\n",
    "                          y=seg_ang_vel[1])\n",
    "\n",
    "    # Step the sim\n",
    "    sim.step(real_time=True,\n",
    "             update_vis=True,\n",
    "             update_ani=True)\n",
    "    "
   ]
  },
  {
   "cell_type": "code",
   "execution_count": null,
   "id": "55261a08",
   "metadata": {},
   "outputs": [],
   "source": []
  }
 ],
 "metadata": {
  "kernelspec": {
   "display_name": "Python 3 (ipykernel)",
   "language": "python",
   "name": "python3"
  },
  "language_info": {
   "codemirror_mode": {
    "name": "ipython",
    "version": 3
   },
   "file_extension": ".py",
   "mimetype": "text/x-python",
   "name": "python",
   "nbconvert_exporter": "python",
   "pygments_lexer": "ipython3",
   "version": "3.11.5"
  }
 },
 "nbformat": 4,
 "nbformat_minor": 5
}
