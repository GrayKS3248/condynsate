{
 "cells": [
  {
   "cell_type": "markdown",
   "id": "9bd6dd9a-a0f6-4248-89d4-657c318e0d79",
   "metadata": {},
   "source": [
    "# Tutorial 00: Introduction"
   ]
  },
  {
   "cell_type": "markdown",
   "id": "3c18bd9e-7470-4b09-b7a7-fac8bb2dec17",
   "metadata": {},
   "source": [
    "## Tutorial Description"
   ]
  },
  {
   "cell_type": "markdown",
   "id": "b7e48aef-41be-4597-be37-1bd196bc97a5",
   "metadata": {},
   "source": [
    "This tutorial covers creating the backend of a new project using condynsate. In this tutorial, we will cover how to: \n",
    "1. Import physics objects in the condynsate physics environment.\n",
    "2. Test that physics objects behave as expected.\n",
    "   \n",
    "We will accomplish these goals by importing a cube 1 meter above a solid ground plane, starting the physics engine, then observing the dynamics of the cube. Note that this project will not coverhow to create your own .URDF files. Instead, we recommend reviewing https://wiki.ros.org/urdf."
   ]
  },
  {
   "cell_type": "markdown",
   "id": "be64a904-72de-4411-8a77-37a630f0c3a4",
   "metadata": {},
   "source": [
    "## Imports"
   ]
  },
  {
   "cell_type": "markdown",
   "id": "5ca5c838-ffae-45eb-9e60-0ad1e0ac8698",
   "metadata": {},
   "source": [
    "To begin, we import the required dependencies. In general, for projects that will simulate the physics of a set of urdf objects, the only \n",
    "module needed from the condynsate project is `condynsate.simulator`. Note that we also import `condynsate.__assets__` so that we can load and use a condynsate default cube .URDF file."
   ]
  },
  {
   "cell_type": "code",
   "execution_count": null,
   "id": "b2b6dc1e-8420-4242-91a3-e73422ce713e",
   "metadata": {},
   "outputs": [],
   "source": [
    "from condynsate.simulator import Simulator as con_sim\n",
    "from condynsate import __assets__ as assets"
   ]
  },
  {
   "cell_type": "markdown",
   "id": "61754c2f-38bd-4bed-8c3b-691c24fd175e",
   "metadata": {},
   "source": [
    "To see what default .URDF files are available to us, we can list the keys of `assets`:"
   ]
  },
  {
   "cell_type": "code",
   "execution_count": null,
   "id": "2683e90e-88af-4340-92ab-65f901732817",
   "metadata": {},
   "outputs": [],
   "source": [
    "assets.keys()"
   ]
  },
  {
   "cell_type": "markdown",
   "id": "dea83d70-5877-4057-b588-983d28579958",
   "metadata": {},
   "source": [
    "## Building the Project Class"
   ]
  },
  {
   "cell_type": "markdown",
   "id": "507fb740-3a04-4ff7-af5e-fbbd3c73f962",
   "metadata": {},
   "source": [
    "The `Project` class is that object that front end users interact with. In its simplest form, the `Project` class contains two class functions: `__init__` and `run`. In `__init__` the physics engine is initialized, .URDF files are imported into the engine, and initial conditions are set. In `run` initial conditions are reset, and the physics engine is turned on."
   ]
  },
  {
   "cell_type": "code",
   "execution_count": null,
   "id": "098a10b0-6cec-4676-8cd2-1ac6b47ad94b",
   "metadata": {},
   "outputs": [],
   "source": [
    "class Project():\n",
    "    def __init__(self):\n",
    "        '''\n",
    "        ###########################################################################\n",
    "        STEP 1: Initialize an instance of the condynsate.simulator class. \n",
    "                Note that for this project, we do not want to use animation. \n",
    "                This means that we do not want to plot things in real time. \n",
    "                To avoid condynsate from assuming that we want to do this and\n",
    "                running some things in the background that take compute power, \n",
    "                we simply set the animation flag in the initialization function\n",
    "                to be false.\n",
    "        ###########################################################################\n",
    "        '''\n",
    "        self.s = con_sim(animation = False)\n",
    "        \n",
    "        '''\n",
    "        ###########################################################################\n",
    "        STEP 2: Add solid ground to the physics environment. Condynsate already\n",
    "        includes several default .URDF files that are listed in the \n",
    "        condynsate.__assets__ variable. To load any one of these, we simply \n",
    "        select the path to the asset we want and call the load_urdf function.\n",
    "        \n",
    "        load_urdf has 5 arguments. urdf_path tells the function where the\n",
    "        .URDF file is that we want to load. For the ground we will use\n",
    "        'plane_big'.\n",
    "        \n",
    "        position and wxyz_quaternion define the position and orientation in\n",
    "        which the URDF object will be placed. These positions and orientations\n",
    "        are defined around the parent axes of the URDF object. By setting\n",
    "        position = [0, 0, 0] and wxyz_quaternion = [1, 0, 0, 0], we place the\n",
    "        plane at (0, 0, 0) aligned to the XY plane.\n",
    "        \n",
    "        By setting fixed = True, we are telling the simulator NOT to update \n",
    "        the physics of the base of the object. It will still have collision,\n",
    "        but no other forces, including gravity, will affect it.\n",
    "        \n",
    "        By setting update_vis = False, we are telling the simulator NOT to \n",
    "        send updates to the visualizer for this object. This flag is usually\n",
    "        set to False for unjointed, fixed URDFs to reduce the amount of compute\n",
    "        power required by the visualization\n",
    "        ###########################################################################\n",
    "        '''\n",
    "        self.ground = self.s.load_urdf(urdf_path = assets['plane_big'],\n",
    "                                       position = [0., 0., 0.],\n",
    "                                       wxyz_quaternion = [1., 0., 0., 0],\n",
    "                                       fixed = True,\n",
    "                                       update_vis = False)\n",
    "        \n",
    "        '''\n",
    "        ###########################################################################\n",
    "        STEP 3: Load a cube into the simulator as a physics object. For this\n",
    "        we will use the 'cube' asset.\n",
    "        \n",
    "        By setting position = [0, 0, 1.5] and wxyz_quaternion = [1, 0, 0, 0],\n",
    "        we place the cube at (0, 0, 1.5) in the orientation defined by the URDF\n",
    "        parent axes. As it turns out, the cube is 1x1x1, so that a center\n",
    "        position of [0, 0, 1.5] places the bottom of the cube exactly 1 meter\n",
    "        above the ground.\n",
    "        \n",
    "        By setting fixed = False, we are telling the simulator apply physics\n",
    "        to this .URDF when the engine is running.\n",
    "        \n",
    "        By setting update_vis = True, we are telling the simulator to \n",
    "        send updates to the visualizer for this object. This is usually set to \n",
    "        true when an object is not fixed and will change its position and/or\n",
    "        orientation.\n",
    "        ###########################################################################\n",
    "        '''\n",
    "        self.cube = self.s.load_urdf(urdf_path = assets['cube'],\n",
    "                                     position = [0., 0., 1.5],\n",
    "                                     wxyz_quaternion = [1., 0., 0., 0],\n",
    "                                     fixed = False,\n",
    "                                     update_vis = True)\n",
    "\n",
    "    def run(self, max_time=None):\n",
    "        '''\n",
    "        ###########################################################################\n",
    "        Now that we have created an initialization function, we move on to \n",
    "        the run function. This function will run a physics simulation using\n",
    "        condynsate. Essentially, we will do three things:\n",
    "            1) Reset the simulation environment to the initial conditions. Whereas\n",
    "               this will not do anything for this particular example, it is best \n",
    "               practice to always call condynsate.simulator.reset before \n",
    "               running a simulation loop.\n",
    "            2) Wait for a user to press enter. This is acheived with the \n",
    "               condynsate.simulator.await_keypress(key='enter') function call.\n",
    "            3) Run a simulation to completion. In this case, completion is defined\n",
    "               as the simulator reaching max_time or the user pressing the 'esc' \n",
    "               key. We will describe how to do this using a while loop and \n",
    "               condynsate.simulator.step below.\n",
    "        ###########################################################################\n",
    "        '''\n",
    "        \n",
    "        '''\n",
    "        ###########################################################################\n",
    "        STEP 1: Reset the simulator. It is best practice to do this at the\n",
    "        beginning of every run function.\n",
    "        ###########################################################################\n",
    "        '''\n",
    "        # Reset the simulator.\n",
    "        self.s.reset()\n",
    "\n",
    "        '''\n",
    "        ###########################################################################\n",
    "        STEP 2: Tell the run function to wait for the user to press enter before\n",
    "        continuing to the simulation loop. We do this using await_keypress.\n",
    "        This function call makes it so that the simulator will fully suspend\n",
    "        until the user presses the enter key. Note that this is not a necessary\n",
    "        function to call. If you want the simulation to run as soon as\n",
    "        Project.run is called, exclude this function call.\n",
    "        ###########################################################################\n",
    "        '''\n",
    "        # Await run command.\n",
    "        self.s.await_keypress(key = 'enter')\n",
    "\n",
    "        '''\n",
    "        ###########################################################################\n",
    "        STEP 3: Run the simulation loop. condynsate.simulator cannot run an\n",
    "        entire simulation by itself. Instead, it can take one time step of 0.01\n",
    "        seconds. Therefore, the way we run an entire simulation is to place the \n",
    "        condynsate.simulator.step function inside a while loop that executes \n",
    "        until the boolean flag condynsate.simulator.is_done is True. Note that\n",
    "        this flag will automatically be set to true when max_time is reached or\n",
    "        the user presses the esc key. If the max_time argument to  is None, is_done\n",
    "        will notn be set to true until the esc key is pressed. Further, if max_time \n",
    "        is None AND keyboard interactivity is disabled, the is_done boolean flag\n",
    "        will be set to true at 10.0 seconds.\n",
    "        ###########################################################################\n",
    "        '''\n",
    "        # Run the simulation loop until done\n",
    "        while(not self.s.is_done):\n",
    "            self.s.step(max_time = max_time)"
   ]
  },
  {
   "cell_type": "markdown",
   "id": "420433c6-c1d2-4702-aba4-52295bf753e2",
   "metadata": {},
   "source": [
    "## Running the Project Class"
   ]
  },
  {
   "cell_type": "markdown",
   "id": "da509ec5-56c1-4bc4-a9d0-0db238bd069a",
   "metadata": {},
   "source": [
    "Now that we have made the `Project` class, we can test it by initializing it and then calling the `run` function. Remember to press the enter key to start the simulation and the esc key to end the simulation."
   ]
  },
  {
   "cell_type": "code",
   "execution_count": null,
   "id": "a9461fb2-213e-4b6e-92c0-d0fb1ad00176",
   "metadata": {},
   "outputs": [],
   "source": [
    "# Create an instance of the Project class. \n",
    "proj = Project()\n",
    "\n",
    "# Run the simulation.\n",
    "proj.run(max_time = None)"
   ]
  },
  {
   "cell_type": "markdown",
   "id": "36d1e2de-e3f4-4dfb-a530-766a4420f876",
   "metadata": {},
   "source": [
    "## Challenge"
   ]
  },
  {
   "cell_type": "markdown",
   "id": "5ff6e017-b96d-4668-879d-5ebaf083ae88",
   "metadata": {},
   "source": [
    "This tutorial is now complete. For an added challenge, think of how you would modify `__init__` so that two cubes, one above the other, are loaded but only the top one has physics applied to it."
   ]
  }
 ],
 "metadata": {
  "kernelspec": {
   "display_name": "Python 3 (ipykernel)",
   "language": "python",
   "name": "python3"
  },
  "language_info": {
   "codemirror_mode": {
    "name": "ipython",
    "version": 3
   },
   "file_extension": ".py",
   "mimetype": "text/x-python",
   "name": "python",
   "nbconvert_exporter": "python",
   "pygments_lexer": "ipython3",
   "version": "3.12.10"
  }
 },
 "nbformat": 4,
 "nbformat_minor": 5
}
