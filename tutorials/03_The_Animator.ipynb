{
 "cells": [
  {
   "cell_type": "markdown",
   "id": "9bd6dd9a-a0f6-4248-89d4-657c318e0d79",
   "metadata": {},
   "source": [
    "# Tutorial 03: The Animator"
   ]
  },
  {
   "cell_type": "markdown",
   "id": "3c18bd9e-7470-4b09-b7a7-fac8bb2dec17",
   "metadata": {},
   "source": [
    "## Tutorial Description"
   ]
  },
  {
   "cell_type": "markdown",
   "id": "b7e48aef-41be-4597-be37-1bd196bc97a5",
   "metadata": {},
   "source": [
    "This tutorial covers use the animator interface to create a real time plot of data during a simulation. We will demonstrate this by creating a \n",
    "phase-space plot of a forced pendulum."
   ]
  },
  {
   "cell_type": "markdown",
   "id": "be64a904-72de-4411-8a77-37a630f0c3a4",
   "metadata": {},
   "source": [
    "## Imports"
   ]
  },
  {
   "cell_type": "markdown",
   "id": "5ca5c838-ffae-45eb-9e60-0ad1e0ac8698",
   "metadata": {},
   "source": [
    "To begin, we import the same modules for the same reasons as tutorial 00."
   ]
  },
  {
   "cell_type": "code",
   "execution_count": null,
   "id": "b2b6dc1e-8420-4242-91a3-e73422ce713e",
   "metadata": {},
   "outputs": [],
   "source": [
    "from condynsate.simulator import Simulator as con_sim\n",
    "from condynsate import __assets__ as assets"
   ]
  },
  {
   "cell_type": "markdown",
   "id": "dea83d70-5877-4057-b588-983d28579958",
   "metadata": {},
   "source": [
    "## Building the Project Class"
   ]
  },
  {
   "cell_type": "markdown",
   "id": "507fb740-3a04-4ff7-af5e-fbbd3c73f962",
   "metadata": {},
   "source": [
    "We now create a `Project` class with `__init__` and `run` functions. In `__init__` a pendulum is loaded using the same technique as tutorial 02. Additionally, the animator is set up the plot the phase diagram of the pendulum while the simulation is running. In `run`, we cover how send state data to the animator."
   ]
  },
  {
   "cell_type": "code",
   "execution_count": null,
   "id": "098a10b0-6cec-4676-8cd2-1ac6b47ad94b",
   "metadata": {},
   "outputs": [],
   "source": [
    "class Project():\n",
    "    def __init__(self):\n",
    "        '''\n",
    "        ###########################################################################\n",
    "        This time we want to use the animator, so we set animation to True.\n",
    "        ###########################################################################\n",
    "        '''\n",
    "        # Create a instance of the simulator\n",
    "        self.s = con_sim(animation = True)\n",
    "        \n",
    "        # Load the pendulum in the orientation we want\n",
    "        self.pendulum = self.s.load_urdf(urdf_path = assets['pendulum'],\n",
    "                                         position = [0., 0., 0.05],\n",
    "                                         yaw = 1.571,\n",
    "                                         wxyz_quaternion = [1., 0., 0., 0],\n",
    "                                         fixed = True,\n",
    "                                         update_vis = True)\n",
    "\n",
    "        # Set the initial angle of the pendulum joint\n",
    "        self.s.set_joint_position(urdf_obj = self.pendulum,\n",
    "                                  joint_name = 'chassis_to_arm',\n",
    "                                  position = 0.698,\n",
    "                                  initial_cond = True,\n",
    "                                  physics = False)\n",
    "        \n",
    "        '''\n",
    "        ###########################################################################\n",
    "        Once our URDF is loaded and initial conditions are set, we move on to\n",
    "        creating the animator window. condynsate.simulator.add_subplot is \n",
    "        how we tell the animator that we want to add a subplot to our \n",
    "        animation GUI. We may call this function as many times as we like and\n",
    "        each time a new subplot will be added to the animation GUI. The \n",
    "        arguments to this function are as follows:\n",
    "            n_artists : int, optional\n",
    "                The number of artists that draw on the subplot\n",
    "                The default is 1.\n",
    "            subplot_type: either 'line' or 'bar', optional\n",
    "                The type of plot. May either be 'line' or 'bar'. The default\n",
    "                is 'line'.\n",
    "            title : string, optional\n",
    "                The title of the plot. Will be written above the plot when\n",
    "                rendered. The default is None.\n",
    "            x_label : string, optional\n",
    "                The label to apply to the x axis. Will be written under the\n",
    "                subplot when rendered. The default is None.\n",
    "            y_label : string, optional\n",
    "                The label to apply to the y axis. Will be written to the left\n",
    "                of the subplot when rendered. The default is None.\n",
    "            x_lim : [float, float], optional\n",
    "                The limits to apply to the x axis of the subplot. A value of\n",
    "                None will apply automatically updating limits to the\n",
    "                corresponding bound of the axis. For example [None, 10.] will\n",
    "                fix the upper bound to exactly 10, but the lower bound will\n",
    "                freely change to show all data.The default is [None, None].\n",
    "            y_lim : [float, float], optional\n",
    "                The limits to apply to the y axis of the subplot. A value of \n",
    "                None will apply automatically updating limits to the\n",
    "                corresponding bound of the axis. For example [None, 10.] will\n",
    "                fix the upper bound to exactly 10, but the lower bound will\n",
    "                freely change to show all data.The default is [None, None].\n",
    "            h_zero_line : boolean, optional\n",
    "                A boolean flag that indicates whether a horizontal line will be\n",
    "                drawn on the y=0 line. The default is false\n",
    "            v_zero_line : boolean, optional\n",
    "                A boolean flag that indicates whether a vertical line will be\n",
    "                drawn on the x=0 line. The default is false\n",
    "            colors : list of matplotlib color string, optional\n",
    "                A list of the color each artist draws in. Must have length\n",
    "                n_artists. If n_artists = 1, has the form ['COLOR']. When None,\n",
    "                all artists will default to drawing in black. The default is\n",
    "                None.\n",
    "            labels : list of strings, optional\n",
    "                A list of the label applied to each artist. For line charts, \n",
    "                the labels are shown in a legend in the top right of the plot.\n",
    "                For bar charts, the labels are shown on the y axis next to \n",
    "                their corresponging bars. Must have length n_artists.\n",
    "                If n_artists = 1, has the form ['LABEL']. When None, no labels\n",
    "                will be made for any aritsts. The default is None.\n",
    "            line_widths : list of floats, optional\n",
    "                The line weigth each artist uses. For line plots, this is the\n",
    "                width of the plotted line, for bar charts, this is the width of \n",
    "                the border around each bar. Must be length n_artists. If\n",
    "                n_artists = 1, has the form [LINE_WIDTH]. When set to None,\n",
    "                defaults to 1.0 for all lines. The default is None.\n",
    "            line_styles : list of matplotlib line style string, optional\n",
    "                The line style each artist uses. For line plots, this is the\n",
    "                style of the plotted line, for bar charts, this argument is not\n",
    "                used and therefore ignored. Must be length n_artists. If\n",
    "                n_artists = 1, has the form ['LINE_STYLE']. When set to None,\n",
    "                defaults to 'solid' for all lines. The default is None.\n",
    "            tail : int, optional\n",
    "                Specifies how many data points are used to draw a line. Only\n",
    "                the most recently added data points are kept. Any data points\n",
    "                added more than tail data points ago are discarded and not\n",
    "                plotted. Only valid for line plots, and applied to all artists\n",
    "                in the plot. For bar plots, this argument is ignored and not\n",
    "                used. A value of None means that no data is ever discarded and\n",
    "                all data points added to the animator will be drawn. The\n",
    "                default is None.\n",
    "                \n",
    "        The function returns:\n",
    "            subplot_index : int\n",
    "                A integer identifier that is unique to the subplot created. \n",
    "                This allows future interaction with this subplot (adding data\n",
    "                points, etc.).\n",
    "            artist_inds : tuple of ints\n",
    "                A tuple of integer identifiers that are unique to the artist\n",
    "                created. This allows future interaction with these artists\n",
    "                (adding data points, etc.).\n",
    "                \n",
    "        subplot_index can be considered a pointer to a specific subplot. If\n",
    "        you want to make edits to a subplot, you must first identify which \n",
    "        subplot you are modifying. This is done with subplot_index. Each \n",
    "        subplot can have multiple artists. You can think of an artist as a pen.\n",
    "        If you want to draw two lines on a subplot at the same time, you will \n",
    "        need two pens, i.e. two artists. Each time you add a subplot, you will\n",
    "        receive a list of artist_inds. You can again think of this as a list \n",
    "        of pointers to each artists in that subplot.\n",
    "        ###########################################################################\n",
    "        '''\n",
    "        # Make plot for phase space\n",
    "        self.p, self.a = self.s.add_subplot(n_artists = 1,\n",
    "                                            subplot_type = 'line',\n",
    "                                            title = \"Phase Space\",\n",
    "                                            x_label = \"Angle [Deg]\",\n",
    "                                            y_label = \"Angle Rate [Deg / Sec]\",\n",
    "                                            colors = [\"k\"],\n",
    "                                            line_widths = [2.5],\n",
    "                                            line_styles = [\"-\"],\n",
    "                                            x_lim = [-40.,40],\n",
    "                                            y_lim = [-275.,275],\n",
    "                                            h_zero_line = True,\n",
    "                                            v_zero_line = True)\n",
    "\n",
    "        '''\n",
    "        ###########################################################################\n",
    "        Once we are done adding subplots to the animator, we open the animator GUI.\n",
    "        ###########################################################################\n",
    "        '''\n",
    "        # Open the animator GUI\n",
    "        self.s.open_animator_gui()\n",
    "\n",
    "    def run(self, max_time=None):\n",
    "        '''\n",
    "        ###########################################################################\n",
    "        This run function does all the same basic functions as in tutorial 02\n",
    "        but with the added functionality of real time animation of the phase of\n",
    "        the pendulum.\n",
    "        ###########################################################################\n",
    "        '''\n",
    "        # Reset the simulator.\n",
    "        self.s.reset()\n",
    "\n",
    "        # Await run command.\n",
    "        self.s.await_keypress(key = 'enter')\n",
    "\n",
    "        # Run the simulation loop until done\n",
    "        while(not self.s.is_done):\n",
    "            # Get the pendulum's joint state\n",
    "            state = self.s.get_joint_state(urdf_obj = self.pendulum,\n",
    "                                            joint_name = 'chassis_to_arm')\n",
    "\n",
    "            # Get the angle and angular velocity of the pendulum\n",
    "            angle = 180. * state['position'] / 3.142\n",
    "            angle_vel = 180. * state['velocity'] / 3.142\n",
    "            \n",
    "            # Apply a proportional torque\n",
    "            torque = -angle - 0.01*angle_vel\n",
    "            self.s.set_joint_torque(urdf_obj = self.pendulum,\n",
    "                                    joint_name = 'chassis_to_arm',\n",
    "                                    torque = torque,\n",
    "                                    show_arrow = True,\n",
    "                                    arrow_scale = 0.02,\n",
    "                                    arrow_offset = 0.05)\n",
    "                \n",
    "            '''\n",
    "            #######################################################################\n",
    "            This is how we modify a subplot in real time. Essentially, we \n",
    "            identify which artist of which subplot we would like to draw a \n",
    "            data point, and then we specify that data point. Remember \n",
    "            artist_inds, which is returned by condynsate.simulator.add_subplot,\n",
    "            is ALWAYS A TUPLE. Therefore, you will need to reference which \n",
    "            artist you would like to use, even if there is only one artist.\n",
    "            #######################################################################\n",
    "            '''\n",
    "            # Add (angle, angle_vel) point to subplot self.p via the first artist\n",
    "            self.s.add_subplot_point(subplot_index = self.p, # Draw in subplot p\n",
    "                                     artist_index = self.a[0], # using artist a0\n",
    "                                     x = angle,\n",
    "                                     y = angle_vel)\n",
    "\n",
    "            '''\n",
    "            #######################################################################\n",
    "            As usual, at the bottom of the run function we step the simulation.\n",
    "            #######################################################################\n",
    "            '''\n",
    "            self.s.step(max_time=max_time)"
   ]
  },
  {
   "cell_type": "markdown",
   "id": "420433c6-c1d2-4702-aba4-52295bf753e2",
   "metadata": {},
   "source": [
    "## Running the Project Class"
   ]
  },
  {
   "cell_type": "markdown",
   "id": "da509ec5-56c1-4bc4-a9d0-0db238bd069a",
   "metadata": {},
   "source": [
    "Now that we have made the `Project` class, we can test it by initializing it and then calling the `run` function. Remember to press the enter key to start the simulation and the esc key to end the simulation."
   ]
  },
  {
   "cell_type": "code",
   "execution_count": null,
   "id": "a9461fb2-213e-4b6e-92c0-d0fb1ad00176",
   "metadata": {},
   "outputs": [],
   "source": [
    "# Create an instance of the Project class. \n",
    "proj = Project()\n",
    "\n",
    "# Run the simulation.\n",
    "proj.run(max_time = None)"
   ]
  },
  {
   "cell_type": "markdown",
   "id": "36d1e2de-e3f4-4dfb-a530-766a4420f876",
   "metadata": {},
   "source": [
    "## Challenge"
   ]
  },
  {
   "cell_type": "markdown",
   "id": "5ff6e017-b96d-4668-879d-5ebaf083ae88",
   "metadata": {},
   "source": [
    "This tutorial is now complete. For an additional challenge, think of how you might create another subplot that plots both the angle and angular velocity as a function of time."
   ]
  }
 ],
 "metadata": {
  "kernelspec": {
   "display_name": "Python 3 (ipykernel)",
   "language": "python",
   "name": "python3"
  },
  "language_info": {
   "codemirror_mode": {
    "name": "ipython",
    "version": 3
   },
   "file_extension": ".py",
   "mimetype": "text/x-python",
   "name": "python",
   "nbconvert_exporter": "python",
   "pygments_lexer": "ipython3",
   "version": "3.12.10"
  }
 },
 "nbformat": 4,
 "nbformat_minor": 5
}
